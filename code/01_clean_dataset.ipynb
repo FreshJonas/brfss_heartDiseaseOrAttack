{
 "cells": [
  {
   "cell_type": "markdown",
   "metadata": {
    "id": "2q8hkgwuvTjQ",
    "pycharm": {
     "name": "#%% md\n"
    }
   },
   "source": [
    "### Data Cleaning ###"
   ]
  },
  {
   "cell_type": "code",
   "execution_count": 58,
   "metadata": {
    "id": "6u8mfPODvTjS",
    "pycharm": {
     "name": "#%%\n"
    }
   },
   "outputs": [],
   "source": [
    "import pandas as pd\n",
    "import numpy as np\n",
    "from sklearn.impute import KNNImputer\n",
    "from sklearn.preprocessing import MinMaxScaler"
   ]
  },
  {
   "cell_type": "code",
   "execution_count": 59,
   "metadata": {
    "id": "3-mtfxlBvTjT",
    "outputId": "5f1afda7-799f-4fbe-e807-2633a07f81b7",
    "pycharm": {
     "name": "#%%\n"
    }
   },
   "outputs": [],
   "source": [
    "df_original = pd.read_csv(r'../data/2015.csv')"
   ]
  },
  {
   "cell_type": "code",
   "execution_count": 60,
   "metadata": {
    "id": "Q3i0SrSVvh-0",
    "pycharm": {
     "name": "#%%\n"
    }
   },
   "outputs": [
    {
     "data": {
      "text/html": [
       "<div>\n",
       "<style scoped>\n",
       "    .dataframe tbody tr th:only-of-type {\n",
       "        vertical-align: middle;\n",
       "    }\n",
       "\n",
       "    .dataframe tbody tr th {\n",
       "        vertical-align: top;\n",
       "    }\n",
       "\n",
       "    .dataframe thead th {\n",
       "        text-align: right;\n",
       "    }\n",
       "</style>\n",
       "<table border=\"1\" class=\"dataframe\">\n",
       "  <thead>\n",
       "    <tr style=\"text-align: right;\">\n",
       "      <th></th>\n",
       "      <th>_STATE</th>\n",
       "      <th>FMONTH</th>\n",
       "      <th>IDATE</th>\n",
       "      <th>IMONTH</th>\n",
       "      <th>IDAY</th>\n",
       "      <th>IYEAR</th>\n",
       "      <th>DISPCODE</th>\n",
       "      <th>SEQNO</th>\n",
       "      <th>_PSU</th>\n",
       "      <th>CTELENUM</th>\n",
       "      <th>...</th>\n",
       "      <th>_PAREC1</th>\n",
       "      <th>_PASTAE1</th>\n",
       "      <th>_LMTACT1</th>\n",
       "      <th>_LMTWRK1</th>\n",
       "      <th>_LMTSCL1</th>\n",
       "      <th>_RFSEAT2</th>\n",
       "      <th>_RFSEAT3</th>\n",
       "      <th>_FLSHOT6</th>\n",
       "      <th>_PNEUMO2</th>\n",
       "      <th>_AIDTST3</th>\n",
       "    </tr>\n",
       "  </thead>\n",
       "  <tbody>\n",
       "    <tr>\n",
       "      <th>0</th>\n",
       "      <td>1.0</td>\n",
       "      <td>1.0</td>\n",
       "      <td>b'01292015'</td>\n",
       "      <td>b'01'</td>\n",
       "      <td>b'29'</td>\n",
       "      <td>b'2015'</td>\n",
       "      <td>1200.0</td>\n",
       "      <td>2.015000e+09</td>\n",
       "      <td>2.015000e+09</td>\n",
       "      <td>1.0</td>\n",
       "      <td>...</td>\n",
       "      <td>4.0</td>\n",
       "      <td>2.0</td>\n",
       "      <td>1.0</td>\n",
       "      <td>1.0</td>\n",
       "      <td>1.0</td>\n",
       "      <td>1.0</td>\n",
       "      <td>1.0</td>\n",
       "      <td>NaN</td>\n",
       "      <td>NaN</td>\n",
       "      <td>1.0</td>\n",
       "    </tr>\n",
       "    <tr>\n",
       "      <th>1</th>\n",
       "      <td>1.0</td>\n",
       "      <td>1.0</td>\n",
       "      <td>b'01202015'</td>\n",
       "      <td>b'01'</td>\n",
       "      <td>b'20'</td>\n",
       "      <td>b'2015'</td>\n",
       "      <td>1100.0</td>\n",
       "      <td>2.015000e+09</td>\n",
       "      <td>2.015000e+09</td>\n",
       "      <td>1.0</td>\n",
       "      <td>...</td>\n",
       "      <td>2.0</td>\n",
       "      <td>2.0</td>\n",
       "      <td>3.0</td>\n",
       "      <td>3.0</td>\n",
       "      <td>4.0</td>\n",
       "      <td>2.0</td>\n",
       "      <td>2.0</td>\n",
       "      <td>NaN</td>\n",
       "      <td>NaN</td>\n",
       "      <td>2.0</td>\n",
       "    </tr>\n",
       "    <tr>\n",
       "      <th>2</th>\n",
       "      <td>1.0</td>\n",
       "      <td>1.0</td>\n",
       "      <td>b'02012015'</td>\n",
       "      <td>b'02'</td>\n",
       "      <td>b'01'</td>\n",
       "      <td>b'2015'</td>\n",
       "      <td>1200.0</td>\n",
       "      <td>2.015000e+09</td>\n",
       "      <td>2.015000e+09</td>\n",
       "      <td>1.0</td>\n",
       "      <td>...</td>\n",
       "      <td>9.0</td>\n",
       "      <td>9.0</td>\n",
       "      <td>9.0</td>\n",
       "      <td>9.0</td>\n",
       "      <td>9.0</td>\n",
       "      <td>9.0</td>\n",
       "      <td>9.0</td>\n",
       "      <td>9.0</td>\n",
       "      <td>9.0</td>\n",
       "      <td>NaN</td>\n",
       "    </tr>\n",
       "    <tr>\n",
       "      <th>3</th>\n",
       "      <td>1.0</td>\n",
       "      <td>1.0</td>\n",
       "      <td>b'01142015'</td>\n",
       "      <td>b'01'</td>\n",
       "      <td>b'14'</td>\n",
       "      <td>b'2015'</td>\n",
       "      <td>1100.0</td>\n",
       "      <td>2.015000e+09</td>\n",
       "      <td>2.015000e+09</td>\n",
       "      <td>1.0</td>\n",
       "      <td>...</td>\n",
       "      <td>4.0</td>\n",
       "      <td>2.0</td>\n",
       "      <td>1.0</td>\n",
       "      <td>1.0</td>\n",
       "      <td>1.0</td>\n",
       "      <td>1.0</td>\n",
       "      <td>1.0</td>\n",
       "      <td>NaN</td>\n",
       "      <td>NaN</td>\n",
       "      <td>9.0</td>\n",
       "    </tr>\n",
       "    <tr>\n",
       "      <th>4</th>\n",
       "      <td>1.0</td>\n",
       "      <td>1.0</td>\n",
       "      <td>b'01142015'</td>\n",
       "      <td>b'01'</td>\n",
       "      <td>b'14'</td>\n",
       "      <td>b'2015'</td>\n",
       "      <td>1100.0</td>\n",
       "      <td>2.015000e+09</td>\n",
       "      <td>2.015000e+09</td>\n",
       "      <td>1.0</td>\n",
       "      <td>...</td>\n",
       "      <td>4.0</td>\n",
       "      <td>2.0</td>\n",
       "      <td>1.0</td>\n",
       "      <td>1.0</td>\n",
       "      <td>1.0</td>\n",
       "      <td>1.0</td>\n",
       "      <td>1.0</td>\n",
       "      <td>NaN</td>\n",
       "      <td>NaN</td>\n",
       "      <td>1.0</td>\n",
       "    </tr>\n",
       "  </tbody>\n",
       "</table>\n",
       "<p>5 rows × 330 columns</p>\n",
       "</div>"
      ],
      "text/plain": [
       "   _STATE  FMONTH        IDATE IMONTH   IDAY    IYEAR  DISPCODE         SEQNO  \\\n",
       "0     1.0     1.0  b'01292015'  b'01'  b'29'  b'2015'    1200.0  2.015000e+09   \n",
       "1     1.0     1.0  b'01202015'  b'01'  b'20'  b'2015'    1100.0  2.015000e+09   \n",
       "2     1.0     1.0  b'02012015'  b'02'  b'01'  b'2015'    1200.0  2.015000e+09   \n",
       "3     1.0     1.0  b'01142015'  b'01'  b'14'  b'2015'    1100.0  2.015000e+09   \n",
       "4     1.0     1.0  b'01142015'  b'01'  b'14'  b'2015'    1100.0  2.015000e+09   \n",
       "\n",
       "           _PSU  CTELENUM  ...  _PAREC1  _PASTAE1  _LMTACT1  _LMTWRK1  \\\n",
       "0  2.015000e+09       1.0  ...      4.0       2.0       1.0       1.0   \n",
       "1  2.015000e+09       1.0  ...      2.0       2.0       3.0       3.0   \n",
       "2  2.015000e+09       1.0  ...      9.0       9.0       9.0       9.0   \n",
       "3  2.015000e+09       1.0  ...      4.0       2.0       1.0       1.0   \n",
       "4  2.015000e+09       1.0  ...      4.0       2.0       1.0       1.0   \n",
       "\n",
       "   _LMTSCL1  _RFSEAT2  _RFSEAT3  _FLSHOT6  _PNEUMO2  _AIDTST3  \n",
       "0       1.0       1.0       1.0       NaN       NaN       1.0  \n",
       "1       4.0       2.0       2.0       NaN       NaN       2.0  \n",
       "2       9.0       9.0       9.0       9.0       9.0       NaN  \n",
       "3       1.0       1.0       1.0       NaN       NaN       9.0  \n",
       "4       1.0       1.0       1.0       NaN       NaN       1.0  \n",
       "\n",
       "[5 rows x 330 columns]"
      ]
     },
     "execution_count": 60,
     "metadata": {},
     "output_type": "execute_result"
    }
   ],
   "source": [
    "df_original.head()"
   ]
  },
  {
   "cell_type": "code",
   "execution_count": 61,
   "metadata": {
    "id": "__JzPjN7vjhU",
    "pycharm": {
     "name": "#%%\n"
    }
   },
   "outputs": [
    {
     "data": {
      "text/plain": [
       "(441456, 330)"
      ]
     },
     "execution_count": 61,
     "metadata": {},
     "output_type": "execute_result"
    }
   ],
   "source": [
    "df_original.shape"
   ]
  },
  {
   "cell_type": "markdown",
   "metadata": {
    "id": "TYXHeIINvpbU",
    "pycharm": {
     "name": "#%% md\n"
    }
   },
   "source": [
    "# Feature Selection"
   ]
  },
  {
   "cell_type": "markdown",
   "metadata": {
    "id": "TLwsAE7kfZct",
    "pycharm": {
     "name": "#%% md\n"
    }
   },
   "source": [
    "\n",
    "Because our database is very large, we have reduced the number of features to obtain more understandable results when using simpler algorithms like the KNN. To do this, a brief research on the internet was done to identify the risk factors according to the opinion of the experts. The main sources were the United Kingdom National Health Service (NHS - [link](https://www.nhs.uk/conditions/cardiovascular-disease/)), the Center for Disease Control and Prevention (CDC - [link](https://www.cdc.gov/heartdisease/risk_factors.htm)) and the World Health Organization (WHO - [link](https://www.who.int/news-room/fact-sheets/detail/cardiovascular-diseases-(cvds))).\n",
    "\n",
    "According to our researched, the following risks were selected:\n",
    "1. **blood pressure (high)** code as _RFHYPE5\n",
    "2. **cholesterol (high)** code as _TOLDHI2\n",
    "3. **overweigh**t code as BMI5\n",
    "4. **smoking** code as SMOKE100\n",
    "5. **diabetes** code as DIABETE3\n",
    "6. **fruit consumption** as _FRTLT1\n",
    "7. **vegetables consuption** code as _VEGLT1\n",
    "8. **alcohol consumption** code as _RFDRHV5 \n",
    "9. **inactivity** code as _TOTINDA \n",
    "10. **age** code as _AGEG5YR\n",
    "11. **gender** code as SEX\n",
    "12. **targer heart disease** code as _MICHD"
   ]
  },
  {
   "cell_type": "code",
   "execution_count": 62,
   "metadata": {
    "colab": {
     "base_uri": "https://localhost:8080/",
     "height": 236
    },
    "executionInfo": {
     "elapsed": 266,
     "status": "error",
     "timestamp": 1654694547449,
     "user": {
      "displayName": "Violeta Garcia Espin",
      "userId": "04637016062002400323"
     },
     "user_tz": -120
    },
    "id": "Kjse31WavTjU",
    "outputId": "40fa0735-754a-45ad-cbc1-cd042c2a260c",
    "pycharm": {
     "name": "#%%\n"
    }
   },
   "outputs": [],
   "source": [
    "# select specific columns\n",
    "df = df_original[[\n",
    "        '_MICHD', \n",
    "        '_RFHYPE5',  \n",
    "        'TOLDHI2',\n",
    "        '_BMI5', \n",
    "        'SMOKE100', \n",
    "        'DIABETE3', \n",
    "        '_TOTINDA', \n",
    "        '_FRTLT1', \n",
    "        '_VEGLT1', \n",
    "        '_RFDRHV5', \n",
    "        'SEX', \n",
    "        '_AGEG5YR' ]]\n"
   ]
  },
  {
   "cell_type": "markdown",
   "metadata": {
    "id": "0JY41SEX4qN7",
    "pycharm": {
     "name": "#%% md\n"
    }
   },
   "source": [
    "**Rename columns to make more readable**"
   ]
  },
  {
   "cell_type": "code",
   "execution_count": 63,
   "metadata": {
    "id": "Ik-nWHQhyMLK",
    "pycharm": {
     "name": "#%%\n"
    }
   },
   "outputs": [
    {
     "data": {
      "text/html": [
       "<div>\n",
       "<style scoped>\n",
       "    .dataframe tbody tr th:only-of-type {\n",
       "        vertical-align: middle;\n",
       "    }\n",
       "\n",
       "    .dataframe tbody tr th {\n",
       "        vertical-align: top;\n",
       "    }\n",
       "\n",
       "    .dataframe thead th {\n",
       "        text-align: right;\n",
       "    }\n",
       "</style>\n",
       "<table border=\"1\" class=\"dataframe\">\n",
       "  <thead>\n",
       "    <tr style=\"text-align: right;\">\n",
       "      <th></th>\n",
       "      <th>HeartDiseaseorAttack</th>\n",
       "      <th>HighBP</th>\n",
       "      <th>HighChol</th>\n",
       "      <th>BMI</th>\n",
       "      <th>Smoker</th>\n",
       "      <th>Diabetes</th>\n",
       "      <th>PhysActivity</th>\n",
       "      <th>Fruits</th>\n",
       "      <th>Veggies</th>\n",
       "      <th>HvyAlcoholConsump</th>\n",
       "      <th>SexIsMale</th>\n",
       "      <th>AgeGroup</th>\n",
       "    </tr>\n",
       "  </thead>\n",
       "  <tbody>\n",
       "    <tr>\n",
       "      <th>0</th>\n",
       "      <td>2.0</td>\n",
       "      <td>2.0</td>\n",
       "      <td>1.0</td>\n",
       "      <td>4018.0</td>\n",
       "      <td>1.0</td>\n",
       "      <td>3.0</td>\n",
       "      <td>2.0</td>\n",
       "      <td>2.0</td>\n",
       "      <td>1.0</td>\n",
       "      <td>1.0</td>\n",
       "      <td>2.0</td>\n",
       "      <td>9.0</td>\n",
       "    </tr>\n",
       "    <tr>\n",
       "      <th>1</th>\n",
       "      <td>2.0</td>\n",
       "      <td>1.0</td>\n",
       "      <td>2.0</td>\n",
       "      <td>2509.0</td>\n",
       "      <td>1.0</td>\n",
       "      <td>3.0</td>\n",
       "      <td>1.0</td>\n",
       "      <td>2.0</td>\n",
       "      <td>2.0</td>\n",
       "      <td>1.0</td>\n",
       "      <td>2.0</td>\n",
       "      <td>7.0</td>\n",
       "    </tr>\n",
       "    <tr>\n",
       "      <th>2</th>\n",
       "      <td>NaN</td>\n",
       "      <td>1.0</td>\n",
       "      <td>1.0</td>\n",
       "      <td>2204.0</td>\n",
       "      <td>NaN</td>\n",
       "      <td>3.0</td>\n",
       "      <td>9.0</td>\n",
       "      <td>9.0</td>\n",
       "      <td>9.0</td>\n",
       "      <td>9.0</td>\n",
       "      <td>2.0</td>\n",
       "      <td>11.0</td>\n",
       "    </tr>\n",
       "    <tr>\n",
       "      <th>3</th>\n",
       "      <td>2.0</td>\n",
       "      <td>2.0</td>\n",
       "      <td>1.0</td>\n",
       "      <td>2819.0</td>\n",
       "      <td>2.0</td>\n",
       "      <td>3.0</td>\n",
       "      <td>2.0</td>\n",
       "      <td>1.0</td>\n",
       "      <td>2.0</td>\n",
       "      <td>1.0</td>\n",
       "      <td>2.0</td>\n",
       "      <td>9.0</td>\n",
       "    </tr>\n",
       "    <tr>\n",
       "      <th>4</th>\n",
       "      <td>2.0</td>\n",
       "      <td>1.0</td>\n",
       "      <td>2.0</td>\n",
       "      <td>2437.0</td>\n",
       "      <td>2.0</td>\n",
       "      <td>3.0</td>\n",
       "      <td>2.0</td>\n",
       "      <td>9.0</td>\n",
       "      <td>1.0</td>\n",
       "      <td>1.0</td>\n",
       "      <td>2.0</td>\n",
       "      <td>9.0</td>\n",
       "    </tr>\n",
       "  </tbody>\n",
       "</table>\n",
       "</div>"
      ],
      "text/plain": [
       "   HeartDiseaseorAttack  HighBP  HighChol     BMI  Smoker  Diabetes  \\\n",
       "0                   2.0     2.0       1.0  4018.0     1.0       3.0   \n",
       "1                   2.0     1.0       2.0  2509.0     1.0       3.0   \n",
       "2                   NaN     1.0       1.0  2204.0     NaN       3.0   \n",
       "3                   2.0     2.0       1.0  2819.0     2.0       3.0   \n",
       "4                   2.0     1.0       2.0  2437.0     2.0       3.0   \n",
       "\n",
       "   PhysActivity  Fruits  Veggies  HvyAlcoholConsump  SexIsMale  AgeGroup  \n",
       "0           2.0     2.0      1.0                1.0        2.0       9.0  \n",
       "1           1.0     2.0      2.0                1.0        2.0       7.0  \n",
       "2           9.0     9.0      9.0                9.0        2.0      11.0  \n",
       "3           2.0     1.0      2.0                1.0        2.0       9.0  \n",
       "4           2.0     9.0      1.0                1.0        2.0       9.0  "
      ]
     },
     "execution_count": 63,
     "metadata": {},
     "output_type": "execute_result"
    }
   ],
   "source": [
    "# rename columns\n",
    "df = df.rename(columns = {\n",
    "                '_MICHD':'HeartDiseaseorAttack', \n",
    "                '_RFHYPE5':'HighBP',  \n",
    "                'TOLDHI2':'HighChol', \n",
    "                '_BMI5':'BMI', \n",
    "                'SMOKE100':'Smoker', \n",
    "                'DIABETE3':'Diabetes', \n",
    "                '_TOTINDA':'PhysActivity', \n",
    "                '_FRTLT1':'Fruits', \n",
    "                '_VEGLT1':\"Veggies\", \n",
    "                '_RFDRHV5':'HvyAlcoholConsump', \n",
    "                'SEX':'SexIsMale', \n",
    "                '_AGEG5YR':'AgeGroup'})\n",
    "                \n",
    "df.head()"
   ]
  },
  {
   "cell_type": "markdown",
   "metadata": {
    "id": "gChaqwDWg48P",
    "pycharm": {
     "name": "#%% md\n"
    }
   },
   "source": [
    "# Handling individual features"
   ]
  },
  {
   "cell_type": "markdown",
   "metadata": {
    "id": "_Twiu1JjiNwW",
    "pycharm": {
     "name": "#%% md\n"
    }
   },
   "source": [
    "In this section we will analyze each feature's labels following the information in the codebook. Since we still want to create a dataset with imputed data, we will modify both datasets df and df_droppedNaN"
   ]
  },
  {
   "cell_type": "markdown",
   "metadata": {
    "id": "XFHEZnZ3hLBe",
    "pycharm": {
     "name": "#%% md\n"
    }
   },
   "source": [
    "## Target: HeartDisease (_MICHD)"
   ]
  },
  {
   "cell_type": "markdown",
   "metadata": {
    "id": "_WexGdNOimi-",
    "pycharm": {
     "name": "#%% md\n"
    }
   },
   "source": [
    "Respondents that have ever reported having coronary heart disease (CHD) or myocardial infarction (MI). \n",
    "\n",
    "**Labels:**\n",
    "* 1: Reported have CHD or MI.\n",
    "* 2: Did not report having CHD or MI.\n",
    "\n",
    "For logic purposes, label 2 will be substitute by 0. "
   ]
  },
  {
   "cell_type": "code",
   "execution_count": 64,
   "metadata": {
    "id": "AkAqxwzqy6ka",
    "pycharm": {
     "name": "#%%\n"
    }
   },
   "outputs": [],
   "source": [
    "# HeartDiseaseorAttack (target)\n",
    "df['HeartDiseaseorAttack'] = df['HeartDiseaseorAttack'].replace({2:0})"
   ]
  },
  {
   "cell_type": "markdown",
   "metadata": {
    "id": "tK-kJAfyy_kC",
    "pycharm": {
     "name": "#%% md\n"
    }
   },
   "source": [
    "## Feature: HighBP (_RFHYPE5)"
   ]
  },
  {
   "cell_type": "markdown",
   "metadata": {
    "id": "yzfEr923lrPq",
    "pycharm": {
     "name": "#%% md\n"
    }
   },
   "source": [
    "Adults who have been told they have high blood pressure by a doctor, nurse, or other health professional. \n",
    "\n",
    "**Labels:**\n",
    "* 1: No\n",
    "* 2: Yes\n",
    "* 9: Don't know\n",
    "\n",
    "For logic purposes, label 1 will be substitute by 0 and label 2 by 1. "
   ]
  },
  {
   "cell_type": "code",
   "execution_count": 65,
   "metadata": {
    "pycharm": {
     "name": "#%%\n"
    }
   },
   "outputs": [],
   "source": [
    "# HighBP\n",
    "df['HighBP'] = df['HighBP'].replace({9:np.nan})\n",
    "df['HighBP'] = df['HighBP'].replace({1:0})\n",
    "df['HighBP'] = df['HighBP'].replace({2:1})"
   ]
  },
  {
   "cell_type": "markdown",
   "metadata": {
    "id": "tK-kJAfyy_kC",
    "pycharm": {
     "name": "#%% md\n"
    }
   },
   "source": [
    "## Feature: HighChol (TOLDHI2)"
   ]
  },
  {
   "cell_type": "markdown",
   "metadata": {
    "id": "yzfEr923lrPq",
    "pycharm": {
     "name": "#%% md\n"
    }
   },
   "source": [
    "Adults who have been told by a doctor, nurse or other health professional that their blood cholesterol is high\n",
    "\n",
    "**Labels:**\n",
    "* 1: Yes\n",
    "* 2: No\n",
    "* 7: Don't know\n",
    "* 9: Refused\n",
    "\n",
    "For logic purposes, label 1 will be substitute by 0 and label 2 by 1. "
   ]
  },
  {
   "cell_type": "code",
   "execution_count": 66,
   "metadata": {
    "id": "Wr0YiJEqzLsj",
    "pycharm": {
     "name": "#%%\n"
    }
   },
   "outputs": [],
   "source": [
    "# HighChol\n",
    "df['HighChol'] = df['HighChol'].replace({7:np.nan})\n",
    "df['HighChol'] = df['HighChol'].replace({9:np.nan})\n",
    "df['HighChol'] = df['HighChol'].replace({2:0})"
   ]
  },
  {
   "cell_type": "markdown",
   "metadata": {
    "id": "9I61zlSlzN86",
    "pycharm": {
     "name": "#%% md\n"
    }
   },
   "source": [
    "## Feature BMI"
   ]
  },
  {
   "cell_type": "markdown",
   "metadata": {
    "id": "iivsdsIeztBK",
    "pycharm": {
     "name": "#%% md\n"
    }
   },
   "source": [
    "Body Mass Index (BMI). "
   ]
  },
  {
   "cell_type": "code",
   "execution_count": 37,
   "metadata": {
    "id": "ew7CW055z1Fi",
    "pycharm": {
     "name": "#%%\n"
    }
   },
   "outputs": [],
   "source": [
    "# nothing to be done here"
   ]
  },
  {
   "cell_type": "markdown",
   "metadata": {
    "id": "S6A0V8iyz7jy",
    "pycharm": {
     "name": "#%% md\n"
    }
   },
   "source": [
    "## Feature Smoker (SMOKE100) "
   ]
  },
  {
   "cell_type": "markdown",
   "metadata": {
    "id": "nNntgOIA0SB0",
    "pycharm": {
     "name": "#%% md\n"
    }
   },
   "source": [
    "\n",
    "People that have smoked at least 100 cigarettes in their entire life.  \n",
    "\n",
    "**Labels:**\n",
    "* 1: yes\n",
    "* 2: No\n",
    "* 7: Don't know\n",
    "* 9: refuse to answer\n",
    "\n",
    "Label 2 will be substitute by 0 and label 7 and 9 will be deleted. "
   ]
  },
  {
   "cell_type": "code",
   "execution_count": 68,
   "metadata": {
    "id": "Lk5S5j0M0cfR",
    "pycharm": {
     "name": "#%%\n"
    }
   },
   "outputs": [],
   "source": [
    "# Smoker\n",
    "df['Smoker'] = df['Smoker'].replace({7:np.nan})\n",
    "df['Smoker'] = df['Smoker'].replace({9:np.nan})\n",
    "df['Smoker'] = df['Smoker'].replace({2:0})"
   ]
  },
  {
   "cell_type": "markdown",
   "metadata": {
    "id": "MO8cSMg70oMN",
    "pycharm": {
     "name": "#%% md\n"
    }
   },
   "source": [
    "## Feature Diabetes (DIABETE3)"
   ]
  },
  {
   "cell_type": "markdown",
   "metadata": {
    "id": "4ph0amCT0_Iy",
    "pycharm": {
     "name": "#%% md\n"
    }
   },
   "source": [
    "\n",
    "People that have been told to suffer from diabetes.  \n",
    "\n",
    "**Labels:**\n",
    "* 1: yes\n",
    "* 2: yes but only during pregnancy\n",
    "* 3: no\n",
    "* 4: pre-diabetes or borderline diabetes. \n",
    "* 7: Don't know\n",
    "* 9: refuse to answer\n",
    "\n",
    "We will just consider yes(1) or no (3) answers. To simplify, the rest of the options will be deleted. "
   ]
  },
  {
   "cell_type": "code",
   "execution_count": 69,
   "metadata": {
    "id": "uvcWFzFv1OUB",
    "pycharm": {
     "name": "#%%\n"
    }
   },
   "outputs": [],
   "source": [
    "# Diabetes\n",
    "df['Diabetes'] = df['Diabetes'].replace({2:np.nan})\n",
    "df['Diabetes'] = df['Diabetes'].replace({4:np.nan})\n",
    "df['Diabetes'] = df['Diabetes'].replace({7:np.nan})\n",
    "df['Diabetes'] = df['Diabetes'].replace({9:np.nan})\n",
    "df['Diabetes'] = df['Diabetes'].replace({3:0})"
   ]
  },
  {
   "cell_type": "markdown",
   "metadata": {
    "id": "T83Siy_51gv5",
    "pycharm": {
     "name": "#%% md\n"
    }
   },
   "source": [
    "## Feature: Physical Activity (_TOTINDA)"
   ]
  },
  {
   "cell_type": "markdown",
   "metadata": {
    "id": "CGqsyLvA12Ku",
    "pycharm": {
     "name": "#%% md\n"
    }
   },
   "source": [
    "\n",
    "Adults who reported doing physical activity or exercise during the past 30days other than their regular job. \n",
    "\n",
    "**Labels:**\n",
    "* 1: yes\n",
    "* 2: no\n",
    "* 9: don't know or refuse to answer. \n",
    "\n",
    "Label 2 will be substitute by 0 and label 9 will be deleted.  "
   ]
  },
  {
   "cell_type": "code",
   "execution_count": 70,
   "metadata": {
    "id": "deLtunh82N4i",
    "pycharm": {
     "name": "#%%\n"
    }
   },
   "outputs": [],
   "source": [
    "# PhysActivity\n",
    "df['PhysActivity'] = df['PhysActivity'].replace({2:0})\n",
    "df['PhysActivity'] = df['PhysActivity'].replace({9:np.nan})"
   ]
  },
  {
   "cell_type": "markdown",
   "metadata": {
    "id": "cYbGzlzh2Yjq",
    "pycharm": {
     "name": "#%% md\n"
    }
   },
   "source": [
    "## Feature: Fruit consumption (_FRTLT1)"
   ]
  },
  {
   "cell_type": "markdown",
   "metadata": {
    "id": "c_B3vRYr2kwR",
    "pycharm": {
     "name": "#%% md\n"
    }
   },
   "source": [
    "Consume Fruit 1 or more times per day. \n",
    "\n",
    "\n",
    "**Labels:**\n",
    "* 1: yes\n",
    "* 2: no\n",
    "* 9: don't know or refuse to answer. \n",
    "\n",
    "Label 2 will be substitute by 0 and label 9 will be deleted.  "
   ]
  },
  {
   "cell_type": "code",
   "execution_count": 71,
   "metadata": {
    "id": "-jViJZN13BkN",
    "pycharm": {
     "name": "#%%\n"
    }
   },
   "outputs": [],
   "source": [
    "# Fruits\n",
    "df['Fruits'] = df['Fruits'].replace({2:0})\n",
    "df['Fruits'] = df['Fruits'].replace({9:np.nan})"
   ]
  },
  {
   "cell_type": "markdown",
   "metadata": {
    "id": "jOtv7nuR3mro",
    "pycharm": {
     "name": "#%% md\n"
    }
   },
   "source": [
    "## Feature: Veggies (_VEGLT1)"
   ]
  },
  {
   "cell_type": "markdown",
   "metadata": {
    "id": "6jg8t3Qu35df",
    "pycharm": {
     "name": "#%% md\n"
    }
   },
   "source": [
    "People consume vegetables 1 or more times per day. \n",
    "\n",
    "\n",
    "**Labels:**\n",
    "* 1: yes\n",
    "* 2: no\n",
    "* 9: don't know or refuse to answer. \n",
    "\n",
    "Label 2 will be substitute by 0 and label 9 will be deleted.  "
   ]
  },
  {
   "cell_type": "code",
   "execution_count": 72,
   "metadata": {
    "id": "bLl8bxZB4IoT",
    "pycharm": {
     "name": "#%%\n"
    }
   },
   "outputs": [],
   "source": [
    "# Veggies\n",
    "df['Veggies'] = df['Veggies'].replace({2:0})\n",
    "df['Veggies'] = df['Veggies'].replace({9:np.nan})"
   ]
  },
  {
   "cell_type": "markdown",
   "metadata": {
    "id": "T_10Wmh54L1D",
    "pycharm": {
     "name": "#%% md\n"
    }
   },
   "source": [
    "## Feature: Alcohol consumption (_RFDRHV5)"
   ]
  },
  {
   "cell_type": "markdown",
   "metadata": {
    "id": "35QRyTk_4ZJs",
    "pycharm": {
     "name": "#%% md\n"
    }
   },
   "source": [
    "Adult men having more than 14 drinks per week and adult women having more than 7 drinks per week. \n",
    "\n",
    "**Labels:**\n",
    "* 1: no\n",
    "* 2: yes\n",
    "* 9: don't know or refuse to answer. \n",
    "\n",
    "Label 1 will be substitute by 0, label 2 by 1, and label 9 will be deleted.  "
   ]
  },
  {
   "cell_type": "code",
   "execution_count": 73,
   "metadata": {
    "id": "keQIhiaI4lqR",
    "pycharm": {
     "name": "#%%\n"
    }
   },
   "outputs": [],
   "source": [
    "# HvyAlcoholConsump\n",
    "df['HvyAlcoholConsump'] = df['HvyAlcoholConsump'].replace({1:0})\n",
    "df['HvyAlcoholConsump'] = df['HvyAlcoholConsump'].replace({2:1})\n",
    "df['HvyAlcoholConsump'] = df['HvyAlcoholConsump'].replace({9:np.nan})"
   ]
  },
  {
   "cell_type": "markdown",
   "metadata": {
    "id": "bTIVwf174_8A",
    "pycharm": {
     "name": "#%% md\n"
    }
   },
   "source": [
    "## Feature: gender (sex)"
   ]
  },
  {
   "cell_type": "markdown",
   "metadata": {
    "id": "x1wl4pfK5aan",
    "pycharm": {
     "name": "#%% md\n"
    }
   },
   "source": [
    "Indicate the gender of respondent. \n",
    "\n",
    "**Labels:**\n",
    "* 1: male\n",
    "* 2: female\n",
    "\n",
    "Label 2 will be substitute by 0.  "
   ]
  },
  {
   "cell_type": "code",
   "execution_count": 74,
   "metadata": {
    "id": "h8x1wGEv5pFO",
    "pycharm": {
     "name": "#%%\n"
    }
   },
   "outputs": [],
   "source": [
    "# SexIsMale\n",
    "df['SexIsMale'] = df['SexIsMale'].replace({2:0})"
   ]
  },
  {
   "cell_type": "markdown",
   "metadata": {
    "id": "2Q_Li-g659tw",
    "pycharm": {
     "name": "#%% md\n"
    }
   },
   "source": [
    "## Feature: age group (_AGEG5YR)"
   ]
  },
  {
   "cell_type": "markdown",
   "metadata": {
    "id": "_RxDSCtI6Ahe",
    "pycharm": {
     "name": "#%% md\n"
    }
   },
   "source": [
    "There are 14- level age categories \n",
    "\n",
    "**Labels:**\n",
    "* 1: 18 to 24 years\n",
    "* 2: 25 to 29 years\n",
    "* 3: 30 to 34 years\n",
    "* 4: 35 to 39 years\n",
    "* 5: 40 to 44 years\n",
    "* 6: 45 to 49 years\n",
    "* 7: 50 to 54 years\n",
    "* 8: 55 to 59 years\n",
    "* 9: 60 to 64 years\n",
    "* 10: 65 to 69 years\n",
    "* 11: 70 to 74 years\n",
    "* 12: 75 to 79 years\n",
    "* 13: 80 or older\n",
    "* 14: don't know or refuse answering\n",
    "\n",
    "Label 14 will be deleted. "
   ]
  },
  {
   "cell_type": "code",
   "execution_count": 75,
   "metadata": {
    "id": "U_Y5qdvk69fQ",
    "pycharm": {
     "name": "#%%\n"
    }
   },
   "outputs": [],
   "source": [
    "# AgeGroup\n",
    "df['AgeGroup'] = df['AgeGroup'].replace({14:np.nan})"
   ]
  },
  {
   "cell_type": "markdown",
   "metadata": {
    "id": "JDm3sazm7Fkf",
    "pycharm": {
     "name": "#%% md\n"
    }
   },
   "source": [
    "# Handling missing values"
   ]
  },
  {
   "cell_type": "markdown",
   "metadata": {
    "id": "iJP7FhF9sTyF",
    "pycharm": {
     "name": "#%% md\n"
    }
   },
   "source": [
    "First we check how much percentage of the data is missing."
   ]
  },
  {
   "cell_type": "code",
   "execution_count": 76,
   "metadata": {
    "colab": {
     "base_uri": "https://localhost:8080/"
    },
    "executionInfo": {
     "elapsed": 17,
     "status": "ok",
     "timestamp": 1654629147463,
     "user": {
      "displayName": "Violeta Garcia Espin",
      "userId": "04637016062002400323"
     },
     "user_tz": -120
    },
    "id": "7eJ0-5wava4l",
    "outputId": "d6836ba9-71b8-4864-da49-35726f46fe5c",
    "pycharm": {
     "name": "#%%\n"
    }
   },
   "outputs": [
    {
     "name": "stdout",
     "output_type": "stream",
     "text": [
      "5.62\n"
     ]
    }
   ],
   "source": [
    "print(round((((df.isnull().sum()).sum() / np.product(df.shape)) * 100), 2))"
   ]
  },
  {
   "cell_type": "markdown",
   "metadata": {
    "id": "Lfbax6qxwCl7",
    "pycharm": {
     "name": "#%% md\n"
    }
   },
   "source": [
    "We check then, which columns have the highest percentage of missing values. "
   ]
  },
  {
   "cell_type": "code",
   "execution_count": 77,
   "metadata": {
    "colab": {
     "base_uri": "https://localhost:8080/"
    },
    "executionInfo": {
     "elapsed": 16,
     "status": "ok",
     "timestamp": 1654629147464,
     "user": {
      "displayName": "Violeta Garcia Espin",
      "userId": "04637016062002400323"
     },
     "user_tz": -120
    },
    "id": "5p1ahTm2vv6V",
    "outputId": "8f9cf700-f443-471c-8e77-5adf003554c1",
    "pycharm": {
     "name": "#%%\n"
    }
   },
   "outputs": [
    {
     "name": "stdout",
     "output_type": "stream",
     "text": [
      "HeartDiseaseorAttack     3942\n",
      "HighBP                   1367\n",
      "HighChol                62715\n",
      "BMI                     36398\n",
      "Smoker                  17549\n",
      "Diabetes                12096\n",
      "PhysActivity            37992\n",
      "Fruits                  43711\n",
      "Veggies                 51117\n",
      "HvyAlcoholConsump       25733\n",
      "SexIsMale                   0\n",
      "AgeGroup                 5336\n",
      "dtype: int64\n"
     ]
    }
   ],
   "source": [
    "print(df.isnull().sum())"
   ]
  },
  {
   "cell_type": "markdown",
   "metadata": {
    "id": "q77gbhZT7VuP",
    "pycharm": {
     "name": "#%% md\n"
    }
   },
   "source": [
    "Missing values can be handle with one of the following options:\n",
    "\n",
    "1. Invest more in data collection: This option is not possible for us due to time-limitations and out of scope responsabilities.\n",
    "2. Data exclusion: Remove rows with missing data.\n",
    "3. Data imputation: Replace values by artificial new data.\n",
    "4. Just leave the missing values: Not recommended.\n",
    "\n",
    "According to the slides from our class (Block05-06 page 25), we should never impute the target variable in supervised learning. Therefore, we have decided to delete all rows with a missing target value (HeartDisease). "
   ]
  },
  {
   "cell_type": "code",
   "execution_count": 78,
   "metadata": {
    "colab": {
     "base_uri": "https://localhost:8080/"
    },
    "executionInfo": {
     "elapsed": 16,
     "status": "ok",
     "timestamp": 1654629147465,
     "user": {
      "displayName": "Violeta Garcia Espin",
      "userId": "04637016062002400323"
     },
     "user_tz": -120
    },
    "id": "rnK3L-4AXmzM",
    "outputId": "a350f235-04be-44c8-e63c-71689a56e382",
    "pycharm": {
     "name": "#%%\n"
    }
   },
   "outputs": [
    {
     "name": "stdout",
     "output_type": "stream",
     "text": [
      "HeartDiseaseorAttack        0\n",
      "HighBP                   1232\n",
      "HighChol                61973\n",
      "BMI                     35929\n",
      "Smoker                  17257\n",
      "Diabetes                11772\n",
      "PhysActivity            37500\n",
      "Fruits                  43018\n",
      "Veggies                 50292\n",
      "HvyAlcoholConsump       25340\n",
      "SexIsMale                   0\n",
      "AgeGroup                 5200\n",
      "dtype: int64\n"
     ]
    }
   ],
   "source": [
    "# We dropped all rows whose value for HeartDisease is Nan. Or better explain, we keep all the rows that have a value that is not NaN\n",
    "df = df[df['HeartDiseaseorAttack'].notna()]\n",
    "print(df.isnull().sum())"
   ]
  },
  {
   "cell_type": "code",
   "execution_count": 79,
   "metadata": {
    "colab": {
     "base_uri": "https://localhost:8080/"
    },
    "executionInfo": {
     "elapsed": 14,
     "status": "ok",
     "timestamp": 1654629147465,
     "user": {
      "displayName": "Violeta Garcia Espin",
      "userId": "04637016062002400323"
     },
     "user_tz": -120
    },
    "id": "anLwHJX6Ze4T",
    "outputId": "413a35e2-8ea8-4fcd-a04d-5eb185166893",
    "pycharm": {
     "name": "#%%\n"
    }
   },
   "outputs": [
    {
     "data": {
      "text/plain": [
       "(437514, 12)"
      ]
     },
     "execution_count": 79,
     "metadata": {},
     "output_type": "execute_result"
    }
   ],
   "source": [
    "df.shape"
   ]
  },
  {
   "cell_type": "markdown",
   "metadata": {
    "id": "yc91wtVSdVsB",
    "pycharm": {
     "name": "#%% md\n"
    }
   },
   "source": [
    "## Scale Data\n",
    "\n",
    "A critical point for most ml-algorithms as well as knn imputing is scaling the data. For simplicity, we will use Scikit-Learn’s MinMaxScaler which will scale our variables to have values between 0 and 1."
   ]
  },
  {
   "cell_type": "code",
   "execution_count": 80,
   "metadata": {},
   "outputs": [],
   "source": [
    "scaler = MinMaxScaler()\n",
    "df_scaled = pd.DataFrame(scaler.fit_transform(df), columns = df.columns)"
   ]
  },
  {
   "cell_type": "code",
   "execution_count": 81,
   "metadata": {},
   "outputs": [
    {
     "data": {
      "text/html": [
       "<div>\n",
       "<style scoped>\n",
       "    .dataframe tbody tr th:only-of-type {\n",
       "        vertical-align: middle;\n",
       "    }\n",
       "\n",
       "    .dataframe tbody tr th {\n",
       "        vertical-align: top;\n",
       "    }\n",
       "\n",
       "    .dataframe thead th {\n",
       "        text-align: right;\n",
       "    }\n",
       "</style>\n",
       "<table border=\"1\" class=\"dataframe\">\n",
       "  <thead>\n",
       "    <tr style=\"text-align: right;\">\n",
       "      <th></th>\n",
       "      <th>HeartDiseaseorAttack</th>\n",
       "      <th>HighBP</th>\n",
       "      <th>HighChol</th>\n",
       "      <th>BMI</th>\n",
       "      <th>Smoker</th>\n",
       "      <th>Diabetes</th>\n",
       "      <th>PhysActivity</th>\n",
       "      <th>Fruits</th>\n",
       "      <th>Veggies</th>\n",
       "      <th>HvyAlcoholConsump</th>\n",
       "      <th>SexIsMale</th>\n",
       "      <th>AgeGroup</th>\n",
       "    </tr>\n",
       "  </thead>\n",
       "  <tbody>\n",
       "    <tr>\n",
       "      <th>0</th>\n",
       "      <td>0.0</td>\n",
       "      <td>1.0</td>\n",
       "      <td>1.0</td>\n",
       "      <td>4018.0</td>\n",
       "      <td>1.0</td>\n",
       "      <td>0.0</td>\n",
       "      <td>0.0</td>\n",
       "      <td>0.0</td>\n",
       "      <td>1.0</td>\n",
       "      <td>0.0</td>\n",
       "      <td>0.0</td>\n",
       "      <td>9.0</td>\n",
       "    </tr>\n",
       "    <tr>\n",
       "      <th>1</th>\n",
       "      <td>0.0</td>\n",
       "      <td>0.0</td>\n",
       "      <td>0.0</td>\n",
       "      <td>2509.0</td>\n",
       "      <td>1.0</td>\n",
       "      <td>0.0</td>\n",
       "      <td>1.0</td>\n",
       "      <td>0.0</td>\n",
       "      <td>0.0</td>\n",
       "      <td>0.0</td>\n",
       "      <td>0.0</td>\n",
       "      <td>7.0</td>\n",
       "    </tr>\n",
       "    <tr>\n",
       "      <th>3</th>\n",
       "      <td>0.0</td>\n",
       "      <td>1.0</td>\n",
       "      <td>1.0</td>\n",
       "      <td>2819.0</td>\n",
       "      <td>0.0</td>\n",
       "      <td>0.0</td>\n",
       "      <td>0.0</td>\n",
       "      <td>1.0</td>\n",
       "      <td>0.0</td>\n",
       "      <td>0.0</td>\n",
       "      <td>0.0</td>\n",
       "      <td>9.0</td>\n",
       "    </tr>\n",
       "    <tr>\n",
       "      <th>4</th>\n",
       "      <td>0.0</td>\n",
       "      <td>0.0</td>\n",
       "      <td>0.0</td>\n",
       "      <td>2437.0</td>\n",
       "      <td>0.0</td>\n",
       "      <td>0.0</td>\n",
       "      <td>0.0</td>\n",
       "      <td>NaN</td>\n",
       "      <td>1.0</td>\n",
       "      <td>0.0</td>\n",
       "      <td>0.0</td>\n",
       "      <td>9.0</td>\n",
       "    </tr>\n",
       "    <tr>\n",
       "      <th>5</th>\n",
       "      <td>0.0</td>\n",
       "      <td>1.0</td>\n",
       "      <td>0.0</td>\n",
       "      <td>2652.0</td>\n",
       "      <td>0.0</td>\n",
       "      <td>0.0</td>\n",
       "      <td>1.0</td>\n",
       "      <td>1.0</td>\n",
       "      <td>1.0</td>\n",
       "      <td>0.0</td>\n",
       "      <td>0.0</td>\n",
       "      <td>11.0</td>\n",
       "    </tr>\n",
       "  </tbody>\n",
       "</table>\n",
       "</div>"
      ],
      "text/plain": [
       "   HeartDiseaseorAttack  HighBP  HighChol     BMI  Smoker  Diabetes  \\\n",
       "0                   0.0     1.0       1.0  4018.0     1.0       0.0   \n",
       "1                   0.0     0.0       0.0  2509.0     1.0       0.0   \n",
       "3                   0.0     1.0       1.0  2819.0     0.0       0.0   \n",
       "4                   0.0     0.0       0.0  2437.0     0.0       0.0   \n",
       "5                   0.0     1.0       0.0  2652.0     0.0       0.0   \n",
       "\n",
       "   PhysActivity  Fruits  Veggies  HvyAlcoholConsump  SexIsMale  AgeGroup  \n",
       "0           0.0     0.0      1.0                0.0        0.0       9.0  \n",
       "1           1.0     0.0      0.0                0.0        0.0       7.0  \n",
       "3           0.0     1.0      0.0                0.0        0.0       9.0  \n",
       "4           0.0     NaN      1.0                0.0        0.0       9.0  \n",
       "5           1.0     1.0      1.0                0.0        0.0      11.0  "
      ]
     },
     "execution_count": 81,
     "metadata": {},
     "output_type": "execute_result"
    }
   ],
   "source": [
    "df.head()"
   ]
  },
  {
   "cell_type": "code",
   "execution_count": 82,
   "metadata": {},
   "outputs": [
    {
     "data": {
      "text/html": [
       "<div>\n",
       "<style scoped>\n",
       "    .dataframe tbody tr th:only-of-type {\n",
       "        vertical-align: middle;\n",
       "    }\n",
       "\n",
       "    .dataframe tbody tr th {\n",
       "        vertical-align: top;\n",
       "    }\n",
       "\n",
       "    .dataframe thead th {\n",
       "        text-align: right;\n",
       "    }\n",
       "</style>\n",
       "<table border=\"1\" class=\"dataframe\">\n",
       "  <thead>\n",
       "    <tr style=\"text-align: right;\">\n",
       "      <th></th>\n",
       "      <th>HeartDiseaseorAttack</th>\n",
       "      <th>HighBP</th>\n",
       "      <th>HighChol</th>\n",
       "      <th>BMI</th>\n",
       "      <th>Smoker</th>\n",
       "      <th>Diabetes</th>\n",
       "      <th>PhysActivity</th>\n",
       "      <th>Fruits</th>\n",
       "      <th>Veggies</th>\n",
       "      <th>HvyAlcoholConsump</th>\n",
       "      <th>SexIsMale</th>\n",
       "      <th>AgeGroup</th>\n",
       "    </tr>\n",
       "  </thead>\n",
       "  <tbody>\n",
       "    <tr>\n",
       "      <th>0</th>\n",
       "      <td>0.0</td>\n",
       "      <td>1.0</td>\n",
       "      <td>1.0</td>\n",
       "      <td>0.320255</td>\n",
       "      <td>1.0</td>\n",
       "      <td>0.0</td>\n",
       "      <td>0.0</td>\n",
       "      <td>0.0</td>\n",
       "      <td>1.0</td>\n",
       "      <td>0.0</td>\n",
       "      <td>0.0</td>\n",
       "      <td>0.666667</td>\n",
       "    </tr>\n",
       "    <tr>\n",
       "      <th>1</th>\n",
       "      <td>0.0</td>\n",
       "      <td>0.0</td>\n",
       "      <td>0.0</td>\n",
       "      <td>0.148641</td>\n",
       "      <td>1.0</td>\n",
       "      <td>0.0</td>\n",
       "      <td>1.0</td>\n",
       "      <td>0.0</td>\n",
       "      <td>0.0</td>\n",
       "      <td>0.0</td>\n",
       "      <td>0.0</td>\n",
       "      <td>0.500000</td>\n",
       "    </tr>\n",
       "    <tr>\n",
       "      <th>2</th>\n",
       "      <td>0.0</td>\n",
       "      <td>1.0</td>\n",
       "      <td>1.0</td>\n",
       "      <td>0.183896</td>\n",
       "      <td>0.0</td>\n",
       "      <td>0.0</td>\n",
       "      <td>0.0</td>\n",
       "      <td>1.0</td>\n",
       "      <td>0.0</td>\n",
       "      <td>0.0</td>\n",
       "      <td>0.0</td>\n",
       "      <td>0.666667</td>\n",
       "    </tr>\n",
       "    <tr>\n",
       "      <th>3</th>\n",
       "      <td>0.0</td>\n",
       "      <td>0.0</td>\n",
       "      <td>0.0</td>\n",
       "      <td>0.140453</td>\n",
       "      <td>0.0</td>\n",
       "      <td>0.0</td>\n",
       "      <td>0.0</td>\n",
       "      <td>NaN</td>\n",
       "      <td>1.0</td>\n",
       "      <td>0.0</td>\n",
       "      <td>0.0</td>\n",
       "      <td>0.666667</td>\n",
       "    </tr>\n",
       "    <tr>\n",
       "      <th>4</th>\n",
       "      <td>0.0</td>\n",
       "      <td>1.0</td>\n",
       "      <td>0.0</td>\n",
       "      <td>0.164904</td>\n",
       "      <td>0.0</td>\n",
       "      <td>0.0</td>\n",
       "      <td>1.0</td>\n",
       "      <td>1.0</td>\n",
       "      <td>1.0</td>\n",
       "      <td>0.0</td>\n",
       "      <td>0.0</td>\n",
       "      <td>0.833333</td>\n",
       "    </tr>\n",
       "  </tbody>\n",
       "</table>\n",
       "</div>"
      ],
      "text/plain": [
       "   HeartDiseaseorAttack  HighBP  HighChol       BMI  Smoker  Diabetes  \\\n",
       "0                   0.0     1.0       1.0  0.320255     1.0       0.0   \n",
       "1                   0.0     0.0       0.0  0.148641     1.0       0.0   \n",
       "2                   0.0     1.0       1.0  0.183896     0.0       0.0   \n",
       "3                   0.0     0.0       0.0  0.140453     0.0       0.0   \n",
       "4                   0.0     1.0       0.0  0.164904     0.0       0.0   \n",
       "\n",
       "   PhysActivity  Fruits  Veggies  HvyAlcoholConsump  SexIsMale  AgeGroup  \n",
       "0           0.0     0.0      1.0                0.0        0.0  0.666667  \n",
       "1           1.0     0.0      0.0                0.0        0.0  0.500000  \n",
       "2           0.0     1.0      0.0                0.0        0.0  0.666667  \n",
       "3           0.0     NaN      1.0                0.0        0.0  0.666667  \n",
       "4           1.0     1.0      1.0                0.0        0.0  0.833333  "
      ]
     },
     "execution_count": 82,
     "metadata": {},
     "output_type": "execute_result"
    }
   ],
   "source": [
    "df_scaled.head()"
   ]
  },
  {
   "cell_type": "markdown",
   "metadata": {
    "id": "QhignAx27jdv",
    "pycharm": {
     "name": "#%% md\n"
    }
   },
   "source": [
    "## V1 Dataset with dropped NaN"
   ]
  },
  {
   "cell_type": "code",
   "execution_count": 83,
   "metadata": {
    "colab": {
     "base_uri": "https://localhost:8080/"
    },
    "executionInfo": {
     "elapsed": 14,
     "status": "ok",
     "timestamp": 1654629147466,
     "user": {
      "displayName": "Violeta Garcia Espin",
      "userId": "04637016062002400323"
     },
     "user_tz": -120
    },
    "id": "T_fCb7vEa_qq",
    "outputId": "b71b879b-afc8-417e-9613-e665b04a8b4a",
    "pycharm": {
     "name": "#%%\n"
    }
   },
   "outputs": [
    {
     "name": "stdout",
     "output_type": "stream",
     "text": [
      "HeartDiseaseorAttack    0\n",
      "HighBP                  0\n",
      "HighChol                0\n",
      "BMI                     0\n",
      "Smoker                  0\n",
      "Diabetes                0\n",
      "PhysActivity            0\n",
      "Fruits                  0\n",
      "Veggies                 0\n",
      "HvyAlcoholConsump       0\n",
      "SexIsMale               0\n",
      "AgeGroup                0\n",
      "dtype: int64\n"
     ]
    }
   ],
   "source": [
    "df_droppedNaN = df_scaled.dropna()\n",
    "print(df_droppedNaN.isnull().sum())"
   ]
  },
  {
   "cell_type": "code",
   "execution_count": 84,
   "metadata": {
    "colab": {
     "base_uri": "https://localhost:8080/"
    },
    "executionInfo": {
     "elapsed": 13,
     "status": "ok",
     "timestamp": 1654629147466,
     "user": {
      "displayName": "Violeta Garcia Espin",
      "userId": "04637016062002400323"
     },
     "user_tz": -120
    },
    "id": "FqhMmv8YbPp6",
    "outputId": "39dc4bc4-0255-4f03-a097-0602ebff172a",
    "pycharm": {
     "name": "#%%\n"
    }
   },
   "outputs": [
    {
     "name": "stdout",
     "output_type": "stream",
     "text": [
      "(292745, 12)\n",
      "(437514, 12)\n"
     ]
    }
   ],
   "source": [
    "print(df_droppedNaN.shape)\n",
    "print(df_scaled.shape)"
   ]
  },
  {
   "cell_type": "code",
   "execution_count": 85,
   "metadata": {
    "id": "nIXKR9rw8Gk6",
    "pycharm": {
     "name": "#%%\n"
    }
   },
   "outputs": [],
   "source": [
    "# save as new csv\n",
    "df_droppedNaN.to_csv('../data/2015_cleaned_droppedNaN.csv', index=False)\n"
   ]
  },
  {
   "cell_type": "markdown",
   "metadata": {
    "id": "nZS25hKZ8PQx",
    "pycharm": {
     "name": "#%% md\n"
    }
   },
   "source": [
    "## V2 Dataset with imputed NaN"
   ]
  },
  {
   "cell_type": "markdown",
   "metadata": {
    "id": "xdymlkUCcqQB",
    "pycharm": {
     "name": "#%% md\n"
    }
   },
   "source": [
    "In this section we created a dataset with imputed NaN for learning purposes. We would also like to compare the performance between both datasets. We are aware that imputation might introduce biases. "
   ]
  },
  {
   "cell_type": "markdown",
   "metadata": {
    "id": "xk0fAxx8d8_R",
    "pycharm": {
     "name": "#%% md\n"
    }
   },
   "source": [
    "Now we can create the KNN-Imputater "
   ]
  },
  {
   "cell_type": "code",
   "execution_count": 57,
   "metadata": {
    "id": "V3pyZyGJd_6_",
    "pycharm": {
     "name": "#%%\n"
    }
   },
   "outputs": [],
   "source": [
    "imputer = KNNImputer(n_neighbors=5, weights='uniform', metric='nan_euclidean', add_indicator=False)\n",
    "\n",
    "# !!!THIS TAKES VERY LONG!!! (at least one hour)\n",
    "df_imputedNaN = imputer.fit_transform(df_scaled)\n",
    "\n",
    "\n",
    "print(df_imputedNaN.isnull().sum())"
   ]
  },
  {
   "cell_type": "code",
   "execution_count": null,
   "metadata": {},
   "outputs": [],
   "source": [
    "print(df_imputedNaN.shape)\n",
    "print(df_scaled.shape)"
   ]
  },
  {
   "cell_type": "code",
   "execution_count": null,
   "metadata": {
    "id": "rwmrDrAN34R0",
    "pycharm": {
     "name": "#%%\n"
    }
   },
   "outputs": [],
   "source": [
    "df_imputed = pd.DataFrame(df_imputedNaN, columns=df_scaled.columns)\n",
    "df_imputed.to_csv('../2015_cleaned_imputedNaN.csv')"
   ]
  }
 ],
 "metadata": {
  "colab": {
   "collapsed_sections": [],
   "name": "01_clean_dataset.ipynb",
   "provenance": [],
   "toc_visible": true
  },
  "interpreter": {
   "hash": "69a9235b2799f09bc7a4d7fc4018927df298a0a697379818c8dec9478f72590e"
  },
  "kernelspec": {
   "display_name": "Python 3.10.0 64-bit",
   "language": "python",
   "name": "python3"
  },
  "language_info": {
   "codemirror_mode": {
    "name": "ipython",
    "version": 3
   },
   "file_extension": ".py",
   "mimetype": "text/x-python",
   "name": "python",
   "nbconvert_exporter": "python",
   "pygments_lexer": "ipython3",
   "version": "3.10.0"
  },
  "orig_nbformat": 4
 },
 "nbformat": 4,
 "nbformat_minor": 0
}
