{
 "nbformat": 4,
 "nbformat_minor": 0,
 "metadata": {
  "colab": {
   "name": "knn.ipynb",
   "provenance": [],
   "collapsed_sections": [],
   "toc_visible": true,
   "mount_file_id": "1--A2FkW-VcY76-k4g3YBcN5v99zGPQtt",
   "authorship_tag": "ABX9TyM3sQjTriDFymMFD4fBHD6Y"
  },
  "kernelspec": {
   "name": "python3",
   "display_name": "Python 3"
  },
  "language_info": {
   "name": "python"
  }
 },
 "cells": [
  {
   "cell_type": "markdown",
   "source": [
    "Import libraries"
   ],
   "metadata": {
    "id": "Q_0270yMeyxW",
    "pycharm": {
     "name": "#%% md\n"
    }
   }
  },
  {
   "cell_type": "code",
   "execution_count": 47,
   "metadata": {
    "id": "mcdoB5Z3d0wE",
    "executionInfo": {
     "status": "ok",
     "timestamp": 1654702114856,
     "user_tz": -120,
     "elapsed": 262,
     "user": {
      "displayName": "Violeta Garcia Espin",
      "userId": "04637016062002400323"
     }
    },
    "pycharm": {
     "name": "#%%\n"
    }
   },
   "outputs": [],
   "source": [
    "import pandas as pd\n",
    "import seaborn as sns\n",
    "import numpy as np\n",
    "from sklearn.decomposition import PCA\n",
    "from sklearn.preprocessing import StandardScaler\n",
    "from sklearn.datasets import load_digits\n",
    "import matplotlib.pyplot as plt\n",
    "from imblearn.under_sampling import RandomUnderSampler"
   ]
  },
  {
   "cell_type": "markdown",
   "source": [
    "**Upload Data**\n",
    "\n",
    "We upload the data in a pandas dataframe. "
   ],
   "metadata": {
    "id": "6EEEy3C6T6Cv",
    "pycharm": {
     "name": "#%% md\n"
    }
   }
  },
  {
   "cell_type": "code",
   "source": [
    "vioPath = r'/content/drive/MyDrive/Colab Notebooks/DS/heart_disease_health_indicators.csv'\n",
    "df = pd.read_csv(vioPath)"
   ],
   "metadata": {
    "id": "lDs24shEe8OH",
    "executionInfo": {
     "status": "ok",
     "timestamp": 1654702115782,
     "user_tz": -120,
     "elapsed": 651,
     "user": {
      "displayName": "Violeta Garcia Espin",
      "userId": "04637016062002400323"
     }
    },
    "pycharm": {
     "name": "#%%\n"
    }
   },
   "execution_count": 48,
   "outputs": []
  },
  {
   "cell_type": "markdown",
   "source": [
    "# Pre-Processing Data"
   ],
   "metadata": {
    "id": "LQ_pGDHd23Hl",
    "pycharm": {
     "name": "#%% md\n"
    }
   }
  },
  {
   "cell_type": "code",
   "source": [
    "df.head()"
   ],
   "metadata": {
    "id": "FuIQPh0H5zo5",
    "colab": {
     "base_uri": "https://localhost:8080/",
     "height": 236
    },
    "executionInfo": {
     "status": "ok",
     "timestamp": 1654702115783,
     "user_tz": -120,
     "elapsed": 29,
     "user": {
      "displayName": "Violeta Garcia Espin",
      "userId": "04637016062002400323"
     }
    },
    "outputId": "b995e3fd-cfe5-49d3-c965-7192532ee85f",
    "pycharm": {
     "name": "#%%\n"
    }
   },
   "execution_count": 49,
   "outputs": [
    {
     "output_type": "execute_result",
     "data": {
      "text/plain": [
       "   HeartDiseaseorAttack  HighBP  HighChol  CholCheck   BMI  Smoker  Stroke  \\\n",
       "0                   0.0     1.0       1.0        1.0  40.0     1.0     0.0   \n",
       "1                   0.0     0.0       0.0        0.0  25.0     1.0     0.0   \n",
       "2                   0.0     1.0       1.0        1.0  28.0     0.0     0.0   \n",
       "3                   0.0     1.0       0.0        1.0  27.0     0.0     0.0   \n",
       "4                   0.0     1.0       1.0        1.0  24.0     0.0     0.0   \n",
       "\n",
       "   Diabetes  PhysActivity  Fruits  ...  AnyHealthcare  NoDocbcCost  GenHlth  \\\n",
       "0       0.0           0.0     0.0  ...            1.0          0.0      5.0   \n",
       "1       0.0           1.0     0.0  ...            0.0          1.0      3.0   \n",
       "2       0.0           0.0     1.0  ...            1.0          1.0      5.0   \n",
       "3       0.0           1.0     1.0  ...            1.0          0.0      2.0   \n",
       "4       0.0           1.0     1.0  ...            1.0          0.0      2.0   \n",
       "\n",
       "   MentHlth  PhysHlth  DiffWalk  Sex   Age  Education  Income  \n",
       "0      18.0      15.0       1.0  0.0   9.0        4.0     3.0  \n",
       "1       0.0       0.0       0.0  0.0   7.0        6.0     1.0  \n",
       "2      30.0      30.0       1.0  0.0   9.0        4.0     8.0  \n",
       "3       0.0       0.0       0.0  0.0  11.0        3.0     6.0  \n",
       "4       3.0       0.0       0.0  0.0  11.0        5.0     4.0  \n",
       "\n",
       "[5 rows x 22 columns]"
      ],
      "text/html": [
       "\n",
       "  <div id=\"df-0f8a18a5-ab09-419b-b844-8318026c1d79\">\n",
       "    <div class=\"colab-df-container\">\n",
       "      <div>\n",
       "<style scoped>\n",
       "    .dataframe tbody tr th:only-of-type {\n",
       "        vertical-align: middle;\n",
       "    }\n",
       "\n",
       "    .dataframe tbody tr th {\n",
       "        vertical-align: top;\n",
       "    }\n",
       "\n",
       "    .dataframe thead th {\n",
       "        text-align: right;\n",
       "    }\n",
       "</style>\n",
       "<table border=\"1\" class=\"dataframe\">\n",
       "  <thead>\n",
       "    <tr style=\"text-align: right;\">\n",
       "      <th></th>\n",
       "      <th>HeartDiseaseorAttack</th>\n",
       "      <th>HighBP</th>\n",
       "      <th>HighChol</th>\n",
       "      <th>CholCheck</th>\n",
       "      <th>BMI</th>\n",
       "      <th>Smoker</th>\n",
       "      <th>Stroke</th>\n",
       "      <th>Diabetes</th>\n",
       "      <th>PhysActivity</th>\n",
       "      <th>Fruits</th>\n",
       "      <th>...</th>\n",
       "      <th>AnyHealthcare</th>\n",
       "      <th>NoDocbcCost</th>\n",
       "      <th>GenHlth</th>\n",
       "      <th>MentHlth</th>\n",
       "      <th>PhysHlth</th>\n",
       "      <th>DiffWalk</th>\n",
       "      <th>Sex</th>\n",
       "      <th>Age</th>\n",
       "      <th>Education</th>\n",
       "      <th>Income</th>\n",
       "    </tr>\n",
       "  </thead>\n",
       "  <tbody>\n",
       "    <tr>\n",
       "      <th>0</th>\n",
       "      <td>0.0</td>\n",
       "      <td>1.0</td>\n",
       "      <td>1.0</td>\n",
       "      <td>1.0</td>\n",
       "      <td>40.0</td>\n",
       "      <td>1.0</td>\n",
       "      <td>0.0</td>\n",
       "      <td>0.0</td>\n",
       "      <td>0.0</td>\n",
       "      <td>0.0</td>\n",
       "      <td>...</td>\n",
       "      <td>1.0</td>\n",
       "      <td>0.0</td>\n",
       "      <td>5.0</td>\n",
       "      <td>18.0</td>\n",
       "      <td>15.0</td>\n",
       "      <td>1.0</td>\n",
       "      <td>0.0</td>\n",
       "      <td>9.0</td>\n",
       "      <td>4.0</td>\n",
       "      <td>3.0</td>\n",
       "    </tr>\n",
       "    <tr>\n",
       "      <th>1</th>\n",
       "      <td>0.0</td>\n",
       "      <td>0.0</td>\n",
       "      <td>0.0</td>\n",
       "      <td>0.0</td>\n",
       "      <td>25.0</td>\n",
       "      <td>1.0</td>\n",
       "      <td>0.0</td>\n",
       "      <td>0.0</td>\n",
       "      <td>1.0</td>\n",
       "      <td>0.0</td>\n",
       "      <td>...</td>\n",
       "      <td>0.0</td>\n",
       "      <td>1.0</td>\n",
       "      <td>3.0</td>\n",
       "      <td>0.0</td>\n",
       "      <td>0.0</td>\n",
       "      <td>0.0</td>\n",
       "      <td>0.0</td>\n",
       "      <td>7.0</td>\n",
       "      <td>6.0</td>\n",
       "      <td>1.0</td>\n",
       "    </tr>\n",
       "    <tr>\n",
       "      <th>2</th>\n",
       "      <td>0.0</td>\n",
       "      <td>1.0</td>\n",
       "      <td>1.0</td>\n",
       "      <td>1.0</td>\n",
       "      <td>28.0</td>\n",
       "      <td>0.0</td>\n",
       "      <td>0.0</td>\n",
       "      <td>0.0</td>\n",
       "      <td>0.0</td>\n",
       "      <td>1.0</td>\n",
       "      <td>...</td>\n",
       "      <td>1.0</td>\n",
       "      <td>1.0</td>\n",
       "      <td>5.0</td>\n",
       "      <td>30.0</td>\n",
       "      <td>30.0</td>\n",
       "      <td>1.0</td>\n",
       "      <td>0.0</td>\n",
       "      <td>9.0</td>\n",
       "      <td>4.0</td>\n",
       "      <td>8.0</td>\n",
       "    </tr>\n",
       "    <tr>\n",
       "      <th>3</th>\n",
       "      <td>0.0</td>\n",
       "      <td>1.0</td>\n",
       "      <td>0.0</td>\n",
       "      <td>1.0</td>\n",
       "      <td>27.0</td>\n",
       "      <td>0.0</td>\n",
       "      <td>0.0</td>\n",
       "      <td>0.0</td>\n",
       "      <td>1.0</td>\n",
       "      <td>1.0</td>\n",
       "      <td>...</td>\n",
       "      <td>1.0</td>\n",
       "      <td>0.0</td>\n",
       "      <td>2.0</td>\n",
       "      <td>0.0</td>\n",
       "      <td>0.0</td>\n",
       "      <td>0.0</td>\n",
       "      <td>0.0</td>\n",
       "      <td>11.0</td>\n",
       "      <td>3.0</td>\n",
       "      <td>6.0</td>\n",
       "    </tr>\n",
       "    <tr>\n",
       "      <th>4</th>\n",
       "      <td>0.0</td>\n",
       "      <td>1.0</td>\n",
       "      <td>1.0</td>\n",
       "      <td>1.0</td>\n",
       "      <td>24.0</td>\n",
       "      <td>0.0</td>\n",
       "      <td>0.0</td>\n",
       "      <td>0.0</td>\n",
       "      <td>1.0</td>\n",
       "      <td>1.0</td>\n",
       "      <td>...</td>\n",
       "      <td>1.0</td>\n",
       "      <td>0.0</td>\n",
       "      <td>2.0</td>\n",
       "      <td>3.0</td>\n",
       "      <td>0.0</td>\n",
       "      <td>0.0</td>\n",
       "      <td>0.0</td>\n",
       "      <td>11.0</td>\n",
       "      <td>5.0</td>\n",
       "      <td>4.0</td>\n",
       "    </tr>\n",
       "  </tbody>\n",
       "</table>\n",
       "<p>5 rows × 22 columns</p>\n",
       "</div>\n",
       "      <button class=\"colab-df-convert\" onclick=\"convertToInteractive('df-0f8a18a5-ab09-419b-b844-8318026c1d79')\"\n",
       "              title=\"Convert this dataframe to an interactive table.\"\n",
       "              style=\"display:none;\">\n",
       "        \n",
       "  <svg xmlns=\"http://www.w3.org/2000/svg\" height=\"24px\"viewBox=\"0 0 24 24\"\n",
       "       width=\"24px\">\n",
       "    <path d=\"M0 0h24v24H0V0z\" fill=\"none\"/>\n",
       "    <path d=\"M18.56 5.44l.94 2.06.94-2.06 2.06-.94-2.06-.94-.94-2.06-.94 2.06-2.06.94zm-11 1L8.5 8.5l.94-2.06 2.06-.94-2.06-.94L8.5 2.5l-.94 2.06-2.06.94zm10 10l.94 2.06.94-2.06 2.06-.94-2.06-.94-.94-2.06-.94 2.06-2.06.94z\"/><path d=\"M17.41 7.96l-1.37-1.37c-.4-.4-.92-.59-1.43-.59-.52 0-1.04.2-1.43.59L10.3 9.45l-7.72 7.72c-.78.78-.78 2.05 0 2.83L4 21.41c.39.39.9.59 1.41.59.51 0 1.02-.2 1.41-.59l7.78-7.78 2.81-2.81c.8-.78.8-2.07 0-2.86zM5.41 20L4 18.59l7.72-7.72 1.47 1.35L5.41 20z\"/>\n",
       "  </svg>\n",
       "      </button>\n",
       "      \n",
       "  <style>\n",
       "    .colab-df-container {\n",
       "      display:flex;\n",
       "      flex-wrap:wrap;\n",
       "      gap: 12px;\n",
       "    }\n",
       "\n",
       "    .colab-df-convert {\n",
       "      background-color: #E8F0FE;\n",
       "      border: none;\n",
       "      border-radius: 50%;\n",
       "      cursor: pointer;\n",
       "      display: none;\n",
       "      fill: #1967D2;\n",
       "      height: 32px;\n",
       "      padding: 0 0 0 0;\n",
       "      width: 32px;\n",
       "    }\n",
       "\n",
       "    .colab-df-convert:hover {\n",
       "      background-color: #E2EBFA;\n",
       "      box-shadow: 0px 1px 2px rgba(60, 64, 67, 0.3), 0px 1px 3px 1px rgba(60, 64, 67, 0.15);\n",
       "      fill: #174EA6;\n",
       "    }\n",
       "\n",
       "    [theme=dark] .colab-df-convert {\n",
       "      background-color: #3B4455;\n",
       "      fill: #D2E3FC;\n",
       "    }\n",
       "\n",
       "    [theme=dark] .colab-df-convert:hover {\n",
       "      background-color: #434B5C;\n",
       "      box-shadow: 0px 1px 3px 1px rgba(0, 0, 0, 0.15);\n",
       "      filter: drop-shadow(0px 1px 2px rgba(0, 0, 0, 0.3));\n",
       "      fill: #FFFFFF;\n",
       "    }\n",
       "  </style>\n",
       "\n",
       "      <script>\n",
       "        const buttonEl =\n",
       "          document.querySelector('#df-0f8a18a5-ab09-419b-b844-8318026c1d79 button.colab-df-convert');\n",
       "        buttonEl.style.display =\n",
       "          google.colab.kernel.accessAllowed ? 'block' : 'none';\n",
       "\n",
       "        async function convertToInteractive(key) {\n",
       "          const element = document.querySelector('#df-0f8a18a5-ab09-419b-b844-8318026c1d79');\n",
       "          const dataTable =\n",
       "            await google.colab.kernel.invokeFunction('convertToInteractive',\n",
       "                                                     [key], {});\n",
       "          if (!dataTable) return;\n",
       "\n",
       "          const docLinkHtml = 'Like what you see? Visit the ' +\n",
       "            '<a target=\"_blank\" href=https://colab.research.google.com/notebooks/data_table.ipynb>data table notebook</a>'\n",
       "            + ' to learn more about interactive tables.';\n",
       "          element.innerHTML = '';\n",
       "          dataTable['output_type'] = 'display_data';\n",
       "          await google.colab.output.renderOutput(dataTable, element);\n",
       "          const docLink = document.createElement('div');\n",
       "          docLink.innerHTML = docLinkHtml;\n",
       "          element.appendChild(docLink);\n",
       "        }\n",
       "      </script>\n",
       "    </div>\n",
       "  </div>\n",
       "  "
      ]
     },
     "metadata": {},
     "execution_count": 49
    }
   ]
  },
  {
   "cell_type": "code",
   "source": [
    "df.shape"
   ],
   "metadata": {
    "id": "vRaBxpQz6BY5",
    "colab": {
     "base_uri": "https://localhost:8080/"
    },
    "executionInfo": {
     "status": "ok",
     "timestamp": 1654702115784,
     "user_tz": -120,
     "elapsed": 26,
     "user": {
      "displayName": "Violeta Garcia Espin",
      "userId": "04637016062002400323"
     }
    },
    "outputId": "5bde0549-a087-41f9-9d2a-09db5c9047ef",
    "pycharm": {
     "name": "#%%\n"
    }
   },
   "execution_count": 50,
   "outputs": [
    {
     "output_type": "execute_result",
     "data": {
      "text/plain": [
       "(253680, 22)"
      ]
     },
     "metadata": {},
     "execution_count": 50
    }
   ]
  },
  {
   "cell_type": "markdown",
   "source": [
    "**Check empty values**"
   ],
   "metadata": {
    "id": "4dfseaj24TpD",
    "pycharm": {
     "name": "#%% md\n"
    }
   }
  },
  {
   "cell_type": "code",
   "source": [
    "print(round((((df.isnull().sum()).sum() / np.product(df.shape)) * 100), 2))"
   ],
   "metadata": {
    "id": "VPDbDRGj4Voa",
    "colab": {
     "base_uri": "https://localhost:8080/"
    },
    "executionInfo": {
     "status": "ok",
     "timestamp": 1654702115785,
     "user_tz": -120,
     "elapsed": 20,
     "user": {
      "displayName": "Violeta Garcia Espin",
      "userId": "04637016062002400323"
     }
    },
    "outputId": "a5c7c23b-6b10-4c0f-be20-6cfe9b59e555",
    "pycharm": {
     "name": "#%%\n"
    }
   },
   "execution_count": 51,
   "outputs": [
    {
     "output_type": "stream",
     "name": "stdout",
     "text": [
      "0.0\n"
     ]
    }
   ]
  },
  {
   "cell_type": "markdown",
   "source": [
    "**Split Data**"
   ],
   "metadata": {
    "id": "aCQI1G9H7sDA",
    "pycharm": {
     "name": "#%% md\n"
    }
   }
  },
  {
   "cell_type": "code",
   "source": [
    "X = df.drop(columns=['HeartDiseaseorAttack'])\n",
    "y = np.array(df['HeartDiseaseorAttack'])"
   ],
   "metadata": {
    "id": "B8b3-y6U75yR",
    "executionInfo": {
     "status": "ok",
     "timestamp": 1654702115786,
     "user_tz": -120,
     "elapsed": 15,
     "user": {
      "displayName": "Violeta Garcia Espin",
      "userId": "04637016062002400323"
     }
    },
    "pycharm": {
     "name": "#%%\n"
    }
   },
   "execution_count": 52,
   "outputs": []
  },
  {
   "cell_type": "markdown",
   "source": [
    "**Balance Data**\n",
    "\n",
    "We performed undersampling because our target is not balanced. "
   ],
   "metadata": {
    "id": "wnsFIiIZ3K38",
    "pycharm": {
     "name": "#%% md\n"
    }
   }
  },
  {
   "cell_type": "code",
   "source": [
    "rus = RandomUnderSampler()\n",
    "X_resampled, y_resampled = rus.fit_resample(X, y)"
   ],
   "metadata": {
    "id": "m-saMo9t3RrN",
    "executionInfo": {
     "status": "ok",
     "timestamp": 1654702116137,
     "user_tz": -120,
     "elapsed": 365,
     "user": {
      "displayName": "Violeta Garcia Espin",
      "userId": "04637016062002400323"
     }
    },
    "pycharm": {
     "name": "#%%\n"
    }
   },
   "execution_count": 53,
   "outputs": []
  },
  {
   "cell_type": "code",
   "source": [
    "from sklearn.model_selection import train_test_split\n",
    "X_train, X_test, y_train, y_test = train_test_split(X_resampled, y_resampled, test_size = 0.2)"
   ],
   "metadata": {
    "id": "X54O10_Z7wAh",
    "executionInfo": {
     "status": "ok",
     "timestamp": 1654702116137,
     "user_tz": -120,
     "elapsed": 26,
     "user": {
      "displayName": "Violeta Garcia Espin",
      "userId": "04637016062002400323"
     }
    },
    "pycharm": {
     "name": "#%%\n"
    }
   },
   "execution_count": 54,
   "outputs": []
  },
  {
   "cell_type": "code",
   "source": [
    "y_train.shape"
   ],
   "metadata": {
    "colab": {
     "base_uri": "https://localhost:8080/"
    },
    "id": "F6yJocIZJm5a",
    "executionInfo": {
     "status": "ok",
     "timestamp": 1654702116138,
     "user_tz": -120,
     "elapsed": 26,
     "user": {
      "displayName": "Violeta Garcia Espin",
      "userId": "04637016062002400323"
     }
    },
    "outputId": "644479e7-ce56-4e37-8f43-8cb945085651",
    "pycharm": {
     "name": "#%%\n"
    }
   },
   "execution_count": 55,
   "outputs": [
    {
     "output_type": "execute_result",
     "data": {
      "text/plain": [
       "(38228,)"
      ]
     },
     "metadata": {},
     "execution_count": 55
    }
   ]
  },
  {
   "cell_type": "code",
   "source": [
    "X_train.shape"
   ],
   "metadata": {
    "colab": {
     "base_uri": "https://localhost:8080/"
    },
    "id": "hEj-CVN_J2UM",
    "executionInfo": {
     "status": "ok",
     "timestamp": 1654702116139,
     "user_tz": -120,
     "elapsed": 23,
     "user": {
      "displayName": "Violeta Garcia Espin",
      "userId": "04637016062002400323"
     }
    },
    "outputId": "cc0363f7-7fe4-4667-8d1a-21b6f74be7e5",
    "pycharm": {
     "name": "#%%\n"
    }
   },
   "execution_count": 56,
   "outputs": [
    {
     "output_type": "execute_result",
     "data": {
      "text/plain": [
       "(38228, 21)"
      ]
     },
     "metadata": {},
     "execution_count": 56
    }
   ]
  },
  {
   "cell_type": "markdown",
   "source": [
    "**Scale Data**"
   ],
   "metadata": {
    "id": "hnLVn_Lx56rD",
    "pycharm": {
     "name": "#%% md\n"
    }
   }
  },
  {
   "cell_type": "code",
   "source": [
    "from sklearn.preprocessing import StandardScaler"
   ],
   "metadata": {
    "id": "Dm2mPpn57Xxk",
    "executionInfo": {
     "status": "ok",
     "timestamp": 1654702116139,
     "user_tz": -120,
     "elapsed": 18,
     "user": {
      "displayName": "Violeta Garcia Espin",
      "userId": "04637016062002400323"
     }
    },
    "pycharm": {
     "name": "#%%\n"
    }
   },
   "execution_count": 57,
   "outputs": []
  },
  {
   "cell_type": "code",
   "source": [
    "scaler = StandardScaler()\n",
    "scaler.fit(X_train)\n",
    "X_train_std = scaler.transform(X_train)\n",
    "X_test_std = scaler.transform(X_test)"
   ],
   "metadata": {
    "id": "wM2Ux0Vw7o7g",
    "executionInfo": {
     "status": "ok",
     "timestamp": 1654702116139,
     "user_tz": -120,
     "elapsed": 17,
     "user": {
      "displayName": "Violeta Garcia Espin",
      "userId": "04637016062002400323"
     }
    },
    "pycharm": {
     "name": "#%%\n"
    }
   },
   "execution_count": 58,
   "outputs": []
  },
  {
   "cell_type": "markdown",
   "source": [
    "**Normalize Data**"
   ],
   "metadata": {
    "id": "-rTdE4T_ienh",
    "pycharm": {
     "name": "#%% md\n"
    }
   }
  },
  {
   "cell_type": "code",
   "source": [
    "from sklearn.preprocessing import MinMaxScaler"
   ],
   "metadata": {
    "id": "2BM0YqgSiiYX",
    "executionInfo": {
     "status": "ok",
     "timestamp": 1654702116140,
     "user_tz": -120,
     "elapsed": 17,
     "user": {
      "displayName": "Violeta Garcia Espin",
      "userId": "04637016062002400323"
     }
    },
    "pycharm": {
     "name": "#%%\n"
    }
   },
   "execution_count": 59,
   "outputs": []
  },
  {
   "cell_type": "code",
   "source": [
    "minMax = MinMaxScaler()\n",
    "minMax.fit(X_train)\n",
    "X_train_minMax = scaler.transform(X_train)\n",
    "X_test_minMax = scaler.transform(X_test)"
   ],
   "metadata": {
    "id": "5Gq_tVmYil-2",
    "executionInfo": {
     "status": "ok",
     "timestamp": 1654702116141,
     "user_tz": -120,
     "elapsed": 17,
     "user": {
      "displayName": "Violeta Garcia Espin",
      "userId": "04637016062002400323"
     }
    },
    "pycharm": {
     "name": "#%%\n"
    }
   },
   "execution_count": 60,
   "outputs": []
  },
  {
   "cell_type": "markdown",
   "source": [
    "# KNN "
   ],
   "metadata": {
    "id": "lOOEHqtIHRWS",
    "pycharm": {
     "name": "#%% md\n"
    }
   }
  },
  {
   "cell_type": "code",
   "source": [
    "from sklearn.neighbors import KNeighborsClassifier\n",
    "from sklearn.metrics import accuracy_score"
   ],
   "metadata": {
    "id": "TBdHcfIMH_ej",
    "executionInfo": {
     "status": "ok",
     "timestamp": 1654702116141,
     "user_tz": -120,
     "elapsed": 16,
     "user": {
      "displayName": "Violeta Garcia Espin",
      "userId": "04637016062002400323"
     }
    },
    "pycharm": {
     "name": "#%%\n"
    }
   },
   "execution_count": 61,
   "outputs": []
  },
  {
   "cell_type": "markdown",
   "source": [
    "Note: We have chosen a range of odd numbers for the k, to try to avoid \"ties\" as much as possible. "
   ],
   "metadata": {
    "id": "AFBowj-5oqTV",
    "pycharm": {
     "name": "#%% md\n"
    }
   }
  },
  {
   "cell_type": "markdown",
   "source": [
    "**KNN with standardize data**"
   ],
   "metadata": {
    "id": "TdmiCgIKjPHQ",
    "pycharm": {
     "name": "#%% md\n"
    }
   }
  },
  {
   "cell_type": "code",
   "source": [
    "collector = []\n",
    "for k in range(1, 20, 2): # try 1 to 7 neighbors\n",
    "  knn = KNeighborsClassifier(n_neighbors = k)\n",
    "  knn.fit(X_train_std, y_train)\n",
    "  prediction = knn.predict(X_test_std)\n",
    "  accuracy = accuracy_score(y_test, prediction)\n",
    "collector.append({\"k\" : k, \"accuracy\": accuracy.astype('float64')})\n",
    "\n",
    "accuracy_scores_std_df = pd.DataFrame(collector)"
   ],
   "metadata": {
    "id": "rhve_unWHW4L",
    "colab": {
     "base_uri": "https://localhost:8080/",
     "height": 382
    },
    "executionInfo": {
     "status": "error",
     "timestamp": 1654702391315,
     "user_tz": -120,
     "elapsed": 275189,
     "user": {
      "displayName": "Violeta Garcia Espin",
      "userId": "04637016062002400323"
     }
    },
    "outputId": "8b863077-ec72-4529-d7bb-af6b641e5ccd",
    "pycharm": {
     "name": "#%%\n"
    }
   },
   "execution_count": 62,
   "outputs": [
    {
     "output_type": "error",
     "ename": "KeyboardInterrupt",
     "evalue": "ignored",
     "traceback": [
      "\u001B[0;31m---------------------------------------------------------------------------\u001B[0m",
      "\u001B[0;31mKeyboardInterrupt\u001B[0m                         Traceback (most recent call last)",
      "\u001B[0;32m<ipython-input-62-e7024c44b512>\u001B[0m in \u001B[0;36m<module>\u001B[0;34m()\u001B[0m\n\u001B[1;32m      5\u001B[0m     \u001B[0mknn\u001B[0m \u001B[0;34m=\u001B[0m \u001B[0mKNeighborsClassifier\u001B[0m\u001B[0;34m(\u001B[0m\u001B[0mn_neighbors\u001B[0m \u001B[0;34m=\u001B[0m \u001B[0mk\u001B[0m\u001B[0;34m)\u001B[0m\u001B[0;34m\u001B[0m\u001B[0;34m\u001B[0m\u001B[0m\n\u001B[1;32m      6\u001B[0m     \u001B[0mknn\u001B[0m\u001B[0;34m.\u001B[0m\u001B[0mfit\u001B[0m\u001B[0;34m(\u001B[0m\u001B[0mX_train_std\u001B[0m\u001B[0;34m,\u001B[0m \u001B[0my_train\u001B[0m\u001B[0;34m)\u001B[0m\u001B[0;34m\u001B[0m\u001B[0;34m\u001B[0m\u001B[0m\n\u001B[0;32m----> 7\u001B[0;31m     \u001B[0mprediction\u001B[0m \u001B[0;34m=\u001B[0m \u001B[0mknn\u001B[0m\u001B[0;34m.\u001B[0m\u001B[0mpredict\u001B[0m\u001B[0;34m(\u001B[0m\u001B[0mX_test_std\u001B[0m\u001B[0;34m)\u001B[0m\u001B[0;34m\u001B[0m\u001B[0;34m\u001B[0m\u001B[0m\n\u001B[0m\u001B[1;32m      8\u001B[0m     \u001B[0maccuracy\u001B[0m \u001B[0;34m=\u001B[0m \u001B[0maccuracy_score\u001B[0m\u001B[0;34m(\u001B[0m\u001B[0my_test\u001B[0m\u001B[0;34m,\u001B[0m \u001B[0mprediction\u001B[0m\u001B[0;34m)\u001B[0m\u001B[0;34m\u001B[0m\u001B[0;34m\u001B[0m\u001B[0m\n\u001B[1;32m      9\u001B[0m     \u001B[0maccuracy_list\u001B[0m\u001B[0;34m.\u001B[0m\u001B[0mappend\u001B[0m\u001B[0;34m(\u001B[0m\u001B[0maccuracy\u001B[0m\u001B[0;34m)\u001B[0m\u001B[0;34m\u001B[0m\u001B[0;34m\u001B[0m\u001B[0m\n",
      "\u001B[0;32m/usr/local/lib/python3.7/dist-packages/sklearn/neighbors/_classification.py\u001B[0m in \u001B[0;36mpredict\u001B[0;34m(self, X)\u001B[0m\n\u001B[1;32m    212\u001B[0m             \u001B[0mClass\u001B[0m \u001B[0mlabels\u001B[0m \u001B[0;32mfor\u001B[0m \u001B[0meach\u001B[0m \u001B[0mdata\u001B[0m \u001B[0msample\u001B[0m\u001B[0;34m.\u001B[0m\u001B[0;34m\u001B[0m\u001B[0;34m\u001B[0m\u001B[0m\n\u001B[1;32m    213\u001B[0m         \"\"\"\n\u001B[0;32m--> 214\u001B[0;31m         \u001B[0mneigh_dist\u001B[0m\u001B[0;34m,\u001B[0m \u001B[0mneigh_ind\u001B[0m \u001B[0;34m=\u001B[0m \u001B[0mself\u001B[0m\u001B[0;34m.\u001B[0m\u001B[0mkneighbors\u001B[0m\u001B[0;34m(\u001B[0m\u001B[0mX\u001B[0m\u001B[0;34m)\u001B[0m\u001B[0;34m\u001B[0m\u001B[0;34m\u001B[0m\u001B[0m\n\u001B[0m\u001B[1;32m    215\u001B[0m         \u001B[0mclasses_\u001B[0m \u001B[0;34m=\u001B[0m \u001B[0mself\u001B[0m\u001B[0;34m.\u001B[0m\u001B[0mclasses_\u001B[0m\u001B[0;34m\u001B[0m\u001B[0;34m\u001B[0m\u001B[0m\n\u001B[1;32m    216\u001B[0m         \u001B[0m_y\u001B[0m \u001B[0;34m=\u001B[0m \u001B[0mself\u001B[0m\u001B[0;34m.\u001B[0m\u001B[0m_y\u001B[0m\u001B[0;34m\u001B[0m\u001B[0;34m\u001B[0m\u001B[0m\n",
      "\u001B[0;32m/usr/local/lib/python3.7/dist-packages/sklearn/neighbors/_base.py\u001B[0m in \u001B[0;36mkneighbors\u001B[0;34m(self, X, n_neighbors, return_distance)\u001B[0m\n\u001B[1;32m    757\u001B[0m                     \u001B[0mmetric\u001B[0m\u001B[0;34m=\u001B[0m\u001B[0mself\u001B[0m\u001B[0;34m.\u001B[0m\u001B[0meffective_metric_\u001B[0m\u001B[0;34m,\u001B[0m\u001B[0;34m\u001B[0m\u001B[0;34m\u001B[0m\u001B[0m\n\u001B[1;32m    758\u001B[0m                     \u001B[0mn_jobs\u001B[0m\u001B[0;34m=\u001B[0m\u001B[0mn_jobs\u001B[0m\u001B[0;34m,\u001B[0m\u001B[0;34m\u001B[0m\u001B[0;34m\u001B[0m\u001B[0m\n\u001B[0;32m--> 759\u001B[0;31m                     \u001B[0;34m**\u001B[0m\u001B[0mkwds\u001B[0m\u001B[0;34m,\u001B[0m\u001B[0;34m\u001B[0m\u001B[0;34m\u001B[0m\u001B[0m\n\u001B[0m\u001B[1;32m    760\u001B[0m                 )\n\u001B[1;32m    761\u001B[0m             )\n",
      "\u001B[0;32m/usr/local/lib/python3.7/dist-packages/sklearn/metrics/pairwise.py\u001B[0m in \u001B[0;36mpairwise_distances_chunked\u001B[0;34m(X, Y, reduce_func, metric, n_jobs, working_memory, **kwds)\u001B[0m\n\u001B[1;32m   1715\u001B[0m         \u001B[0;32melse\u001B[0m\u001B[0;34m:\u001B[0m\u001B[0;34m\u001B[0m\u001B[0;34m\u001B[0m\u001B[0m\n\u001B[1;32m   1716\u001B[0m             \u001B[0mX_chunk\u001B[0m \u001B[0;34m=\u001B[0m \u001B[0mX\u001B[0m\u001B[0;34m[\u001B[0m\u001B[0msl\u001B[0m\u001B[0;34m]\u001B[0m\u001B[0;34m\u001B[0m\u001B[0;34m\u001B[0m\u001B[0m\n\u001B[0;32m-> 1717\u001B[0;31m         \u001B[0mD_chunk\u001B[0m \u001B[0;34m=\u001B[0m \u001B[0mpairwise_distances\u001B[0m\u001B[0;34m(\u001B[0m\u001B[0mX_chunk\u001B[0m\u001B[0;34m,\u001B[0m \u001B[0mY\u001B[0m\u001B[0;34m,\u001B[0m \u001B[0mmetric\u001B[0m\u001B[0;34m=\u001B[0m\u001B[0mmetric\u001B[0m\u001B[0;34m,\u001B[0m \u001B[0mn_jobs\u001B[0m\u001B[0;34m=\u001B[0m\u001B[0mn_jobs\u001B[0m\u001B[0;34m,\u001B[0m \u001B[0;34m**\u001B[0m\u001B[0mkwds\u001B[0m\u001B[0;34m)\u001B[0m\u001B[0;34m\u001B[0m\u001B[0;34m\u001B[0m\u001B[0m\n\u001B[0m\u001B[1;32m   1718\u001B[0m         if (X is Y or Y is None) and PAIRWISE_DISTANCE_FUNCTIONS.get(\n\u001B[1;32m   1719\u001B[0m             \u001B[0mmetric\u001B[0m\u001B[0;34m,\u001B[0m \u001B[0;32mNone\u001B[0m\u001B[0;34m\u001B[0m\u001B[0;34m\u001B[0m\u001B[0m\n",
      "\u001B[0;32m/usr/local/lib/python3.7/dist-packages/sklearn/metrics/pairwise.py\u001B[0m in \u001B[0;36mpairwise_distances\u001B[0;34m(X, Y, metric, n_jobs, force_all_finite, **kwds)\u001B[0m\n\u001B[1;32m   1887\u001B[0m         \u001B[0mfunc\u001B[0m \u001B[0;34m=\u001B[0m \u001B[0mpartial\u001B[0m\u001B[0;34m(\u001B[0m\u001B[0mdistance\u001B[0m\u001B[0;34m.\u001B[0m\u001B[0mcdist\u001B[0m\u001B[0;34m,\u001B[0m \u001B[0mmetric\u001B[0m\u001B[0;34m=\u001B[0m\u001B[0mmetric\u001B[0m\u001B[0;34m,\u001B[0m \u001B[0;34m**\u001B[0m\u001B[0mkwds\u001B[0m\u001B[0;34m)\u001B[0m\u001B[0;34m\u001B[0m\u001B[0;34m\u001B[0m\u001B[0m\n\u001B[1;32m   1888\u001B[0m \u001B[0;34m\u001B[0m\u001B[0m\n\u001B[0;32m-> 1889\u001B[0;31m     \u001B[0;32mreturn\u001B[0m \u001B[0m_parallel_pairwise\u001B[0m\u001B[0;34m(\u001B[0m\u001B[0mX\u001B[0m\u001B[0;34m,\u001B[0m \u001B[0mY\u001B[0m\u001B[0;34m,\u001B[0m \u001B[0mfunc\u001B[0m\u001B[0;34m,\u001B[0m \u001B[0mn_jobs\u001B[0m\u001B[0;34m,\u001B[0m \u001B[0;34m**\u001B[0m\u001B[0mkwds\u001B[0m\u001B[0;34m)\u001B[0m\u001B[0;34m\u001B[0m\u001B[0;34m\u001B[0m\u001B[0m\n\u001B[0m\u001B[1;32m   1890\u001B[0m \u001B[0;34m\u001B[0m\u001B[0m\n\u001B[1;32m   1891\u001B[0m \u001B[0;34m\u001B[0m\u001B[0m\n",
      "\u001B[0;32m/usr/local/lib/python3.7/dist-packages/sklearn/metrics/pairwise.py\u001B[0m in \u001B[0;36m_parallel_pairwise\u001B[0;34m(X, Y, func, n_jobs, **kwds)\u001B[0m\n\u001B[1;32m   1428\u001B[0m \u001B[0;34m\u001B[0m\u001B[0m\n\u001B[1;32m   1429\u001B[0m     \u001B[0;32mif\u001B[0m \u001B[0meffective_n_jobs\u001B[0m\u001B[0;34m(\u001B[0m\u001B[0mn_jobs\u001B[0m\u001B[0;34m)\u001B[0m \u001B[0;34m==\u001B[0m \u001B[0;36m1\u001B[0m\u001B[0;34m:\u001B[0m\u001B[0;34m\u001B[0m\u001B[0;34m\u001B[0m\u001B[0m\n\u001B[0;32m-> 1430\u001B[0;31m         \u001B[0;32mreturn\u001B[0m \u001B[0mfunc\u001B[0m\u001B[0;34m(\u001B[0m\u001B[0mX\u001B[0m\u001B[0;34m,\u001B[0m \u001B[0mY\u001B[0m\u001B[0;34m,\u001B[0m \u001B[0;34m**\u001B[0m\u001B[0mkwds\u001B[0m\u001B[0;34m)\u001B[0m\u001B[0;34m\u001B[0m\u001B[0;34m\u001B[0m\u001B[0m\n\u001B[0m\u001B[1;32m   1431\u001B[0m \u001B[0;34m\u001B[0m\u001B[0m\n\u001B[1;32m   1432\u001B[0m     \u001B[0;31m# enforce a threading backend to prevent data communication overhead\u001B[0m\u001B[0;34m\u001B[0m\u001B[0;34m\u001B[0m\u001B[0;34m\u001B[0m\u001B[0m\n",
      "\u001B[0;32m/usr/local/lib/python3.7/dist-packages/sklearn/metrics/pairwise.py\u001B[0m in \u001B[0;36meuclidean_distances\u001B[0;34m(X, Y, Y_norm_squared, squared, X_norm_squared)\u001B[0m\n\u001B[1;32m    328\u001B[0m             )\n\u001B[1;32m    329\u001B[0m \u001B[0;34m\u001B[0m\u001B[0m\n\u001B[0;32m--> 330\u001B[0;31m     \u001B[0;32mreturn\u001B[0m \u001B[0m_euclidean_distances\u001B[0m\u001B[0;34m(\u001B[0m\u001B[0mX\u001B[0m\u001B[0;34m,\u001B[0m \u001B[0mY\u001B[0m\u001B[0;34m,\u001B[0m \u001B[0mX_norm_squared\u001B[0m\u001B[0;34m,\u001B[0m \u001B[0mY_norm_squared\u001B[0m\u001B[0;34m,\u001B[0m \u001B[0msquared\u001B[0m\u001B[0;34m)\u001B[0m\u001B[0;34m\u001B[0m\u001B[0;34m\u001B[0m\u001B[0m\n\u001B[0m\u001B[1;32m    331\u001B[0m \u001B[0;34m\u001B[0m\u001B[0m\n\u001B[1;32m    332\u001B[0m \u001B[0;34m\u001B[0m\u001B[0m\n",
      "\u001B[0;32m/usr/local/lib/python3.7/dist-packages/sklearn/metrics/pairwise.py\u001B[0m in \u001B[0;36m_euclidean_distances\u001B[0;34m(X, Y, X_norm_squared, Y_norm_squared, squared)\u001B[0m\n\u001B[1;32m    371\u001B[0m         \u001B[0mdistances\u001B[0m \u001B[0;34m=\u001B[0m \u001B[0;34m-\u001B[0m\u001B[0;36m2\u001B[0m \u001B[0;34m*\u001B[0m \u001B[0msafe_sparse_dot\u001B[0m\u001B[0;34m(\u001B[0m\u001B[0mX\u001B[0m\u001B[0;34m,\u001B[0m \u001B[0mY\u001B[0m\u001B[0;34m.\u001B[0m\u001B[0mT\u001B[0m\u001B[0;34m,\u001B[0m \u001B[0mdense_output\u001B[0m\u001B[0;34m=\u001B[0m\u001B[0;32mTrue\u001B[0m\u001B[0;34m)\u001B[0m\u001B[0;34m\u001B[0m\u001B[0;34m\u001B[0m\u001B[0m\n\u001B[1;32m    372\u001B[0m         \u001B[0mdistances\u001B[0m \u001B[0;34m+=\u001B[0m \u001B[0mXX\u001B[0m\u001B[0;34m\u001B[0m\u001B[0;34m\u001B[0m\u001B[0m\n\u001B[0;32m--> 373\u001B[0;31m         \u001B[0mdistances\u001B[0m \u001B[0;34m+=\u001B[0m \u001B[0mYY\u001B[0m\u001B[0;34m\u001B[0m\u001B[0;34m\u001B[0m\u001B[0m\n\u001B[0m\u001B[1;32m    374\u001B[0m     \u001B[0mnp\u001B[0m\u001B[0;34m.\u001B[0m\u001B[0mmaximum\u001B[0m\u001B[0;34m(\u001B[0m\u001B[0mdistances\u001B[0m\u001B[0;34m,\u001B[0m \u001B[0;36m0\u001B[0m\u001B[0;34m,\u001B[0m \u001B[0mout\u001B[0m\u001B[0;34m=\u001B[0m\u001B[0mdistances\u001B[0m\u001B[0;34m)\u001B[0m\u001B[0;34m\u001B[0m\u001B[0;34m\u001B[0m\u001B[0m\n\u001B[1;32m    375\u001B[0m \u001B[0;34m\u001B[0m\u001B[0m\n",
      "\u001B[0;31mKeyboardInterrupt\u001B[0m: "
     ]
    }
   ]
  },
  {
   "cell_type": "code",
   "source": [
    "display(accuracy_scores_std_df)"
   ],
   "metadata": {
    "id": "NdvRw_LJtk7x",
    "executionInfo": {
     "status": "aborted",
     "timestamp": 1654702391292,
     "user_tz": -120,
     "elapsed": 31,
     "user": {
      "displayName": "Violeta Garcia Espin",
      "userId": "04637016062002400323"
     }
    },
    "pycharm": {
     "name": "#%%\n"
    }
   },
   "execution_count": null,
   "outputs": []
  },
  {
   "cell_type": "code",
   "source": [
    "plt.plot(accuracy_scores_std_df['k'], accuracy_scores_std_df['accuracy'])\n",
    "plt.grid(True)\n",
    "plt.show()"
   ],
   "metadata": {
    "id": "6WAlCRHqfWho",
    "executionInfo": {
     "status": "aborted",
     "timestamp": 1654702391296,
     "user_tz": -120,
     "elapsed": 33,
     "user": {
      "displayName": "Violeta Garcia Espin",
      "userId": "04637016062002400323"
     }
    },
    "pycharm": {
     "name": "#%%\n"
    }
   },
   "execution_count": null,
   "outputs": []
  },
  {
   "cell_type": "markdown",
   "source": [
    "**KNN with Min-Max Normalization**"
   ],
   "metadata": {
    "id": "B_VHD78ojnhW",
    "pycharm": {
     "name": "#%% md\n"
    }
   }
  },
  {
   "cell_type": "code",
   "source": [
    "collector = []\n",
    "for k in range(1, 20, 2): # try 1 to 7 neighbors\n",
    "  knn = KNeighborsClassifier(n_neighbors = k)\n",
    "  knn.fit(X_train_minMax, y_train)\n",
    "  prediction = knn.predict(X_test_minMax)\n",
    "  accuracy = accuracy_score(y_test, prediction)\n",
    "\n",
    "collector.append({\"k\" : k, \"accuracy\": accuracy.astype('float64')})\n",
    "accuracy_scores_minMax_df = pd.DataFrame(collector)"
   ],
   "metadata": {
    "id": "hFzb1ADdjvjR",
    "executionInfo": {
     "status": "aborted",
     "timestamp": 1654702391298,
     "user_tz": -120,
     "elapsed": 35,
     "user": {
      "displayName": "Violeta Garcia Espin",
      "userId": "04637016062002400323"
     }
    },
    "pycharm": {
     "name": "#%%\n"
    }
   },
   "execution_count": null,
   "outputs": []
  },
  {
   "cell_type": "code",
   "source": [
    "display(accuracy_scores_minMax_df)"
   ],
   "metadata": {
    "id": "17tVjBAIjuf6",
    "executionInfo": {
     "status": "aborted",
     "timestamp": 1654702391299,
     "user_tz": -120,
     "elapsed": 35,
     "user": {
      "displayName": "Violeta Garcia Espin",
      "userId": "04637016062002400323"
     }
    },
    "pycharm": {
     "name": "#%%\n"
    }
   },
   "execution_count": null,
   "outputs": []
  },
  {
   "cell_type": "code",
   "source": [
    "plt.plot(accuracy_scores_minMax_df['k'], accuracy_scores_minMax_df['accuracy'])\n",
    "plt.grid(True)\n",
    "plt.show()"
   ],
   "metadata": {
    "id": "ifNkOVapjxp_",
    "executionInfo": {
     "status": "aborted",
     "timestamp": 1654702391303,
     "user_tz": -120,
     "elapsed": 39,
     "user": {
      "displayName": "Violeta Garcia Espin",
      "userId": "04637016062002400323"
     }
    },
    "pycharm": {
     "name": "#%%\n"
    }
   },
   "execution_count": null,
   "outputs": []
  },
  {
   "cell_type": "code",
   "source": [
    "print(f\"Average accuracy for Standardization {accuracy_scores_std_df['accuracy'].mean()}\")\n",
    "print(f\"Average accuracy for Standardization {accuracy_scores_minMax_df['accuracy'].mean()}\")"
   ],
   "metadata": {
    "id": "vRz2wjNFkaQu",
    "executionInfo": {
     "status": "aborted",
     "timestamp": 1654702391305,
     "user_tz": -120,
     "elapsed": 40,
     "user": {
      "displayName": "Violeta Garcia Espin",
      "userId": "04637016062002400323"
     }
    },
    "pycharm": {
     "name": "#%%\n"
    }
   },
   "execution_count": null,
   "outputs": []
  },
  {
   "cell_type": "markdown",
   "source": [
    "## optimize KNN with RandomizedSearchCV"
   ],
   "metadata": {
    "id": "5Ls-KlX8dCbQ",
    "pycharm": {
     "name": "#%% md\n"
    }
   }
  },
  {
   "cell_type": "code",
   "source": [
    "X_train = X_train_std\n",
    "X_test = X_test_std"
   ],
   "metadata": {
    "id": "aDT_RBWGmCQq",
    "executionInfo": {
     "status": "aborted",
     "timestamp": 1654702391306,
     "user_tz": -120,
     "elapsed": 41,
     "user": {
      "displayName": "Violeta Garcia Espin",
      "userId": "04637016062002400323"
     }
    },
    "pycharm": {
     "name": "#%%\n"
    }
   },
   "execution_count": null,
   "outputs": []
  },
  {
   "cell_type": "markdown",
   "source": [
    "We tried to optimized the KNN using RandomizedSearchCV. We will try to get the best number of neighbors.\n"
   ],
   "metadata": {
    "id": "mnPSBQTbYr_9",
    "pycharm": {
     "name": "#%% md\n"
    }
   }
  },
  {
   "cell_type": "code",
   "source": [
    "from sklearn.model_selection import RandomizedSearchCV, GridSearchCV\n",
    "knn = KNeighborsClassifier()"
   ],
   "metadata": {
    "id": "-yOh7-Z2Y7fD",
    "executionInfo": {
     "status": "aborted",
     "timestamp": 1654702391307,
     "user_tz": -120,
     "elapsed": 41,
     "user": {
      "displayName": "Violeta Garcia Espin",
      "userId": "04637016062002400323"
     }
    },
    "pycharm": {
     "name": "#%%\n"
    }
   },
   "execution_count": null,
   "outputs": []
  },
  {
   "cell_type": "markdown",
   "source": [
    "We generate a list of possible values for k, which are all odd to avoid possible \"ties\"."
   ],
   "metadata": {
    "id": "glF7O8j8sZ3v",
    "pycharm": {
     "name": "#%% md\n"
    }
   }
  },
  {
   "cell_type": "code",
   "source": [
    "k = [1, 3, 5, 7, 9, 11, 13, 15, 17, 19]"
   ],
   "metadata": {
    "id": "6nTZ6yQFsZI5",
    "executionInfo": {
     "status": "aborted",
     "timestamp": 1654702391307,
     "user_tz": -120,
     "elapsed": 41,
     "user": {
      "displayName": "Violeta Garcia Espin",
      "userId": "04637016062002400323"
     }
    },
    "pycharm": {
     "name": "#%%\n"
    }
   },
   "execution_count": null,
   "outputs": []
  },
  {
   "cell_type": "markdown",
   "source": [
    "I make a list of parameters to test in the RandomizedSearchCV. In this case, the parameters are just the number of neighbors. For p, p=1 is equivalent to using the manhattan_distance, p=2 means using the euclidian distance. "
   ],
   "metadata": {
    "id": "5INa3rdkcANB",
    "pycharm": {
     "name": "#%% md\n"
    }
   }
  },
  {
   "cell_type": "code",
   "source": [
    "params = {'n_neighbors' : k, 'p' : [1, 2]}"
   ],
   "metadata": {
    "id": "EdyvHQAdbULj",
    "executionInfo": {
     "status": "aborted",
     "timestamp": 1654702391308,
     "user_tz": -120,
     "elapsed": 41,
     "user": {
      "displayName": "Violeta Garcia Espin",
      "userId": "04637016062002400323"
     }
    },
    "pycharm": {
     "name": "#%%\n"
    }
   },
   "execution_count": null,
   "outputs": []
  },
  {
   "cell_type": "markdown",
   "source": [
    "cv=5 means cross validation with 5 folds"
   ],
   "metadata": {
    "id": "cZ45DugxcMxp",
    "pycharm": {
     "name": "#%% md\n"
    }
   }
  },
  {
   "cell_type": "code",
   "source": [
    "random_search = GridSearchCV(knn, params, cv=5)\n",
    "random_search.fit(X_train, y_train)"
   ],
   "metadata": {
    "id": "wUl19yjMcHsj",
    "executionInfo": {
     "status": "aborted",
     "timestamp": 1654702391310,
     "user_tz": -120,
     "elapsed": 43,
     "user": {
      "displayName": "Violeta Garcia Espin",
      "userId": "04637016062002400323"
     }
    },
    "pycharm": {
     "name": "#%%\n"
    }
   },
   "execution_count": null,
   "outputs": []
  },
  {
   "cell_type": "markdown",
   "source": [
    "Call score_samples on the estimator with the best found parameters."
   ],
   "metadata": {
    "id": "kihQFE07c0cz",
    "pycharm": {
     "name": "#%% md\n"
    }
   }
  },
  {
   "cell_type": "code",
   "source": [
    "random_search.best_params_"
   ],
   "metadata": {
    "id": "QbOGUqSEc6Aa",
    "executionInfo": {
     "status": "aborted",
     "timestamp": 1654702391311,
     "user_tz": -120,
     "elapsed": 43,
     "user": {
      "displayName": "Violeta Garcia Espin",
      "userId": "04637016062002400323"
     }
    },
    "pycharm": {
     "name": "#%%\n"
    }
   },
   "execution_count": null,
   "outputs": []
  },
  {
   "cell_type": "code",
   "source": [
    "best_k = random_search.best_params_.get('n_neighbors')\n",
    "print(best_k)"
   ],
   "metadata": {
    "id": "QVSFq6YGhZMf",
    "executionInfo": {
     "status": "aborted",
     "timestamp": 1654702391312,
     "user_tz": -120,
     "elapsed": 44,
     "user": {
      "displayName": "Violeta Garcia Espin",
      "userId": "04637016062002400323"
     }
    },
    "pycharm": {
     "name": "#%%\n"
    }
   },
   "execution_count": null,
   "outputs": []
  },
  {
   "cell_type": "code",
   "source": [
    "p =random_search.best_params_.get('p')"
   ],
   "metadata": {
    "id": "esAmq-FZ6VOy",
    "executionInfo": {
     "status": "aborted",
     "timestamp": 1654702391313,
     "user_tz": -120,
     "elapsed": 44,
     "user": {
      "displayName": "Violeta Garcia Espin",
      "userId": "04637016062002400323"
     }
    },
    "pycharm": {
     "name": "#%%\n"
    }
   },
   "execution_count": null,
   "outputs": []
  },
  {
   "cell_type": "markdown",
   "source": [
    "Check if we get the same or very similar result: "
   ],
   "metadata": {
    "id": "8Mh_tebVfSaw",
    "pycharm": {
     "name": "#%% md\n"
    }
   }
  },
  {
   "cell_type": "code",
   "source": [
    "knn = KNeighborsClassifier(n_neighbors=best_k, p=p)\n",
    "knn.fit(X_train, y_train)\n",
    "prediction = knn.predict(X_test)\n",
    "accuracy = accuracy_score(y_test, prediction)\n",
    "accuracy"
   ],
   "metadata": {
    "id": "XovawGVRfAw5",
    "executionInfo": {
     "status": "aborted",
     "timestamp": 1654702391313,
     "user_tz": -120,
     "elapsed": 44,
     "user": {
      "displayName": "Violeta Garcia Espin",
      "userId": "04637016062002400323"
     }
    },
    "pycharm": {
     "name": "#%%\n"
    }
   },
   "execution_count": null,
   "outputs": []
  },
  {
   "cell_type": "markdown",
   "source": [
    "# Other Evaluations"
   ],
   "metadata": {
    "id": "awvg2UN-tKrY",
    "pycharm": {
     "name": "#%% md\n"
    }
   }
  },
  {
   "cell_type": "markdown",
   "source": [
    "## Confusion Matrix"
   ],
   "metadata": {
    "id": "qxCLuzC_tXgu",
    "pycharm": {
     "name": "#%% md\n"
    }
   }
  },
  {
   "cell_type": "code",
   "source": [
    "from sklearn.metrics import plot_confusion_matrix\n",
    "plot_confusion_matrix(knn, X_test, y_test)"
   ],
   "metadata": {
    "id": "QyfYitH3sqL2",
    "executionInfo": {
     "status": "aborted",
     "timestamp": 1654702391314,
     "user_tz": -120,
     "elapsed": 45,
     "user": {
      "displayName": "Violeta Garcia Espin",
      "userId": "04637016062002400323"
     }
    },
    "pycharm": {
     "name": "#%%\n"
    }
   },
   "execution_count": null,
   "outputs": []
  },
  {
   "cell_type": "markdown",
   "source": [
    "We have gotten a relatively high number of false negatives. "
   ],
   "metadata": {
    "id": "2eeV9AEkvKy9",
    "pycharm": {
     "name": "#%% md\n"
    }
   }
  }
 ]
}