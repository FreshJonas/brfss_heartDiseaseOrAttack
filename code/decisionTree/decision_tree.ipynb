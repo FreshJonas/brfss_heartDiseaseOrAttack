{
 "nbformat": 4,
 "nbformat_minor": 0,
 "metadata": {
  "colab": {
   "name": "decision_tree.ipynb",
   "provenance": [],
   "collapsed_sections": []
  },
  "kernelspec": {
   "name": "python3",
   "display_name": "Python 3"
  },
  "language_info": {
   "name": "python"
  }
 },
 "cells": [
  {
   "cell_type": "code",
   "execution_count": 1,
   "metadata": {
    "id": "hQJWN9yjzBFt",
    "colab": {
     "base_uri": "https://localhost:8080/"
    },
    "outputId": "52bca6e8-82ab-4035-f6b3-0b8560d9c4d5",
    "pycharm": {
     "name": "#%%\n"
    }
   },
   "outputs": [
    {
     "name": "stdout",
     "output_type": "stream",
     "text": [
      "Requirement already satisfied: six in c:\\users\\vio_g\\appdata\\local\\programs\\python\\python39\\lib\\site-packages (1.15.0)\n"
     ]
    },
    {
     "name": "stderr",
     "output_type": "stream",
     "text": [
      "WARNING: You are using pip version 21.0.1; however, version 22.1.2 is available.\n",
      "You should consider upgrading via the 'c:\\users\\vio_g\\appdata\\local\\programs\\python\\python39\\python.exe -m pip install --upgrade pip' command.\n"
     ]
    },
    {
     "name": "stdout",
     "output_type": "stream",
     "text": [
      "Requirement already satisfied: pydotplus in c:\\users\\vio_g\\appdata\\local\\programs\\python\\python39\\lib\\site-packages (2.0.2)\n",
      "Requirement already satisfied: pyparsing>=2.0.1 in c:\\users\\vio_g\\appdata\\local\\programs\\python\\python39\\lib\\site-packages (from pydotplus) (2.4.7)\n"
     ]
    },
    {
     "name": "stderr",
     "output_type": "stream",
     "text": [
      "WARNING: You are using pip version 21.0.1; however, version 22.1.2 is available.\n",
      "You should consider upgrading via the 'c:\\users\\vio_g\\appdata\\local\\programs\\python\\python39\\python.exe -m pip install --upgrade pip' command.\n"
     ]
    },
    {
     "name": "stdout",
     "output_type": "stream",
     "text": [
      "Requirement already satisfied: graphviz in c:\\users\\vio_g\\appdata\\local\\programs\\python\\python39\\lib\\site-packages (0.20)\n"
     ]
    },
    {
     "name": "stderr",
     "output_type": "stream",
     "text": [
      "WARNING: You are using pip version 21.0.1; however, version 22.1.2 is available.\n",
      "You should consider upgrading via the 'c:\\users\\vio_g\\appdata\\local\\programs\\python\\python39\\python.exe -m pip install --upgrade pip' command.\n"
     ]
    }
   ],
   "source": [
    "import numpy as np\n",
    "import pandas as pd\n",
    "from sklearn.tree import DecisionTreeClassifier\n",
    "from sklearn.model_selection import train_test_split\n",
    "from sklearn.metrics import accuracy_score\n",
    "from sklearn import tree\n",
    "from PIL import Image\n",
    "import matplotlib.pyplot as plt\n",
    "\n",
    "# To make nice plots\n",
    "!pip install six\n",
    "!pip install pydotplus\n",
    "!pip install graphviz\n",
    "from sklearn.tree import export_graphviz\n",
    "from sklearn import metrics\n",
    "from six import StringIO\n",
    "import pydotplus"
   ]
  },
  {
   "cell_type": "markdown",
   "source": [
    "# Pre-Processing data"
   ],
   "metadata": {
    "id": "wJPPDsWZOCoT",
    "pycharm": {
     "name": "#%% md\n"
    }
   }
  },
  {
   "cell_type": "markdown",
   "source": [
    "Get Dataset"
   ],
   "metadata": {
    "id": "8U36UTT0OVlN",
    "pycharm": {
     "name": "#%% md\n"
    }
   }
  },
  {
   "cell_type": "code",
   "source": [
    "df = pd.read_csv(r'../../data/2015_cleaned_droppedNaN.csv')"
   ],
   "metadata": {
    "id": "hi5ghBuYOUc8",
    "pycharm": {
     "name": "#%%\n"
    }
   },
   "execution_count": 2,
   "outputs": []
  },
  {
   "cell_type": "code",
   "source": [
    "df.head()"
   ],
   "metadata": {
    "id": "FuIQPh0H5zo5",
    "colab": {
     "base_uri": "https://localhost:8080/",
     "height": 236
    },
    "outputId": "032f68e1-4b21-4128-d375-290d0e979ded",
    "pycharm": {
     "name": "#%%\n"
    }
   },
   "execution_count": 3,
   "outputs": [
    {
     "data": {
      "text/plain": "   HeartDiseaseorAttack  HighBP  HighChol     BMI  Smoker  Diabetes  \\\n0                   0.0     1.0       1.0  4018.0     1.0       0.0   \n1                   0.0     0.0       0.0  2509.0     1.0       0.0   \n2                   0.0     1.0       1.0  2819.0     0.0       0.0   \n3                   0.0     1.0       0.0  2652.0     0.0       0.0   \n4                   0.0     1.0       1.0  2389.0     0.0       0.0   \n\n   PhysActivity  Fruits  Veggies  HvyAlcoholConsump  SexIsMale  AgeGroup  \n0           0.0     0.0      1.0                0.0        0.0       9.0  \n1           1.0     0.0      0.0                0.0        0.0       7.0  \n2           0.0     1.0      0.0                0.0        0.0       9.0  \n3           1.0     1.0      1.0                0.0        0.0      11.0  \n4           1.0     1.0      1.0                0.0        0.0      11.0  ",
      "text/html": "<div>\n<style scoped>\n    .dataframe tbody tr th:only-of-type {\n        vertical-align: middle;\n    }\n\n    .dataframe tbody tr th {\n        vertical-align: top;\n    }\n\n    .dataframe thead th {\n        text-align: right;\n    }\n</style>\n<table border=\"1\" class=\"dataframe\">\n  <thead>\n    <tr style=\"text-align: right;\">\n      <th></th>\n      <th>HeartDiseaseorAttack</th>\n      <th>HighBP</th>\n      <th>HighChol</th>\n      <th>BMI</th>\n      <th>Smoker</th>\n      <th>Diabetes</th>\n      <th>PhysActivity</th>\n      <th>Fruits</th>\n      <th>Veggies</th>\n      <th>HvyAlcoholConsump</th>\n      <th>SexIsMale</th>\n      <th>AgeGroup</th>\n    </tr>\n  </thead>\n  <tbody>\n    <tr>\n      <th>0</th>\n      <td>0.0</td>\n      <td>1.0</td>\n      <td>1.0</td>\n      <td>4018.0</td>\n      <td>1.0</td>\n      <td>0.0</td>\n      <td>0.0</td>\n      <td>0.0</td>\n      <td>1.0</td>\n      <td>0.0</td>\n      <td>0.0</td>\n      <td>9.0</td>\n    </tr>\n    <tr>\n      <th>1</th>\n      <td>0.0</td>\n      <td>0.0</td>\n      <td>0.0</td>\n      <td>2509.0</td>\n      <td>1.0</td>\n      <td>0.0</td>\n      <td>1.0</td>\n      <td>0.0</td>\n      <td>0.0</td>\n      <td>0.0</td>\n      <td>0.0</td>\n      <td>7.0</td>\n    </tr>\n    <tr>\n      <th>2</th>\n      <td>0.0</td>\n      <td>1.0</td>\n      <td>1.0</td>\n      <td>2819.0</td>\n      <td>0.0</td>\n      <td>0.0</td>\n      <td>0.0</td>\n      <td>1.0</td>\n      <td>0.0</td>\n      <td>0.0</td>\n      <td>0.0</td>\n      <td>9.0</td>\n    </tr>\n    <tr>\n      <th>3</th>\n      <td>0.0</td>\n      <td>1.0</td>\n      <td>0.0</td>\n      <td>2652.0</td>\n      <td>0.0</td>\n      <td>0.0</td>\n      <td>1.0</td>\n      <td>1.0</td>\n      <td>1.0</td>\n      <td>0.0</td>\n      <td>0.0</td>\n      <td>11.0</td>\n    </tr>\n    <tr>\n      <th>4</th>\n      <td>0.0</td>\n      <td>1.0</td>\n      <td>1.0</td>\n      <td>2389.0</td>\n      <td>0.0</td>\n      <td>0.0</td>\n      <td>1.0</td>\n      <td>1.0</td>\n      <td>1.0</td>\n      <td>0.0</td>\n      <td>0.0</td>\n      <td>11.0</td>\n    </tr>\n  </tbody>\n</table>\n</div>"
     },
     "execution_count": 3,
     "metadata": {},
     "output_type": "execute_result"
    }
   ]
  },
  {
   "cell_type": "code",
   "source": [
    "df.shape"
   ],
   "metadata": {
    "id": "vRaBxpQz6BY5",
    "colab": {
     "base_uri": "https://localhost:8080/"
    },
    "outputId": "d0d9a6f8-d398-42dc-fbcd-4ca73a85e3a7",
    "pycharm": {
     "name": "#%%\n"
    }
   },
   "execution_count": 4,
   "outputs": [
    {
     "data": {
      "text/plain": "(292745, 12)"
     },
     "execution_count": 4,
     "metadata": {},
     "output_type": "execute_result"
    }
   ]
  },
  {
   "cell_type": "markdown",
   "source": [
    "**Check empty values**"
   ],
   "metadata": {
    "id": "4dfseaj24TpD",
    "pycharm": {
     "name": "#%% md\n"
    }
   }
  },
  {
   "cell_type": "code",
   "source": [
    "print(round((((df.isnull().sum()).sum() / np.product(df.shape)) * 100), 2))"
   ],
   "metadata": {
    "id": "VPDbDRGj4Voa",
    "colab": {
     "base_uri": "https://localhost:8080/"
    },
    "outputId": "c03dff5c-4578-45ce-b383-898d5f16a0a9",
    "pycharm": {
     "name": "#%%\n"
    }
   },
   "execution_count": 5,
   "outputs": [
    {
     "name": "stdout",
     "output_type": "stream",
     "text": [
      "0.0\n"
     ]
    }
   ]
  },
  {
   "cell_type": "markdown",
   "source": [
    "We reduce the database for testing purposes"
   ],
   "metadata": {
    "id": "hp1eqDcesiHK",
    "pycharm": {
     "name": "#%% md\n"
    }
   }
  },
  {
   "cell_type": "code",
   "source": [
    "X = df.drop(columns=['HeartDiseaseorAttack'])\n",
    "y = np.array(df['HeartDiseaseorAttack'])"
   ],
   "metadata": {
    "id": "B8b3-y6U75yR",
    "pycharm": {
     "name": "#%%\n"
    }
   },
   "execution_count": 6,
   "outputs": []
  },
  {
   "cell_type": "code",
   "source": [
    "from sklearn.model_selection import train_test_split\n",
    "X_train, X_test, y_train, y_test = train_test_split(X, y, test_size = 0.2)"
   ],
   "metadata": {
    "id": "X54O10_Z7wAh",
    "pycharm": {
     "name": "#%%\n"
    }
   },
   "execution_count": 7,
   "outputs": []
  },
  {
   "cell_type": "code",
   "source": [
    "y_train.shape"
   ],
   "metadata": {
    "colab": {
     "base_uri": "https://localhost:8080/"
    },
    "id": "F6yJocIZJm5a",
    "outputId": "7218cdb6-17cc-4da8-c573-b036ae3d86e4",
    "pycharm": {
     "name": "#%%\n"
    }
   },
   "execution_count": 8,
   "outputs": [
    {
     "data": {
      "text/plain": "(234196,)"
     },
     "execution_count": 8,
     "metadata": {},
     "output_type": "execute_result"
    }
   ]
  },
  {
   "cell_type": "code",
   "source": [
    "X_train.shape"
   ],
   "metadata": {
    "colab": {
     "base_uri": "https://localhost:8080/"
    },
    "id": "hEj-CVN_J2UM",
    "outputId": "4301854d-de19-48a1-cfe8-d907fcca69b9",
    "pycharm": {
     "name": "#%%\n"
    }
   },
   "execution_count": 9,
   "outputs": [
    {
     "data": {
      "text/plain": "(234196, 11)"
     },
     "execution_count": 9,
     "metadata": {},
     "output_type": "execute_result"
    }
   ]
  },
  {
   "cell_type": "markdown",
   "source": [
    "# Gini vs Entropy"
   ],
   "metadata": {
    "id": "5-e0yVWIQOsb",
    "pycharm": {
     "name": "#%% md\n"
    }
   }
  },
  {
   "cell_type": "markdown",
   "source": [
    "In this section we analyze if the method to calculate impurities (gini or entropy) affects the accuracy score."
   ],
   "metadata": {
    "id": "8f52WLEEQXeG",
    "pycharm": {
     "name": "#%% md\n"
    }
   }
  },
  {
   "cell_type": "code",
   "source": [
    "\n",
    "gini_model = DecisionTreeClassifier(criterion='gini', random_state=42)\n",
    "entropy_model = DecisionTreeClassifier(criterion='entropy', random_state=42)\n",
    "\n",
    "gini_model.fit(X_train, y_train)\n",
    "entropy_model.fit(X_train, y_train)\n",
    "\n",
    "gini_predictions = gini_model.predict(X_test)\n",
    "entropy_prediction = entropy_model.predict(X_test)\n",
    "\n",
    "gini_score = accuracy_score(y_test, gini_predictions)\n",
    "entropy_score = accuracy_score(y_test, entropy_prediction)\n",
    "\n",
    "print(f\"Average accuracy score for gini {gini_score}\")\n",
    "print(f\"Average accuracy score for entropy {entropy_score}\")"
   ],
   "metadata": {
    "colab": {
     "base_uri": "https://localhost:8080/"
    },
    "id": "NABATZboQUVs",
    "outputId": "1ce92318-da8c-4e12-f958-b55d30243b8c",
    "pycharm": {
     "name": "#%%\n"
    }
   },
   "execution_count": null,
   "outputs": []
  },
  {
   "cell_type": "code",
   "source": [
    "print(\"Statistical Analysis for entropy\")\n",
    "\n",
    "entropy_statistics = pd.Series(entropy_scores)\n",
    "entropy_statistics.describe()"
   ],
   "metadata": {
    "colab": {
     "base_uri": "https://localhost:8080/"
    },
    "id": "RjY4SC7HSWoZ",
    "outputId": "61784d0c-b4c6-44c0-d89f-0becdd306350",
    "pycharm": {
     "name": "#%%\n"
    }
   },
   "execution_count": null,
   "outputs": []
  },
  {
   "cell_type": "markdown",
   "source": [
    "Tree plot for gini"
   ],
   "metadata": {
    "id": "67OuLJGkSnGh",
    "pycharm": {
     "name": "#%% md\n"
    }
   }
  },
  {
   "cell_type": "code",
   "source": [
    "tree.plot_tree(gini_model)\n",
    "dot_data = StringIO()\n",
    "\n",
    "# For label correctly the data in the nodes: \n",
    "column_names = []\n",
    "for column in X: \n",
    "  column_names.append(column)\n",
    "clases_names = []\n",
    "for c in gini_model.classes_:\n",
    "  clases_names.append(str(c))\n",
    "\n",
    "\n",
    "export_graphviz(gini_model ,out_file=dot_data, filled=True, rounded=True, \n",
    "                special_characters=True, class_names=clases_names, feature_names=column_names)\n",
    "\n",
    "graph = pydotplus.graph_from_dot_data(dot_data.getvalue())\n",
    "graph.write_png(\"tree_gini_not_optimized.png\")"
   ],
   "metadata": {
    "colab": {
     "base_uri": "https://localhost:8080/",
     "height": 265
    },
    "id": "AUkrKaClSl6U",
    "outputId": "67bb3b8f-ccfd-440a-de7a-05b9c70f89b9",
    "pycharm": {
     "name": "#%%\n"
    }
   },
   "execution_count": null,
   "outputs": []
  },
  {
   "cell_type": "markdown",
   "source": [
    "Tree plot for entropy"
   ],
   "metadata": {
    "id": "HGoMYWw5Uaja",
    "pycharm": {
     "name": "#%% md\n"
    }
   }
  },
  {
   "cell_type": "code",
   "source": [
    "tree.plot_tree(entropy_model)\n",
    "dot_data = StringIO()\n",
    "\n",
    "# For label correctly the data in the nodes: \n",
    "clases_names = []\n",
    "for c in entropy_model.classes_:\n",
    "  clases_names.append(str(c))\n",
    "\n",
    "export_graphviz(entropy_model ,out_file=dot_data, filled=True, rounded=True, \n",
    "                special_characters=True, class_names=clases_names, feature_names=column_names)\n",
    "\n",
    "graph = pydotplus.graph_from_dot_data(dot_data.getvalue())\n",
    "graph.write_png(\"tree_entropy_not_optimized.png\")"
   ],
   "metadata": {
    "colab": {
     "base_uri": "https://localhost:8080/",
     "height": 265
    },
    "id": "zEd7OE6tUekT",
    "outputId": "15642d89-24cf-49d7-ccaf-a95678251010",
    "pycharm": {
     "name": "#%%\n"
    }
   },
   "execution_count": null,
   "outputs": []
  },
  {
   "cell_type": "markdown",
   "source": [
    "**Conclusion**\n",
    "\n",
    "Entropy seems to have a better performance for this particular dataset. However, the gini criterion is faster because it is less computationally expensive. With a really big dataset (like our dataset) it might not be worth the time invested in training when using the entropy criterion. \n",
    "\n",
    "Moreover both trees seem overfitted, therefore we will analyze pruning in the next section. "
   ],
   "metadata": {
    "id": "PIplKQpHU_Ho",
    "pycharm": {
     "name": "#%% md\n"
    }
   }
  },
  {
   "cell_type": "markdown",
   "source": [
    "# Pruning the tree"
   ],
   "metadata": {
    "id": "MSsr_yO7WTiP",
    "pycharm": {
     "name": "#%% md\n"
    }
   }
  },
  {
   "cell_type": "markdown",
   "source": [
    "Pruning means limiting the growth of a tree with the purpose of avoiding overfitting. \n",
    "\n",
    "Decision-trees classifiers in sklearn use the following parameters for pruning: \n",
    "* max_depth\n",
    "* max_leaf_nodes\n",
    "* min_samples_split\n",
    "* min_samples_leaf\n",
    "* min_impurity_decrease\n",
    "\n",
    "For our tree, we will directly use ccp (cost complexity pruning), which is a post-pruning technique. The subtree with the largest cost complexity that is smaller than ccp_alpha will be chosen. \n",
    "\n",
    "The higher alpha is, the more the tree is prunned. An alpha of 0 will not preformed prunning (will leave just a node in the tree). "
   ],
   "metadata": {
    "id": "cVsy5mWzWfM4",
    "pycharm": {
     "name": "#%% md\n"
    }
   }
  },
  {
   "cell_type": "code",
   "source": [
    "model = DecisionTreeClassifier(criterion='entropy', random_state=42)"
   ],
   "metadata": {
    "id": "EU8P60WnWaM0",
    "pycharm": {
     "name": "#%%\n"
    }
   },
   "execution_count": null,
   "outputs": []
  },
  {
   "cell_type": "markdown",
   "source": [
    "cost_complexity_pruning_path returns the effective alphas and the corresponding total leaf impurities at each step of the pruning process. "
   ],
   "metadata": {
    "id": "G1wEVZrwaKYZ",
    "pycharm": {
     "name": "#%% md\n"
    }
   }
  },
  {
   "cell_type": "code",
   "source": [
    "path = model.cost_complexity_pruning_path(X_train, y_train)\n",
    "ccp_alphas = path.ccp_alphas # extract different values for alpha\n",
    "ccp_alphas = ccp_alphas[:-1] # exclude the maximum value for alpha"
   ],
   "metadata": {
    "id": "BeLdfgCsaFOF",
    "pycharm": {
     "name": "#%%\n"
    }
   },
   "execution_count": null,
   "outputs": []
  },
  {
   "cell_type": "code",
   "source": [
    "ccp_alphas"
   ],
   "metadata": {
    "colab": {
     "base_uri": "https://localhost:8080/"
    },
    "id": "_hLoShNPecAD",
    "outputId": "a3a0e137-998d-4c22-8b15-1fd48a1eee2f",
    "pycharm": {
     "name": "#%%\n"
    }
   },
   "execution_count": null,
   "outputs": []
  },
  {
   "cell_type": "markdown",
   "source": [
    "Now I created a new decision tree per values of alpha and I store it in an array."
   ],
   "metadata": {
    "id": "ZWABiLmGajne",
    "pycharm": {
     "name": "#%% md\n"
    }
   }
  },
  {
   "cell_type": "code",
   "source": [
    "model_alphas = []\n",
    "for alpha in ccp_alphas: \n",
    "  model = DecisionTreeClassifier(ccp_alpha=alpha, random_state=0)\n",
    "  model.fit(X_train, y_train)\n",
    "  model_alphas.append(model)"
   ],
   "metadata": {
    "id": "ai2rot2BatXV",
    "pycharm": {
     "name": "#%%\n"
    }
   },
   "execution_count": null,
   "outputs": []
  },
  {
   "cell_type": "markdown",
   "source": [
    "Now I graph the accuracy of each tree using the Training Dataset and the Testing Dataset as a function of alpha. \n",
    "\n",
    "The blue line is the accuracy for the training dataset. \n",
    "The yellow line is the accuracy for the test dataset. \n",
    "\n",
    "As we prune (alpha gets bigger) we see that the trainig accuracy decreases but the accuracy of testing increase. "
   ],
   "metadata": {
    "id": "81Nif6HubApW",
    "pycharm": {
     "name": "#%% md\n"
    }
   }
  },
  {
   "cell_type": "code",
   "source": [
    "train_scores = [model.score(X_train, y_train) for model in model_alphas]\n",
    "test_scores = [model.score(X_test, y_test) for model in model_alphas]\n",
    "\n",
    "import matplotlib.pyplot as plt\n",
    "fig, ax = plt.subplots()\n",
    "ax.set_xlabel('alpha')\n",
    "ax.set_ylabel('accuracy')\n",
    "ax.set_title('Accuracy vs alpha for training and testing sets')\n",
    "ax.plot(ccp_alphas, train_scores, marker='o', label='train', drawstyle='steps-post')\n",
    "ax.plot(ccp_alphas, test_scores, marker='o', label='test', drawstyle='steps-post')\n",
    "ax.legend()\n",
    "plt.show()"
   ],
   "metadata": {
    "colab": {
     "base_uri": "https://localhost:8080/",
     "height": 295
    },
    "id": "dscX36zZbw4V",
    "outputId": "fcf9de35-8b27-487c-99a7-35f517416967",
    "pycharm": {
     "name": "#%%\n"
    }
   },
   "execution_count": null,
   "outputs": []
  },
  {
   "cell_type": "markdown",
   "source": [
    "The obtained values for alpha seem to be to low. \n",
    "\n",
    "Therefore we will try to find a good value for alpha using cross validation. \n",
    "\n",
    "We first create a list with possible alpha values. "
   ],
   "metadata": {
    "id": "Ym7x65CMYZqf",
    "pycharm": {
     "name": "#%% md\n"
    }
   }
  },
  {
   "cell_type": "code",
   "source": [
    "ccp_alpha_list = np.arange(0, 0.1, 0.005)\n",
    "ccp_alpha_list"
   ],
   "metadata": {
    "colab": {
     "base_uri": "https://localhost:8080/"
    },
    "id": "ikDCqPfQZGoe",
    "outputId": "46153d6d-a7a4-4649-8c6e-7d13546d0dfe",
    "pycharm": {
     "name": "#%%\n"
    }
   },
   "execution_count": null,
   "outputs": []
  },
  {
   "cell_type": "code",
   "source": [
    "from sklearn.model_selection import cross_val_score\n",
    "stat_values = []\n",
    "for alpha in ccp_alpha_list:\n",
    "  model = DecisionTreeClassifier(ccp_alpha=alpha, random_state=42)\n",
    "  scores = cross_val_score(model, X_train, y_train, cv=5)\n",
    "  stat_values.append([alpha, np.mean(scores), np.std(scores)])"
   ],
   "metadata": {
    "id": "YC6J0TCqfFle",
    "pycharm": {
     "name": "#%%\n"
    }
   },
   "execution_count": null,
   "outputs": []
  },
  {
   "cell_type": "markdown",
   "source": [
    "Now we draw a graph for the means and standard deviation of the accuracy scores calculated for each candidate. "
   ],
   "metadata": {
    "id": "BWQG02-mfpF9",
    "pycharm": {
     "name": "#%% md\n"
    }
   }
  },
  {
   "cell_type": "code",
   "source": [
    "alpha_results = pd.DataFrame(stat_values, columns=['alpha', 'mean_accuracy', 'std'])\n",
    "alpha_results.plot(x = 'alpha', y='mean_accuracy', yerr='std', marker='o', linestyle='--')"
   ],
   "metadata": {
    "colab": {
     "base_uri": "https://localhost:8080/",
     "height": 296
    },
    "id": "aUWSfP22fn7u",
    "outputId": "a0d2f31a-2ce5-4661-93b6-217229e6e364",
    "pycharm": {
     "name": "#%%\n"
    }
   },
   "execution_count": null,
   "outputs": []
  },
  {
   "cell_type": "code",
   "source": [
    "alpha_results"
   ],
   "metadata": {
    "colab": {
     "base_uri": "https://localhost:8080/",
     "height": 677
    },
    "id": "NAE2tpLngjGN",
    "outputId": "863d20d3-66fb-48e2-a232-41c1c2c92031",
    "pycharm": {
     "name": "#%%\n"
    }
   },
   "execution_count": null,
   "outputs": []
  },
  {
   "cell_type": "code",
   "source": [
    "max_index = alpha_results['mean_accuracy'].idxmax()\n",
    "ideal_ccp_alpha = alpha_results['alpha'][max_index]\n",
    "ideal_ccp_alpha"
   ],
   "metadata": {
    "colab": {
     "base_uri": "https://localhost:8080/"
    },
    "id": "KhH-G_n1hNJT",
    "outputId": "5f912684-be4d-44d3-e4b2-9dc684d556a6",
    "pycharm": {
     "name": "#%%\n"
    }
   },
   "execution_count": null,
   "outputs": []
  },
  {
   "cell_type": "markdown",
   "source": [
    "# Build and evaluate classification tree"
   ],
   "metadata": {
    "id": "fatmNIMcnuJg",
    "pycharm": {
     "name": "#%% md\n"
    }
   }
  },
  {
   "cell_type": "code",
   "source": [
    "scores = []\n",
    "for i in range(0, 100):\n",
    "  model_pruned = DecisionTreeClassifier(criterion='entropy', ccp_alpha=ideal_ccp_alpha, random_state=42)\n",
    "  model_pruned.fit(X_train, y_train)\n",
    "  predictions = model_pruned.predict(X_test)\n",
    "  scores.append(accuracy_score(y_test, predictions))\n",
    "average_score = sum(scores) / len(scores)\n",
    "print(f'average score is {average_score} and its statistic is: ')\n",
    "print('difference between max and mit value is ', max(scores) - min(scores))\n",
    "scores = pd.Series(scores)\n",
    "print(scores.describe())\n"
   ],
   "metadata": {
    "colab": {
     "base_uri": "https://localhost:8080/"
    },
    "id": "kS5uHQxEnycD",
    "outputId": "428c2eee-0349-4d7d-decd-4402f906a424",
    "pycharm": {
     "name": "#%%\n"
    }
   },
   "execution_count": null,
   "outputs": []
  },
  {
   "cell_type": "code",
   "source": [
    "from sklearn.metrics import plot_confusion_matrix\n",
    "plot_confusion_matrix(model_pruned, X_test, y_test)"
   ],
   "metadata": {
    "colab": {
     "base_uri": "https://localhost:8080/",
     "height": 351
    },
    "id": "mrbRHWz3oV_Y",
    "outputId": "233af07f-12b7-41ed-ca05-5b9bbc653ca1",
    "pycharm": {
     "name": "#%%\n"
    }
   },
   "execution_count": null,
   "outputs": []
  },
  {
   "cell_type": "code",
   "source": [
    "dot_data = StringIO()\n",
    "print(column_names)\n",
    "export_graphviz(model_pruned ,out_file=dot_data, filled=True, rounded=True, \n",
    "                special_characters=True, class_names=clases_names, feature_names=column_names)\n",
    "\n",
    "graph = pydotplus.graph_from_dot_data(dot_data.getvalue())\n",
    "graph.write_png(\"tree_optimized_prunning.png\")\n",
    "tree.plot_tree(model_pruned)"
   ],
   "metadata": {
    "colab": {
     "base_uri": "https://localhost:8080/",
     "height": 442
    },
    "id": "NuUc332sonOK",
    "outputId": "d3ea3333-e5a1-4e2f-9c33-6860d25eecb7",
    "pycharm": {
     "name": "#%%\n"
    }
   },
   "execution_count": null,
   "outputs": []
  }
 ]
}