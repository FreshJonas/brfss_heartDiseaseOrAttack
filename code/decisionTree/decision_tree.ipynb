{
 "nbformat": 4,
 "nbformat_minor": 0,
 "metadata": {
  "colab": {
   "name": "decision_tree.ipynb",
   "provenance": [],
   "collapsed_sections": []
  },
  "kernelspec": {
   "name": "python3",
   "display_name": "Python 3"
  },
  "language_info": {
   "name": "python"
  }
 },
 "cells": [
  {
   "cell_type": "code",
   "execution_count": 21,
   "metadata": {
    "id": "hQJWN9yjzBFt",
    "colab": {
     "base_uri": "https://localhost:8080/"
    },
    "outputId": "3d071daa-4427-4fc6-9400-d17c74bedeb0",
    "pycharm": {
     "name": "#%%\n"
    }
   },
   "outputs": [
    {
     "name": "stdout",
     "output_type": "stream",
     "text": [
      "Requirement already satisfied: six in c:\\users\\vio_g\\appdata\\local\\programs\\python\\python39\\lib\\site-packages (1.15.0)\n"
     ]
    },
    {
     "name": "stderr",
     "output_type": "stream",
     "text": [
      "WARNING: You are using pip version 21.0.1; however, version 22.1.2 is available.\n",
      "You should consider upgrading via the 'c:\\users\\vio_g\\appdata\\local\\programs\\python\\python39\\python.exe -m pip install --upgrade pip' command.\n"
     ]
    },
    {
     "name": "stdout",
     "output_type": "stream",
     "text": [
      "Requirement already satisfied: pydotplus in c:\\users\\vio_g\\appdata\\local\\programs\\python\\python39\\lib\\site-packages (2.0.2)\n",
      "Requirement already satisfied: pyparsing>=2.0.1 in c:\\users\\vio_g\\appdata\\local\\programs\\python\\python39\\lib\\site-packages (from pydotplus) (2.4.7)\n"
     ]
    },
    {
     "name": "stderr",
     "output_type": "stream",
     "text": [
      "WARNING: You are using pip version 21.0.1; however, version 22.1.2 is available.\n",
      "You should consider upgrading via the 'c:\\users\\vio_g\\appdata\\local\\programs\\python\\python39\\python.exe -m pip install --upgrade pip' command.\n"
     ]
    },
    {
     "name": "stdout",
     "output_type": "stream",
     "text": [
      "Requirement already satisfied: graphviz in c:\\users\\vio_g\\appdata\\local\\programs\\python\\python39\\lib\\site-packages (0.20)\n"
     ]
    },
    {
     "name": "stderr",
     "output_type": "stream",
     "text": [
      "WARNING: You are using pip version 21.0.1; however, version 22.1.2 is available.\n",
      "You should consider upgrading via the 'c:\\users\\vio_g\\appdata\\local\\programs\\python\\python39\\python.exe -m pip install --upgrade pip' command.\n"
     ]
    }
   ],
   "source": [
    "import numpy as np\n",
    "import pandas as pd\n",
    "from sklearn.tree import DecisionTreeClassifier\n",
    "from sklearn.model_selection import train_test_split\n",
    "from sklearn.metrics import accuracy_score\n",
    "from sklearn import tree\n",
    "from PIL import Image\n",
    "import matplotlib.pyplot as plt\n",
    "\n",
    "# To make nice plots\n",
    "!pip install six\n",
    "!pip install pydotplus\n",
    "!pip install graphviz\n",
    "from sklearn.tree import export_graphviz\n",
    "from sklearn import metrics\n",
    "from six import StringIO\n",
    "import pydotplus"
   ]
  },
  {
   "cell_type": "markdown",
   "source": [
    "# Pre-Processing data"
   ],
   "metadata": {
    "id": "wJPPDsWZOCoT",
    "pycharm": {
     "name": "#%% md\n"
    }
   }
  },
  {
   "cell_type": "markdown",
   "source": [
    "Get Dataset"
   ],
   "metadata": {
    "id": "8U36UTT0OVlN",
    "pycharm": {
     "name": "#%% md\n"
    }
   }
  },
  {
   "cell_type": "code",
   "source": [
    "collabs_dropped_path = r'/content/drive/MyDrive/Colab Notebooks/DS/2015_cleaned_droppedNaN.csv'\n",
    "collabs_imputed_path = r'/content/drive/MyDrive/Colab Notebooks/DS/2015_cleaned_imputedNaN.csv'\n",
    "# Note: if you use the dataset with imputed NaN values, the features BMI and AgeGroup are already scaled.\n",
    "\n",
    "# Path to dataset with dropped NaN values\n",
    "local_dropped_path = r'../../data/2015_cleaned_droppedNaN.csv'\n",
    "# Path to dataset with imputed NaN values\n",
    "local_imputed_path = '../../data/2015_cleaned_imputedNaN.csv'\n",
    "df = pd.read_csv(local_imputed_path)"
   ],
   "metadata": {
    "id": "hi5ghBuYOUc8",
    "pycharm": {
     "name": "#%%\n"
    }
   },
   "execution_count": 22,
   "outputs": []
  },
  {
   "cell_type": "code",
   "source": [
    "df.head()"
   ],
   "metadata": {
    "id": "FuIQPh0H5zo5",
    "colab": {
     "base_uri": "https://localhost:8080/",
     "height": 250
    },
    "outputId": "d47731cc-34ef-41cb-f684-7ea2703d3a8c",
    "pycharm": {
     "name": "#%%\n"
    }
   },
   "execution_count": 23,
   "outputs": [
    {
     "data": {
      "text/plain": "   HeartDiseaseorAttack  HighBP  HighChol       BMI  Smoker  Diabetes  \\\n0                   0.0     1.0       1.0  0.320255     1.0       0.0   \n1                   0.0     0.0       0.0  0.148641     1.0       0.0   \n2                   0.0     1.0       1.0  0.183896     0.0       0.0   \n3                   0.0     0.0       0.0  0.140453     0.0       0.0   \n4                   0.0     1.0       0.0  0.164904     0.0       0.0   \n\n   PhysActivity  Fruits  Veggies  HvyAlcoholConsump  SexIsMale  AgeGroup  \n0           0.0     0.0      1.0                0.0        0.0  0.666667  \n1           1.0     0.0      0.0                0.0        0.0  0.500000  \n2           0.0     1.0      0.0                0.0        0.0  0.666667  \n3           0.0     0.4      1.0                0.0        0.0  0.666667  \n4           1.0     1.0      1.0                0.0        0.0  0.833333  ",
      "text/html": "<div>\n<style scoped>\n    .dataframe tbody tr th:only-of-type {\n        vertical-align: middle;\n    }\n\n    .dataframe tbody tr th {\n        vertical-align: top;\n    }\n\n    .dataframe thead th {\n        text-align: right;\n    }\n</style>\n<table border=\"1\" class=\"dataframe\">\n  <thead>\n    <tr style=\"text-align: right;\">\n      <th></th>\n      <th>HeartDiseaseorAttack</th>\n      <th>HighBP</th>\n      <th>HighChol</th>\n      <th>BMI</th>\n      <th>Smoker</th>\n      <th>Diabetes</th>\n      <th>PhysActivity</th>\n      <th>Fruits</th>\n      <th>Veggies</th>\n      <th>HvyAlcoholConsump</th>\n      <th>SexIsMale</th>\n      <th>AgeGroup</th>\n    </tr>\n  </thead>\n  <tbody>\n    <tr>\n      <th>0</th>\n      <td>0.0</td>\n      <td>1.0</td>\n      <td>1.0</td>\n      <td>0.320255</td>\n      <td>1.0</td>\n      <td>0.0</td>\n      <td>0.0</td>\n      <td>0.0</td>\n      <td>1.0</td>\n      <td>0.0</td>\n      <td>0.0</td>\n      <td>0.666667</td>\n    </tr>\n    <tr>\n      <th>1</th>\n      <td>0.0</td>\n      <td>0.0</td>\n      <td>0.0</td>\n      <td>0.148641</td>\n      <td>1.0</td>\n      <td>0.0</td>\n      <td>1.0</td>\n      <td>0.0</td>\n      <td>0.0</td>\n      <td>0.0</td>\n      <td>0.0</td>\n      <td>0.500000</td>\n    </tr>\n    <tr>\n      <th>2</th>\n      <td>0.0</td>\n      <td>1.0</td>\n      <td>1.0</td>\n      <td>0.183896</td>\n      <td>0.0</td>\n      <td>0.0</td>\n      <td>0.0</td>\n      <td>1.0</td>\n      <td>0.0</td>\n      <td>0.0</td>\n      <td>0.0</td>\n      <td>0.666667</td>\n    </tr>\n    <tr>\n      <th>3</th>\n      <td>0.0</td>\n      <td>0.0</td>\n      <td>0.0</td>\n      <td>0.140453</td>\n      <td>0.0</td>\n      <td>0.0</td>\n      <td>0.0</td>\n      <td>0.4</td>\n      <td>1.0</td>\n      <td>0.0</td>\n      <td>0.0</td>\n      <td>0.666667</td>\n    </tr>\n    <tr>\n      <th>4</th>\n      <td>0.0</td>\n      <td>1.0</td>\n      <td>0.0</td>\n      <td>0.164904</td>\n      <td>0.0</td>\n      <td>0.0</td>\n      <td>1.0</td>\n      <td>1.0</td>\n      <td>1.0</td>\n      <td>0.0</td>\n      <td>0.0</td>\n      <td>0.833333</td>\n    </tr>\n  </tbody>\n</table>\n</div>"
     },
     "execution_count": 23,
     "metadata": {},
     "output_type": "execute_result"
    }
   ]
  },
  {
   "cell_type": "code",
   "source": [
    "df.shape"
   ],
   "metadata": {
    "id": "vRaBxpQz6BY5",
    "colab": {
     "base_uri": "https://localhost:8080/"
    },
    "outputId": "2433b1f7-7d12-49c7-f8b2-6989c67777ff",
    "pycharm": {
     "name": "#%%\n"
    }
   },
   "execution_count": 24,
   "outputs": [
    {
     "data": {
      "text/plain": "(437514, 12)"
     },
     "execution_count": 24,
     "metadata": {},
     "output_type": "execute_result"
    }
   ]
  },
  {
   "cell_type": "markdown",
   "source": [
    "**Check empty values**"
   ],
   "metadata": {
    "id": "4dfseaj24TpD",
    "pycharm": {
     "name": "#%% md\n"
    }
   }
  },
  {
   "cell_type": "code",
   "source": [
    "print(round((((df.isnull().sum()).sum() / np.product(df.shape)) * 100), 2))"
   ],
   "metadata": {
    "id": "VPDbDRGj4Voa",
    "colab": {
     "base_uri": "https://localhost:8080/"
    },
    "outputId": "323b97b7-75f7-4729-b9d8-62a57a0f232d",
    "pycharm": {
     "name": "#%%\n"
    }
   },
   "execution_count": 25,
   "outputs": [
    {
     "name": "stdout",
     "output_type": "stream",
     "text": [
      "0.0\n"
     ]
    }
   ]
  },
  {
   "cell_type": "markdown",
   "source": [
    "We reduce the database for testing purposes"
   ],
   "metadata": {
    "id": "hp1eqDcesiHK",
    "pycharm": {
     "name": "#%% md\n"
    }
   }
  },
  {
   "cell_type": "code",
   "source": [
    "df = df.loc[0:2500]\n",
    "df.shape"
   ],
   "metadata": {
    "id": "iL203D7AshTC",
    "pycharm": {
     "name": "#%%\n"
    }
   },
   "execution_count": 26,
   "outputs": [
    {
     "data": {
      "text/plain": "(2501, 12)"
     },
     "execution_count": 26,
     "metadata": {},
     "output_type": "execute_result"
    }
   ]
  },
  {
   "cell_type": "code",
   "source": [
    "X = df.drop(columns=['HeartDiseaseorAttack'])\n",
    "y = np.array(df['HeartDiseaseorAttack'])"
   ],
   "metadata": {
    "id": "B8b3-y6U75yR",
    "pycharm": {
     "name": "#%%\n"
    }
   },
   "execution_count": 27,
   "outputs": []
  },
  {
   "cell_type": "markdown",
   "source": [
    "**Balance Data**\n",
    "\n",
    "We performed undersampling because our target is not balanced."
   ],
   "metadata": {
    "collapsed": false,
    "pycharm": {
     "name": "#%% md\n"
    },
    "id": "oi5gysevGvrq"
   }
  },
  {
   "cell_type": "code",
   "execution_count": 28,
   "outputs": [],
   "source": [
    "from imblearn.under_sampling import RandomUnderSampler\n",
    "rus = RandomUnderSampler()\n",
    "X_resampled, y_resampled = rus.fit_resample(X, y)"
   ],
   "metadata": {
    "pycharm": {
     "name": "#%%\n"
    },
    "id": "W2tDgI06Gvrr"
   }
  },
  {
   "cell_type": "code",
   "source": [
    "from sklearn.model_selection import train_test_split\n",
    "X_train, X_test, y_train, y_test = train_test_split(X_resampled, y_resampled, test_size = 0.2)"
   ],
   "metadata": {
    "id": "X54O10_Z7wAh",
    "pycharm": {
     "name": "#%%\n"
    }
   },
   "execution_count": 29,
   "outputs": []
  },
  {
   "cell_type": "code",
   "source": [
    "y_train.shape"
   ],
   "metadata": {
    "colab": {
     "base_uri": "https://localhost:8080/"
    },
    "id": "F6yJocIZJm5a",
    "outputId": "eb4f84c3-208b-46bb-a597-a13a0c5561cd",
    "pycharm": {
     "name": "#%%\n"
    }
   },
   "execution_count": 30,
   "outputs": [
    {
     "data": {
      "text/plain": "(574,)"
     },
     "execution_count": 30,
     "metadata": {},
     "output_type": "execute_result"
    }
   ]
  },
  {
   "cell_type": "code",
   "source": [
    "X_train.shape"
   ],
   "metadata": {
    "colab": {
     "base_uri": "https://localhost:8080/"
    },
    "id": "hEj-CVN_J2UM",
    "outputId": "7727b12d-27b6-4f42-a1e6-4530624812fb",
    "pycharm": {
     "name": "#%%\n"
    }
   },
   "execution_count": 31,
   "outputs": [
    {
     "data": {
      "text/plain": "(574, 11)"
     },
     "execution_count": 31,
     "metadata": {},
     "output_type": "execute_result"
    }
   ]
  },
  {
   "cell_type": "markdown",
   "source": [
    "# Gini vs Entropy"
   ],
   "metadata": {
    "id": "5-e0yVWIQOsb",
    "pycharm": {
     "name": "#%% md\n"
    }
   }
  },
  {
   "cell_type": "markdown",
   "source": [
    "In this section we analyze if the method to calculate impurities (gini or entropy) affects the accuracy score."
   ],
   "metadata": {
    "id": "8f52WLEEQXeG",
    "pycharm": {
     "name": "#%% md\n"
    }
   }
  },
  {
   "cell_type": "code",
   "source": [
    "gini_scores  = []\n",
    "entropy_scores = []\n",
    "\n",
    "for i in range (0, 100): \n",
    "  gini_model = DecisionTreeClassifier(criterion='gini', random_state=42)\n",
    "  entropy_model = DecisionTreeClassifier(criterion='entropy', random_state=42)\n",
    "\n",
    "  gini_model.fit(X_train, y_train)\n",
    "  entropy_model.fit(X_train, y_train)\n",
    "\n",
    "  gini_predictions = gini_model.predict(X_test)\n",
    "  entropy_prediction = entropy_model.predict(X_test)\n",
    "\n",
    "  gini_scores.append(accuracy_score(y_test, gini_predictions))\n",
    "  entropy_scores.append(accuracy_score(y_test, entropy_prediction))\n",
    "\n",
    "avg_scores_gini = sum(gini_scores) / len(gini_scores)\n",
    "avg_scores_entropy = sum(entropy_scores) / len(entropy_scores)\n",
    "\n",
    "print(f\"Average accuracy score for gini {avg_scores_gini}\")\n",
    "print(f\"Average accuracy score for entropy {avg_scores_entropy}\")"
   ],
   "metadata": {
    "colab": {
     "base_uri": "https://localhost:8080/"
    },
    "id": "NABATZboQUVs",
    "outputId": "0b1c31b7-0786-4f46-b7ba-8c8dcf9fa307",
    "pycharm": {
     "name": "#%%\n"
    }
   },
   "execution_count": 32,
   "outputs": [
    {
     "name": "stdout",
     "output_type": "stream",
     "text": [
      "Average accuracy score for gini 0.541666666666666\n",
      "Average accuracy score for entropy 0.5763888888888876\n"
     ]
    }
   ]
  },
  {
   "cell_type": "code",
   "source": [
    "print(\"Statistical Analysis for gini\")\n",
    "\n",
    "gini_statistics = pd.Series(gini_scores)\n",
    "gini_statistics.describe()"
   ],
   "metadata": {
    "colab": {
     "base_uri": "https://localhost:8080/"
    },
    "id": "pONH5kVESFZZ",
    "outputId": "b7367671-7a21-4234-d55b-804f634d2224",
    "pycharm": {
     "name": "#%%\n"
    }
   },
   "execution_count": 33,
   "outputs": [
    {
     "name": "stdout",
     "output_type": "stream",
     "text": [
      "Statistical Analysis for gini\n"
     ]
    },
    {
     "data": {
      "text/plain": "count    100.000000\nmean       0.541667\nstd        0.000000\nmin        0.541667\n25%        0.541667\n50%        0.541667\n75%        0.541667\nmax        0.541667\ndtype: float64"
     },
     "execution_count": 33,
     "metadata": {},
     "output_type": "execute_result"
    }
   ]
  },
  {
   "cell_type": "code",
   "source": [
    "print(\"Statistical Analysis for entropy\")\n",
    "\n",
    "entropy_statistics = pd.Series(entropy_scores)\n",
    "entropy_statistics.describe()"
   ],
   "metadata": {
    "colab": {
     "base_uri": "https://localhost:8080/"
    },
    "id": "RjY4SC7HSWoZ",
    "outputId": "022c024e-07b7-4f1e-ccb9-df9c9f54eccf",
    "pycharm": {
     "name": "#%%\n"
    }
   },
   "execution_count": 34,
   "outputs": [
    {
     "name": "stdout",
     "output_type": "stream",
     "text": [
      "Statistical Analysis for entropy\n"
     ]
    },
    {
     "data": {
      "text/plain": "count    100.000000\nmean       0.576389\nstd        0.000000\nmin        0.576389\n25%        0.576389\n50%        0.576389\n75%        0.576389\nmax        0.576389\ndtype: float64"
     },
     "execution_count": 34,
     "metadata": {},
     "output_type": "execute_result"
    }
   ]
  },
  {
   "cell_type": "markdown",
   "source": [
    "Tree plot for gini"
   ],
   "metadata": {
    "id": "67OuLJGkSnGh",
    "pycharm": {
     "name": "#%% md\n"
    }
   }
  },
  {
   "cell_type": "code",
   "source": [
    "tree.plot_tree(gini_model)\n",
    "dot_data = StringIO()\n",
    "\n",
    "# For label correctly the data in the nodes: \n",
    "column_names = []\n",
    "for column in X: \n",
    "  column_names.append(column)\n",
    "clases_names = []\n",
    "for c in gini_model.classes_:\n",
    "  clases_names.append(str(c))\n",
    "\n",
    "\n",
    "export_graphviz(gini_model ,out_file=dot_data, filled=True, rounded=True, \n",
    "                special_characters=True, class_names=clases_names, feature_names=column_names)\n",
    "\n",
    "graph = pydotplus.graph_from_dot_data(dot_data.getvalue())\n",
    "graph.write_png(\"tree_gini_not_optimized.png\")"
   ],
   "metadata": {
    "colab": {
     "base_uri": "https://localhost:8080/",
     "height": 468
    },
    "id": "AUkrKaClSl6U",
    "outputId": "b0fda71a-2151-4957-ddb0-a7fbddc550b7",
    "pycharm": {
     "name": "#%%\n"
    }
   },
   "execution_count": 35,
   "outputs": [
    {
     "ename": "InvocationException",
     "evalue": "GraphViz's executables not found",
     "output_type": "error",
     "traceback": [
      "\u001B[1;31m---------------------------------------------------------------------------\u001B[0m",
      "\u001B[1;31mInvocationException\u001B[0m                       Traceback (most recent call last)",
      "\u001B[1;32m<ipython-input-35-4597999d9daa>\u001B[0m in \u001B[0;36m<module>\u001B[1;34m\u001B[0m\n\u001B[0;32m     15\u001B[0m \u001B[1;33m\u001B[0m\u001B[0m\n\u001B[0;32m     16\u001B[0m \u001B[0mgraph\u001B[0m \u001B[1;33m=\u001B[0m \u001B[0mpydotplus\u001B[0m\u001B[1;33m.\u001B[0m\u001B[0mgraph_from_dot_data\u001B[0m\u001B[1;33m(\u001B[0m\u001B[0mdot_data\u001B[0m\u001B[1;33m.\u001B[0m\u001B[0mgetvalue\u001B[0m\u001B[1;33m(\u001B[0m\u001B[1;33m)\u001B[0m\u001B[1;33m)\u001B[0m\u001B[1;33m\u001B[0m\u001B[1;33m\u001B[0m\u001B[0m\n\u001B[1;32m---> 17\u001B[1;33m \u001B[0mgraph\u001B[0m\u001B[1;33m.\u001B[0m\u001B[0mwrite_png\u001B[0m\u001B[1;33m(\u001B[0m\u001B[1;34m\"tree_gini_not_optimized.png\"\u001B[0m\u001B[1;33m)\u001B[0m\u001B[1;33m\u001B[0m\u001B[1;33m\u001B[0m\u001B[0m\n\u001B[0m",
      "\u001B[1;32mc:\\users\\vio_g\\appdata\\local\\programs\\python\\python39\\lib\\site-packages\\pydotplus\\graphviz.py\u001B[0m in \u001B[0;36m<lambda>\u001B[1;34m(path, f, prog)\u001B[0m\n\u001B[0;32m   1808\u001B[0m                 \u001B[1;32mlambda\u001B[0m \u001B[0mpath\u001B[0m\u001B[1;33m,\u001B[0m\u001B[1;33m\u001B[0m\u001B[1;33m\u001B[0m\u001B[0m\n\u001B[0;32m   1809\u001B[0m                 \u001B[0mf\u001B[0m\u001B[1;33m=\u001B[0m\u001B[0mfrmt\u001B[0m\u001B[1;33m,\u001B[0m\u001B[1;33m\u001B[0m\u001B[1;33m\u001B[0m\u001B[0m\n\u001B[1;32m-> 1810\u001B[1;33m                 \u001B[0mprog\u001B[0m\u001B[1;33m=\u001B[0m\u001B[0mself\u001B[0m\u001B[1;33m.\u001B[0m\u001B[0mprog\u001B[0m\u001B[1;33m:\u001B[0m \u001B[0mself\u001B[0m\u001B[1;33m.\u001B[0m\u001B[0mwrite\u001B[0m\u001B[1;33m(\u001B[0m\u001B[0mpath\u001B[0m\u001B[1;33m,\u001B[0m \u001B[0mformat\u001B[0m\u001B[1;33m=\u001B[0m\u001B[0mf\u001B[0m\u001B[1;33m,\u001B[0m \u001B[0mprog\u001B[0m\u001B[1;33m=\u001B[0m\u001B[0mprog\u001B[0m\u001B[1;33m)\u001B[0m\u001B[1;33m\u001B[0m\u001B[1;33m\u001B[0m\u001B[0m\n\u001B[0m\u001B[0;32m   1811\u001B[0m             )\n\u001B[0;32m   1812\u001B[0m \u001B[1;33m\u001B[0m\u001B[0m\n",
      "\u001B[1;32mc:\\users\\vio_g\\appdata\\local\\programs\\python\\python39\\lib\\site-packages\\pydotplus\\graphviz.py\u001B[0m in \u001B[0;36mwrite\u001B[1;34m(self, path, prog, format)\u001B[0m\n\u001B[0;32m   1916\u001B[0m \u001B[1;33m\u001B[0m\u001B[0m\n\u001B[0;32m   1917\u001B[0m             \u001B[1;32melse\u001B[0m\u001B[1;33m:\u001B[0m\u001B[1;33m\u001B[0m\u001B[1;33m\u001B[0m\u001B[0m\n\u001B[1;32m-> 1918\u001B[1;33m                 \u001B[0mfobj\u001B[0m\u001B[1;33m.\u001B[0m\u001B[0mwrite\u001B[0m\u001B[1;33m(\u001B[0m\u001B[0mself\u001B[0m\u001B[1;33m.\u001B[0m\u001B[0mcreate\u001B[0m\u001B[1;33m(\u001B[0m\u001B[0mprog\u001B[0m\u001B[1;33m,\u001B[0m \u001B[0mformat\u001B[0m\u001B[1;33m)\u001B[0m\u001B[1;33m)\u001B[0m\u001B[1;33m\u001B[0m\u001B[1;33m\u001B[0m\u001B[0m\n\u001B[0m\u001B[0;32m   1919\u001B[0m         \u001B[1;32mfinally\u001B[0m\u001B[1;33m:\u001B[0m\u001B[1;33m\u001B[0m\u001B[1;33m\u001B[0m\u001B[0m\n\u001B[0;32m   1920\u001B[0m             \u001B[1;32mif\u001B[0m \u001B[0mclose\u001B[0m\u001B[1;33m:\u001B[0m\u001B[1;33m\u001B[0m\u001B[1;33m\u001B[0m\u001B[0m\n",
      "\u001B[1;32mc:\\users\\vio_g\\appdata\\local\\programs\\python\\python39\\lib\\site-packages\\pydotplus\\graphviz.py\u001B[0m in \u001B[0;36mcreate\u001B[1;34m(self, prog, format)\u001B[0m\n\u001B[0;32m   1957\u001B[0m             \u001B[0mself\u001B[0m\u001B[1;33m.\u001B[0m\u001B[0mprogs\u001B[0m \u001B[1;33m=\u001B[0m \u001B[0mfind_graphviz\u001B[0m\u001B[1;33m(\u001B[0m\u001B[1;33m)\u001B[0m\u001B[1;33m\u001B[0m\u001B[1;33m\u001B[0m\u001B[0m\n\u001B[0;32m   1958\u001B[0m             \u001B[1;32mif\u001B[0m \u001B[0mself\u001B[0m\u001B[1;33m.\u001B[0m\u001B[0mprogs\u001B[0m \u001B[1;32mis\u001B[0m \u001B[1;32mNone\u001B[0m\u001B[1;33m:\u001B[0m\u001B[1;33m\u001B[0m\u001B[1;33m\u001B[0m\u001B[0m\n\u001B[1;32m-> 1959\u001B[1;33m                 raise InvocationException(\n\u001B[0m\u001B[0;32m   1960\u001B[0m                     'GraphViz\\'s executables not found')\n\u001B[0;32m   1961\u001B[0m \u001B[1;33m\u001B[0m\u001B[0m\n",
      "\u001B[1;31mInvocationException\u001B[0m: GraphViz's executables not found"
     ]
    },
    {
     "data": {
      "text/plain": "<Figure size 432x288 with 1 Axes>",
      "image/png": "[encoded data removed]"
     },
     "metadata": {
      "needs_background": "light"
     },
     "output_type": "display_data"
    }
   ]
  },
  {
   "cell_type": "markdown",
   "source": [
    "Tree plot for entropy"
   ],
   "metadata": {
    "id": "HGoMYWw5Uaja",
    "pycharm": {
     "name": "#%% md\n"
    }
   }
  },
  {
   "cell_type": "code",
   "source": [
    "tree.plot_tree(entropy_model)\n",
    "dot_data = StringIO()\n",
    "\n",
    "# For label correctly the data in the nodes: \n",
    "clases_names = []\n",
    "for c in entropy_model.classes_:\n",
    "  clases_names.append(str(c))\n",
    "\n",
    "export_graphviz(entropy_model ,out_file=dot_data, filled=True, rounded=True, \n",
    "                special_characters=True, class_names=clases_names, feature_names=column_names)\n",
    "\n",
    "graph = pydotplus.graph_from_dot_data(dot_data.getvalue())\n",
    "graph.write_png(\"tree_entropy_not_optimized.png\")"
   ],
   "metadata": {
    "colab": {
     "base_uri": "https://localhost:8080/",
     "height": 1000
    },
    "id": "zEd7OE6tUekT",
    "outputId": "199c1e7d-cb5b-4f57-aa30-0994177faf91",
    "pycharm": {
     "name": "#%%\n"
    }
   },
   "execution_count": 36,
   "outputs": [
    {
     "ename": "InvocationException",
     "evalue": "GraphViz's executables not found",
     "output_type": "error",
     "traceback": [
      "\u001B[1;31m---------------------------------------------------------------------------\u001B[0m",
      "\u001B[1;31mInvocationException\u001B[0m                       Traceback (most recent call last)",
      "\u001B[1;32m<ipython-input-36-9f7d16756b34>\u001B[0m in \u001B[0;36m<module>\u001B[1;34m\u001B[0m\n\u001B[0;32m     11\u001B[0m \u001B[1;33m\u001B[0m\u001B[0m\n\u001B[0;32m     12\u001B[0m \u001B[0mgraph\u001B[0m \u001B[1;33m=\u001B[0m \u001B[0mpydotplus\u001B[0m\u001B[1;33m.\u001B[0m\u001B[0mgraph_from_dot_data\u001B[0m\u001B[1;33m(\u001B[0m\u001B[0mdot_data\u001B[0m\u001B[1;33m.\u001B[0m\u001B[0mgetvalue\u001B[0m\u001B[1;33m(\u001B[0m\u001B[1;33m)\u001B[0m\u001B[1;33m)\u001B[0m\u001B[1;33m\u001B[0m\u001B[1;33m\u001B[0m\u001B[0m\n\u001B[1;32m---> 13\u001B[1;33m \u001B[0mgraph\u001B[0m\u001B[1;33m.\u001B[0m\u001B[0mwrite_png\u001B[0m\u001B[1;33m(\u001B[0m\u001B[1;34m\"tree_entropy_not_optimized.png\"\u001B[0m\u001B[1;33m)\u001B[0m\u001B[1;33m\u001B[0m\u001B[1;33m\u001B[0m\u001B[0m\n\u001B[0m",
      "\u001B[1;32mc:\\users\\vio_g\\appdata\\local\\programs\\python\\python39\\lib\\site-packages\\pydotplus\\graphviz.py\u001B[0m in \u001B[0;36m<lambda>\u001B[1;34m(path, f, prog)\u001B[0m\n\u001B[0;32m   1808\u001B[0m                 \u001B[1;32mlambda\u001B[0m \u001B[0mpath\u001B[0m\u001B[1;33m,\u001B[0m\u001B[1;33m\u001B[0m\u001B[1;33m\u001B[0m\u001B[0m\n\u001B[0;32m   1809\u001B[0m                 \u001B[0mf\u001B[0m\u001B[1;33m=\u001B[0m\u001B[0mfrmt\u001B[0m\u001B[1;33m,\u001B[0m\u001B[1;33m\u001B[0m\u001B[1;33m\u001B[0m\u001B[0m\n\u001B[1;32m-> 1810\u001B[1;33m                 \u001B[0mprog\u001B[0m\u001B[1;33m=\u001B[0m\u001B[0mself\u001B[0m\u001B[1;33m.\u001B[0m\u001B[0mprog\u001B[0m\u001B[1;33m:\u001B[0m \u001B[0mself\u001B[0m\u001B[1;33m.\u001B[0m\u001B[0mwrite\u001B[0m\u001B[1;33m(\u001B[0m\u001B[0mpath\u001B[0m\u001B[1;33m,\u001B[0m \u001B[0mformat\u001B[0m\u001B[1;33m=\u001B[0m\u001B[0mf\u001B[0m\u001B[1;33m,\u001B[0m \u001B[0mprog\u001B[0m\u001B[1;33m=\u001B[0m\u001B[0mprog\u001B[0m\u001B[1;33m)\u001B[0m\u001B[1;33m\u001B[0m\u001B[1;33m\u001B[0m\u001B[0m\n\u001B[0m\u001B[0;32m   1811\u001B[0m             )\n\u001B[0;32m   1812\u001B[0m \u001B[1;33m\u001B[0m\u001B[0m\n",
      "\u001B[1;32mc:\\users\\vio_g\\appdata\\local\\programs\\python\\python39\\lib\\site-packages\\pydotplus\\graphviz.py\u001B[0m in \u001B[0;36mwrite\u001B[1;34m(self, path, prog, format)\u001B[0m\n\u001B[0;32m   1916\u001B[0m \u001B[1;33m\u001B[0m\u001B[0m\n\u001B[0;32m   1917\u001B[0m             \u001B[1;32melse\u001B[0m\u001B[1;33m:\u001B[0m\u001B[1;33m\u001B[0m\u001B[1;33m\u001B[0m\u001B[0m\n\u001B[1;32m-> 1918\u001B[1;33m                 \u001B[0mfobj\u001B[0m\u001B[1;33m.\u001B[0m\u001B[0mwrite\u001B[0m\u001B[1;33m(\u001B[0m\u001B[0mself\u001B[0m\u001B[1;33m.\u001B[0m\u001B[0mcreate\u001B[0m\u001B[1;33m(\u001B[0m\u001B[0mprog\u001B[0m\u001B[1;33m,\u001B[0m \u001B[0mformat\u001B[0m\u001B[1;33m)\u001B[0m\u001B[1;33m)\u001B[0m\u001B[1;33m\u001B[0m\u001B[1;33m\u001B[0m\u001B[0m\n\u001B[0m\u001B[0;32m   1919\u001B[0m         \u001B[1;32mfinally\u001B[0m\u001B[1;33m:\u001B[0m\u001B[1;33m\u001B[0m\u001B[1;33m\u001B[0m\u001B[0m\n\u001B[0;32m   1920\u001B[0m             \u001B[1;32mif\u001B[0m \u001B[0mclose\u001B[0m\u001B[1;33m:\u001B[0m\u001B[1;33m\u001B[0m\u001B[1;33m\u001B[0m\u001B[0m\n",
      "\u001B[1;32mc:\\users\\vio_g\\appdata\\local\\programs\\python\\python39\\lib\\site-packages\\pydotplus\\graphviz.py\u001B[0m in \u001B[0;36mcreate\u001B[1;34m(self, prog, format)\u001B[0m\n\u001B[0;32m   1957\u001B[0m             \u001B[0mself\u001B[0m\u001B[1;33m.\u001B[0m\u001B[0mprogs\u001B[0m \u001B[1;33m=\u001B[0m \u001B[0mfind_graphviz\u001B[0m\u001B[1;33m(\u001B[0m\u001B[1;33m)\u001B[0m\u001B[1;33m\u001B[0m\u001B[1;33m\u001B[0m\u001B[0m\n\u001B[0;32m   1958\u001B[0m             \u001B[1;32mif\u001B[0m \u001B[0mself\u001B[0m\u001B[1;33m.\u001B[0m\u001B[0mprogs\u001B[0m \u001B[1;32mis\u001B[0m \u001B[1;32mNone\u001B[0m\u001B[1;33m:\u001B[0m\u001B[1;33m\u001B[0m\u001B[1;33m\u001B[0m\u001B[0m\n\u001B[1;32m-> 1959\u001B[1;33m                 raise InvocationException(\n\u001B[0m\u001B[0;32m   1960\u001B[0m                     'GraphViz\\'s executables not found')\n\u001B[0;32m   1961\u001B[0m \u001B[1;33m\u001B[0m\u001B[0m\n",
      "\u001B[1;31mInvocationException\u001B[0m: GraphViz's executables not found"
     ]
    },
    {
     "data": {
      "text/plain": "<Figure size 432x288 with 1 Axes>",
      "image/png": "[encoded data removed]"
     },
     "metadata": {
      "needs_background": "light"
     },
     "output_type": "display_data"
    }
   ]
  },
  {
   "cell_type": "markdown",
   "source": [
    "**Conclusion**\n",
    "\n",
    "Entropy seems to have a better performance for this particular dataset. However, the gini criterion is faster because it is less computationally expensive. With a really big dataset (like our dataset) it might not be worth the time invested in training when using the entropy criterion. \n",
    "\n",
    "Moreover both trees seem overfitted, therefore we will analyze pruning in the next section. "
   ],
   "metadata": {
    "id": "PIplKQpHU_Ho",
    "pycharm": {
     "name": "#%% md\n"
    }
   }
  },
  {
   "cell_type": "markdown",
   "source": [
    "# Pruning the tree"
   ],
   "metadata": {
    "id": "MSsr_yO7WTiP",
    "pycharm": {
     "name": "#%% md\n"
    }
   }
  },
  {
   "cell_type": "markdown",
   "source": [
    "Pruning means limiting the growth of a tree with the purpose of avoiding overfitting. \n",
    "\n",
    "Decision-trees classifiers in sklearn use the following parameters for pruning: \n",
    "* max_depth\n",
    "* max_leaf_nodes\n",
    "* min_samples_split\n",
    "* min_samples_leaf\n",
    "* min_impurity_decrease\n",
    "\n",
    "For our tree, we will directly use ccp (cost complexity pruning), which is a post-pruning technique. The subtree with the largest cost complexity that is smaller than ccp_alpha will be chosen. \n",
    "\n",
    "The higher alpha is, the more the tree is prunned. An alpha of 0 will not preformed prunning (will leave just a node in the tree). "
   ],
   "metadata": {
    "id": "cVsy5mWzWfM4",
    "pycharm": {
     "name": "#%% md\n"
    }
   }
  },
  {
   "cell_type": "code",
   "source": [
    "model = DecisionTreeClassifier(criterion='gini', random_state=42)"
   ],
   "metadata": {
    "id": "EU8P60WnWaM0",
    "pycharm": {
     "name": "#%%\n"
    }
   },
   "execution_count": 37,
   "outputs": []
  },
  {
   "cell_type": "markdown",
   "source": [
    "We create a list of alpha values to be tested in the tree model. "
   ],
   "metadata": {
    "id": "ZWABiLmGajne",
    "pycharm": {
     "name": "#%% md\n"
    }
   }
  },
  {
   "cell_type": "code",
   "source": [
    "ccp_alphas = np.arange(0, 0.5, 0.02)\n",
    "print(\"Alpha list is\") \n",
    "print(ccp_alphas)"
   ],
   "metadata": {
    "colab": {
     "base_uri": "https://localhost:8080/"
    },
    "id": "ikDCqPfQZGoe",
    "outputId": "c4e4523a-a13a-4bf0-facd-3bf5496664f7",
    "pycharm": {
     "name": "#%%\n"
    }
   },
   "execution_count": 38,
   "outputs": [
    {
     "name": "stdout",
     "output_type": "stream",
     "text": [
      "Alpha list is\n",
      "[0.   0.02 0.04 0.06 0.08 0.1  0.12 0.14 0.16 0.18 0.2  0.22 0.24 0.26\n",
      " 0.28 0.3  0.32 0.34 0.36 0.38 0.4  0.42 0.44 0.46 0.48]\n"
     ]
    }
   ]
  },
  {
   "cell_type": "code",
   "source": [
    "model_alphas = []\n",
    "for alpha in ccp_alphas: \n",
    "  model = DecisionTreeClassifier(ccp_alpha=alpha, random_state=42)\n",
    "  model.fit(X_train, y_train)\n",
    "  model_alphas.append(model)"
   ],
   "metadata": {
    "id": "ai2rot2BatXV",
    "pycharm": {
     "name": "#%%\n"
    }
   },
   "execution_count": 39,
   "outputs": []
  },
  {
   "cell_type": "markdown",
   "source": [
    "Now I graph the accuracy of each tree using the Training Dataset and the Testing Dataset as a function of alpha. \n",
    "\n",
    "The blue line is the accuracy for the training dataset. \n",
    "The yellow line is the accuracy for the test dataset. \n",
    "\n",
    "As we prune (alpha gets bigger) we see that the trainig accuracy decreases but the accuracy of testing increase. "
   ],
   "metadata": {
    "id": "81Nif6HubApW",
    "pycharm": {
     "name": "#%% md\n"
    }
   }
  },
  {
   "cell_type": "code",
   "source": [
    "train_scores = [model.score(X_train, y_train) for model in model_alphas]\n",
    "test_scores = [model.score(X_test, y_test) for model in model_alphas]\n",
    "\n",
    "import matplotlib.pyplot as plt\n",
    "fig, ax = plt.subplots()\n",
    "ax.set_xlabel('alpha')\n",
    "ax.set_ylabel('accuracy')\n",
    "ax.set_title('Accuracy vs alpha for training and testing sets')\n",
    "ax.plot(ccp_alphas, train_scores, marker='o', label='train', drawstyle='steps-post')\n",
    "ax.plot(ccp_alphas, test_scores, marker='o', label='test', drawstyle='steps-post')\n",
    "ax.legend()\n",
    "plt.show()"
   ],
   "metadata": {
    "colab": {
     "base_uri": "https://localhost:8080/",
     "height": 295
    },
    "id": "dscX36zZbw4V",
    "outputId": "360b556f-f3cb-4558-8daa-f585e679be5d",
    "pycharm": {
     "name": "#%%\n"
    }
   },
   "execution_count": 40,
   "outputs": [
    {
     "data": {
      "text/plain": "<Figure size 432x288 with 1 Axes>",
      "image/png": "[encoded data removed]"
     },
     "metadata": {
      "needs_background": "light"
     },
     "output_type": "display_data"
    }
   ]
  },
  {
   "cell_type": "markdown",
   "source": [
    "From previous testing, we know that the optimal value of alpha must be around 0.025. We updated the list ccp_alphas and we will try to find a good value for alpha using cross validation."
   ],
   "metadata": {
    "id": "Ym7x65CMYZqf",
    "pycharm": {
     "name": "#%% md\n"
    }
   }
  },
  {
   "cell_type": "code",
   "source": [
    "ccp_alphas = np.arange(0, 0.09, 0.002)\n",
    "print(\"Alpha list is\") \n",
    "print(ccp_alphas)"
   ],
   "metadata": {
    "colab": {
     "base_uri": "https://localhost:8080/"
    },
    "outputId": "2ac32312-c8e1-49a2-cec2-c60e7a3fccd0",
    "id": "FZA2kHr1aOrj",
    "pycharm": {
     "name": "#%%\n"
    }
   },
   "execution_count": 41,
   "outputs": [
    {
     "name": "stdout",
     "output_type": "stream",
     "text": [
      "Alpha list is\n",
      "[0.    0.002 0.004 0.006 0.008 0.01  0.012 0.014 0.016 0.018 0.02  0.022\n",
      " 0.024 0.026 0.028 0.03  0.032 0.034 0.036 0.038 0.04  0.042 0.044 0.046\n",
      " 0.048 0.05  0.052 0.054 0.056 0.058 0.06  0.062 0.064 0.066 0.068 0.07\n",
      " 0.072 0.074 0.076 0.078 0.08  0.082 0.084 0.086 0.088]\n"
     ]
    }
   ]
  },
  {
   "cell_type": "code",
   "source": [
    "from sklearn.model_selection import cross_val_score\n",
    "stat_values = []\n",
    "for alpha in ccp_alphas:\n",
    "  model = DecisionTreeClassifier(ccp_alpha=alpha, random_state=42)\n",
    "  scores = cross_val_score(model, X_train, y_train, cv=5)\n",
    "  stat_values.append([alpha, np.mean(scores), np.std(scores)])"
   ],
   "metadata": {
    "id": "YC6J0TCqfFle",
    "pycharm": {
     "name": "#%%\n"
    }
   },
   "execution_count": 42,
   "outputs": []
  },
  {
   "cell_type": "markdown",
   "source": [
    "Now we draw a graph for the means and standard deviation of the accuracy scores calculated for each candidate. "
   ],
   "metadata": {
    "id": "BWQG02-mfpF9",
    "pycharm": {
     "name": "#%% md\n"
    }
   }
  },
  {
   "cell_type": "code",
   "source": [
    "alpha_results = pd.DataFrame(stat_values, columns=['alpha', 'mean_accuracy', 'std'])\n",
    "alpha_results.plot(x = 'alpha', y='mean_accuracy', yerr='std', marker='o', linestyle='--')"
   ],
   "metadata": {
    "colab": {
     "base_uri": "https://localhost:8080/",
     "height": 296
    },
    "id": "aUWSfP22fn7u",
    "outputId": "0a59cc86-2eec-4685-f7a5-f77689ffcbdb",
    "pycharm": {
     "name": "#%%\n"
    }
   },
   "execution_count": 43,
   "outputs": [
    {
     "data": {
      "text/plain": "<AxesSubplot:xlabel='alpha'>"
     },
     "execution_count": 43,
     "metadata": {},
     "output_type": "execute_result"
    },
    {
     "data": {
      "text/plain": "<Figure size 432x288 with 1 Axes>",
      "image/png": "[encoded data removed]"
     },
     "metadata": {
      "needs_background": "light"
     },
     "output_type": "display_data"
    }
   ]
  },
  {
   "cell_type": "code",
   "source": [
    "print(\"Alpha Results are\")\n",
    "alpha_results"
   ],
   "metadata": {
    "colab": {
     "base_uri": "https://localhost:8080/",
     "height": 1000
    },
    "id": "NAE2tpLngjGN",
    "outputId": "a393989d-93f0-440e-adaf-6e252b63bcb1",
    "pycharm": {
     "name": "#%%\n"
    }
   },
   "execution_count": 44,
   "outputs": [
    {
     "name": "stdout",
     "output_type": "stream",
     "text": [
      "Alpha Results are\n"
     ]
    },
    {
     "data": {
      "text/plain": "    alpha  mean_accuracy       std\n0   0.000       0.574935  0.031461\n1   0.002       0.574950  0.039786\n2   0.004       0.623677  0.051229\n3   0.006       0.651503  0.050586\n4   0.008       0.651548  0.059082\n5   0.010       0.653303  0.058853\n6   0.012       0.655042  0.032438\n7   0.014       0.655042  0.032438\n8   0.016       0.649825  0.031294\n9   0.018       0.649825  0.031294\n10  0.020       0.635789  0.042272\n11  0.022       0.635789  0.042272\n12  0.024       0.632311  0.045654\n13  0.026       0.632311  0.045654\n14  0.028       0.632311  0.045654\n15  0.030       0.632311  0.045654\n16  0.032       0.632311  0.045654\n17  0.034       0.632311  0.045654\n18  0.036       0.632311  0.045654\n19  0.038       0.632311  0.045654\n20  0.040       0.632311  0.045654\n21  0.042       0.632311  0.045654\n22  0.044       0.632311  0.045654\n23  0.046       0.632311  0.045654\n24  0.048       0.632311  0.045654\n25  0.050       0.632311  0.045654\n26  0.052       0.562746  0.048429\n27  0.054       0.562746  0.048429\n28  0.056       0.562746  0.048429\n29  0.058       0.548711  0.051755\n30  0.060       0.506972  0.003486\n31  0.062       0.506972  0.003486\n32  0.064       0.506972  0.003486\n33  0.066       0.506972  0.003486\n34  0.068       0.506972  0.003486\n35  0.070       0.506972  0.003486\n36  0.072       0.506972  0.003486\n37  0.074       0.506972  0.003486\n38  0.076       0.506972  0.003486\n39  0.078       0.506972  0.003486\n40  0.080       0.506972  0.003486\n41  0.082       0.506972  0.003486\n42  0.084       0.506972  0.003486\n43  0.086       0.506972  0.003486\n44  0.088       0.506972  0.003486",
      "text/html": "<div>\n<style scoped>\n    .dataframe tbody tr th:only-of-type {\n        vertical-align: middle;\n    }\n\n    .dataframe tbody tr th {\n        vertical-align: top;\n    }\n\n    .dataframe thead th {\n        text-align: right;\n    }\n</style>\n<table border=\"1\" class=\"dataframe\">\n  <thead>\n    <tr style=\"text-align: right;\">\n      <th></th>\n      <th>alpha</th>\n      <th>mean_accuracy</th>\n      <th>std</th>\n    </tr>\n  </thead>\n  <tbody>\n    <tr>\n      <th>0</th>\n      <td>0.000</td>\n      <td>0.574935</td>\n      <td>0.031461</td>\n    </tr>\n    <tr>\n      <th>1</th>\n      <td>0.002</td>\n      <td>0.574950</td>\n      <td>0.039786</td>\n    </tr>\n    <tr>\n      <th>2</th>\n      <td>0.004</td>\n      <td>0.623677</td>\n      <td>0.051229</td>\n    </tr>\n    <tr>\n      <th>3</th>\n      <td>0.006</td>\n      <td>0.651503</td>\n      <td>0.050586</td>\n    </tr>\n    <tr>\n      <th>4</th>\n      <td>0.008</td>\n      <td>0.651548</td>\n      <td>0.059082</td>\n    </tr>\n    <tr>\n      <th>5</th>\n      <td>0.010</td>\n      <td>0.653303</td>\n      <td>0.058853</td>\n    </tr>\n    <tr>\n      <th>6</th>\n      <td>0.012</td>\n      <td>0.655042</td>\n      <td>0.032438</td>\n    </tr>\n    <tr>\n      <th>7</th>\n      <td>0.014</td>\n      <td>0.655042</td>\n      <td>0.032438</td>\n    </tr>\n    <tr>\n      <th>8</th>\n      <td>0.016</td>\n      <td>0.649825</td>\n      <td>0.031294</td>\n    </tr>\n    <tr>\n      <th>9</th>\n      <td>0.018</td>\n      <td>0.649825</td>\n      <td>0.031294</td>\n    </tr>\n    <tr>\n      <th>10</th>\n      <td>0.020</td>\n      <td>0.635789</td>\n      <td>0.042272</td>\n    </tr>\n    <tr>\n      <th>11</th>\n      <td>0.022</td>\n      <td>0.635789</td>\n      <td>0.042272</td>\n    </tr>\n    <tr>\n      <th>12</th>\n      <td>0.024</td>\n      <td>0.632311</td>\n      <td>0.045654</td>\n    </tr>\n    <tr>\n      <th>13</th>\n      <td>0.026</td>\n      <td>0.632311</td>\n      <td>0.045654</td>\n    </tr>\n    <tr>\n      <th>14</th>\n      <td>0.028</td>\n      <td>0.632311</td>\n      <td>0.045654</td>\n    </tr>\n    <tr>\n      <th>15</th>\n      <td>0.030</td>\n      <td>0.632311</td>\n      <td>0.045654</td>\n    </tr>\n    <tr>\n      <th>16</th>\n      <td>0.032</td>\n      <td>0.632311</td>\n      <td>0.045654</td>\n    </tr>\n    <tr>\n      <th>17</th>\n      <td>0.034</td>\n      <td>0.632311</td>\n      <td>0.045654</td>\n    </tr>\n    <tr>\n      <th>18</th>\n      <td>0.036</td>\n      <td>0.632311</td>\n      <td>0.045654</td>\n    </tr>\n    <tr>\n      <th>19</th>\n      <td>0.038</td>\n      <td>0.632311</td>\n      <td>0.045654</td>\n    </tr>\n    <tr>\n      <th>20</th>\n      <td>0.040</td>\n      <td>0.632311</td>\n      <td>0.045654</td>\n    </tr>\n    <tr>\n      <th>21</th>\n      <td>0.042</td>\n      <td>0.632311</td>\n      <td>0.045654</td>\n    </tr>\n    <tr>\n      <th>22</th>\n      <td>0.044</td>\n      <td>0.632311</td>\n      <td>0.045654</td>\n    </tr>\n    <tr>\n      <th>23</th>\n      <td>0.046</td>\n      <td>0.632311</td>\n      <td>0.045654</td>\n    </tr>\n    <tr>\n      <th>24</th>\n      <td>0.048</td>\n      <td>0.632311</td>\n      <td>0.045654</td>\n    </tr>\n    <tr>\n      <th>25</th>\n      <td>0.050</td>\n      <td>0.632311</td>\n      <td>0.045654</td>\n    </tr>\n    <tr>\n      <th>26</th>\n      <td>0.052</td>\n      <td>0.562746</td>\n      <td>0.048429</td>\n    </tr>\n    <tr>\n      <th>27</th>\n      <td>0.054</td>\n      <td>0.562746</td>\n      <td>0.048429</td>\n    </tr>\n    <tr>\n      <th>28</th>\n      <td>0.056</td>\n      <td>0.562746</td>\n      <td>0.048429</td>\n    </tr>\n    <tr>\n      <th>29</th>\n      <td>0.058</td>\n      <td>0.548711</td>\n      <td>0.051755</td>\n    </tr>\n    <tr>\n      <th>30</th>\n      <td>0.060</td>\n      <td>0.506972</td>\n      <td>0.003486</td>\n    </tr>\n    <tr>\n      <th>31</th>\n      <td>0.062</td>\n      <td>0.506972</td>\n      <td>0.003486</td>\n    </tr>\n    <tr>\n      <th>32</th>\n      <td>0.064</td>\n      <td>0.506972</td>\n      <td>0.003486</td>\n    </tr>\n    <tr>\n      <th>33</th>\n      <td>0.066</td>\n      <td>0.506972</td>\n      <td>0.003486</td>\n    </tr>\n    <tr>\n      <th>34</th>\n      <td>0.068</td>\n      <td>0.506972</td>\n      <td>0.003486</td>\n    </tr>\n    <tr>\n      <th>35</th>\n      <td>0.070</td>\n      <td>0.506972</td>\n      <td>0.003486</td>\n    </tr>\n    <tr>\n      <th>36</th>\n      <td>0.072</td>\n      <td>0.506972</td>\n      <td>0.003486</td>\n    </tr>\n    <tr>\n      <th>37</th>\n      <td>0.074</td>\n      <td>0.506972</td>\n      <td>0.003486</td>\n    </tr>\n    <tr>\n      <th>38</th>\n      <td>0.076</td>\n      <td>0.506972</td>\n      <td>0.003486</td>\n    </tr>\n    <tr>\n      <th>39</th>\n      <td>0.078</td>\n      <td>0.506972</td>\n      <td>0.003486</td>\n    </tr>\n    <tr>\n      <th>40</th>\n      <td>0.080</td>\n      <td>0.506972</td>\n      <td>0.003486</td>\n    </tr>\n    <tr>\n      <th>41</th>\n      <td>0.082</td>\n      <td>0.506972</td>\n      <td>0.003486</td>\n    </tr>\n    <tr>\n      <th>42</th>\n      <td>0.084</td>\n      <td>0.506972</td>\n      <td>0.003486</td>\n    </tr>\n    <tr>\n      <th>43</th>\n      <td>0.086</td>\n      <td>0.506972</td>\n      <td>0.003486</td>\n    </tr>\n    <tr>\n      <th>44</th>\n      <td>0.088</td>\n      <td>0.506972</td>\n      <td>0.003486</td>\n    </tr>\n  </tbody>\n</table>\n</div>"
     },
     "execution_count": 44,
     "metadata": {},
     "output_type": "execute_result"
    }
   ]
  },
  {
   "cell_type": "markdown",
   "source": [
    "We could repeat the operation for a value of alpha betwwen 0.001 and 0.0025. But since the accuracy does not seem to increase that much, we have decided assign 0.002 to alpha. "
   ],
   "metadata": {
    "id": "OpUDRN_memBR",
    "pycharm": {
     "name": "#%% md\n"
    }
   }
  },
  {
   "cell_type": "code",
   "source": [
    "max_index = alpha_results['mean_accuracy'].idxmax()\n",
    "ideal_ccp_alpha = alpha_results['alpha'][max_index]\n",
    "print(f\"The ideal value of alpha is {ideal_ccp_alpha}\")"
   ],
   "metadata": {
    "colab": {
     "base_uri": "https://localhost:8080/"
    },
    "id": "KhH-G_n1hNJT",
    "outputId": "6ace8243-8363-41bb-cdf7-2eefa084aaac",
    "pycharm": {
     "name": "#%%\n"
    }
   },
   "execution_count": 45,
   "outputs": [
    {
     "name": "stdout",
     "output_type": "stream",
     "text": [
      "The ideal value of alpha is 0.012\n"
     ]
    }
   ]
  },
  {
   "cell_type": "markdown",
   "source": [
    "# Build and evaluate classification tree"
   ],
   "metadata": {
    "id": "fatmNIMcnuJg",
    "pycharm": {
     "name": "#%% md\n"
    }
   }
  },
  {
   "cell_type": "code",
   "source": [
    "scores = []\n",
    "for i in range(0, 100):\n",
    "  model_pruned = DecisionTreeClassifier(criterion='gini', ccp_alpha=ideal_ccp_alpha, random_state=42)\n",
    "  model_pruned.fit(X_train, y_train)\n",
    "  predictions = model_pruned.predict(X_test)\n",
    "  scores.append(accuracy_score(y_test, predictions))\n",
    "average_score = sum(scores) / len(scores)\n",
    "print(f'average score is {average_score} and its statistic is: ')\n",
    "print('difference between max and mit value is ', max(scores) - min(scores))\n",
    "scores = pd.Series(scores)\n",
    "print(scores.describe())\n"
   ],
   "metadata": {
    "colab": {
     "base_uri": "https://localhost:8080/"
    },
    "id": "kS5uHQxEnycD",
    "outputId": "80549ada-4b84-4ea9-af5e-efbebaadfdcd",
    "pycharm": {
     "name": "#%%\n"
    }
   },
   "execution_count": 46,
   "outputs": [
    {
     "name": "stdout",
     "output_type": "stream",
     "text": [
      "average score is 0.6180555555555567 and its statistic is: \n",
      "difference between max and mit value is  0.0\n",
      "count    1.000000e+02\n",
      "mean     6.180556e-01\n",
      "std      1.115816e-16\n",
      "min      6.180556e-01\n",
      "25%      6.180556e-01\n",
      "50%      6.180556e-01\n",
      "75%      6.180556e-01\n",
      "max      6.180556e-01\n",
      "dtype: float64\n"
     ]
    }
   ]
  },
  {
   "cell_type": "code",
   "source": [
    "from sklearn.metrics import plot_confusion_matrix\n",
    "plot_confusion_matrix(model_pruned, X_test, y_test)"
   ],
   "metadata": {
    "colab": {
     "base_uri": "https://localhost:8080/",
     "height": 351
    },
    "id": "mrbRHWz3oV_Y",
    "outputId": "28f7ba98-34f6-49f6-fe55-4b07608b079b",
    "pycharm": {
     "name": "#%%\n"
    }
   },
   "execution_count": 47,
   "outputs": [
    {
     "name": "stderr",
     "output_type": "stream",
     "text": [
      "c:\\users\\vio_g\\appdata\\local\\programs\\python\\python39\\lib\\site-packages\\sklearn\\utils\\deprecation.py:87: FutureWarning: Function plot_confusion_matrix is deprecated; Function `plot_confusion_matrix` is deprecated in 1.0 and will be removed in 1.2. Use one of the class methods: ConfusionMatrixDisplay.from_predictions or ConfusionMatrixDisplay.from_estimator.\n",
      "  warnings.warn(msg, category=FutureWarning)\n"
     ]
    },
    {
     "data": {
      "text/plain": "<sklearn.metrics._plot.confusion_matrix.ConfusionMatrixDisplay at 0x22271d4fa60>"
     },
     "execution_count": 47,
     "metadata": {},
     "output_type": "execute_result"
    },
    {
     "data": {
      "text/plain": "<Figure size 432x288 with 2 Axes>",
      "image/png": "[encoded data removed]"
     },
     "metadata": {
      "needs_background": "light"
     },
     "output_type": "display_data"
    }
   ]
  },
  {
   "cell_type": "code",
   "execution_count": 48,
   "outputs": [
    {
     "name": "stdout",
     "output_type": "stream",
     "text": [
      "['HighBP', 'HighChol', 'BMI', 'Smoker', 'Diabetes', 'PhysActivity', 'Fruits', 'Veggies', 'HvyAlcoholConsump', 'SexIsMale', 'AgeGroup']\n"
     ]
    },
    {
     "ename": "InvocationException",
     "evalue": "GraphViz's executables not found",
     "output_type": "error",
     "traceback": [
      "\u001B[1;31m---------------------------------------------------------------------------\u001B[0m",
      "\u001B[1;31mInvocationException\u001B[0m                       Traceback (most recent call last)",
      "\u001B[1;32m<ipython-input-48-06563f93e4ca>\u001B[0m in \u001B[0;36m<module>\u001B[1;34m\u001B[0m\n\u001B[0;32m      5\u001B[0m \u001B[1;33m\u001B[0m\u001B[0m\n\u001B[0;32m      6\u001B[0m \u001B[0mgraph\u001B[0m \u001B[1;33m=\u001B[0m \u001B[0mpydotplus\u001B[0m\u001B[1;33m.\u001B[0m\u001B[0mgraph_from_dot_data\u001B[0m\u001B[1;33m(\u001B[0m\u001B[0mdot_data\u001B[0m\u001B[1;33m.\u001B[0m\u001B[0mgetvalue\u001B[0m\u001B[1;33m(\u001B[0m\u001B[1;33m)\u001B[0m\u001B[1;33m)\u001B[0m\u001B[1;33m\u001B[0m\u001B[1;33m\u001B[0m\u001B[0m\n\u001B[1;32m----> 7\u001B[1;33m \u001B[0mgraph\u001B[0m\u001B[1;33m.\u001B[0m\u001B[0mwrite_png\u001B[0m\u001B[1;33m(\u001B[0m\u001B[1;34m\"tree_optimized_prunning.png\"\u001B[0m\u001B[1;33m)\u001B[0m\u001B[1;33m\u001B[0m\u001B[1;33m\u001B[0m\u001B[0m\n\u001B[0m\u001B[0;32m      8\u001B[0m \u001B[0mtree\u001B[0m\u001B[1;33m.\u001B[0m\u001B[0mplot_tree\u001B[0m\u001B[1;33m(\u001B[0m\u001B[0mmodel_pruned\u001B[0m\u001B[1;33m)\u001B[0m\u001B[1;33m\u001B[0m\u001B[1;33m\u001B[0m\u001B[0m\n",
      "\u001B[1;32mc:\\users\\vio_g\\appdata\\local\\programs\\python\\python39\\lib\\site-packages\\pydotplus\\graphviz.py\u001B[0m in \u001B[0;36m<lambda>\u001B[1;34m(path, f, prog)\u001B[0m\n\u001B[0;32m   1808\u001B[0m                 \u001B[1;32mlambda\u001B[0m \u001B[0mpath\u001B[0m\u001B[1;33m,\u001B[0m\u001B[1;33m\u001B[0m\u001B[1;33m\u001B[0m\u001B[0m\n\u001B[0;32m   1809\u001B[0m                 \u001B[0mf\u001B[0m\u001B[1;33m=\u001B[0m\u001B[0mfrmt\u001B[0m\u001B[1;33m,\u001B[0m\u001B[1;33m\u001B[0m\u001B[1;33m\u001B[0m\u001B[0m\n\u001B[1;32m-> 1810\u001B[1;33m                 \u001B[0mprog\u001B[0m\u001B[1;33m=\u001B[0m\u001B[0mself\u001B[0m\u001B[1;33m.\u001B[0m\u001B[0mprog\u001B[0m\u001B[1;33m:\u001B[0m \u001B[0mself\u001B[0m\u001B[1;33m.\u001B[0m\u001B[0mwrite\u001B[0m\u001B[1;33m(\u001B[0m\u001B[0mpath\u001B[0m\u001B[1;33m,\u001B[0m \u001B[0mformat\u001B[0m\u001B[1;33m=\u001B[0m\u001B[0mf\u001B[0m\u001B[1;33m,\u001B[0m \u001B[0mprog\u001B[0m\u001B[1;33m=\u001B[0m\u001B[0mprog\u001B[0m\u001B[1;33m)\u001B[0m\u001B[1;33m\u001B[0m\u001B[1;33m\u001B[0m\u001B[0m\n\u001B[0m\u001B[0;32m   1811\u001B[0m             )\n\u001B[0;32m   1812\u001B[0m \u001B[1;33m\u001B[0m\u001B[0m\n",
      "\u001B[1;32mc:\\users\\vio_g\\appdata\\local\\programs\\python\\python39\\lib\\site-packages\\pydotplus\\graphviz.py\u001B[0m in \u001B[0;36mwrite\u001B[1;34m(self, path, prog, format)\u001B[0m\n\u001B[0;32m   1916\u001B[0m \u001B[1;33m\u001B[0m\u001B[0m\n\u001B[0;32m   1917\u001B[0m             \u001B[1;32melse\u001B[0m\u001B[1;33m:\u001B[0m\u001B[1;33m\u001B[0m\u001B[1;33m\u001B[0m\u001B[0m\n\u001B[1;32m-> 1918\u001B[1;33m                 \u001B[0mfobj\u001B[0m\u001B[1;33m.\u001B[0m\u001B[0mwrite\u001B[0m\u001B[1;33m(\u001B[0m\u001B[0mself\u001B[0m\u001B[1;33m.\u001B[0m\u001B[0mcreate\u001B[0m\u001B[1;33m(\u001B[0m\u001B[0mprog\u001B[0m\u001B[1;33m,\u001B[0m \u001B[0mformat\u001B[0m\u001B[1;33m)\u001B[0m\u001B[1;33m)\u001B[0m\u001B[1;33m\u001B[0m\u001B[1;33m\u001B[0m\u001B[0m\n\u001B[0m\u001B[0;32m   1919\u001B[0m         \u001B[1;32mfinally\u001B[0m\u001B[1;33m:\u001B[0m\u001B[1;33m\u001B[0m\u001B[1;33m\u001B[0m\u001B[0m\n\u001B[0;32m   1920\u001B[0m             \u001B[1;32mif\u001B[0m \u001B[0mclose\u001B[0m\u001B[1;33m:\u001B[0m\u001B[1;33m\u001B[0m\u001B[1;33m\u001B[0m\u001B[0m\n",
      "\u001B[1;32mc:\\users\\vio_g\\appdata\\local\\programs\\python\\python39\\lib\\site-packages\\pydotplus\\graphviz.py\u001B[0m in \u001B[0;36mcreate\u001B[1;34m(self, prog, format)\u001B[0m\n\u001B[0;32m   1957\u001B[0m             \u001B[0mself\u001B[0m\u001B[1;33m.\u001B[0m\u001B[0mprogs\u001B[0m \u001B[1;33m=\u001B[0m \u001B[0mfind_graphviz\u001B[0m\u001B[1;33m(\u001B[0m\u001B[1;33m)\u001B[0m\u001B[1;33m\u001B[0m\u001B[1;33m\u001B[0m\u001B[0m\n\u001B[0;32m   1958\u001B[0m             \u001B[1;32mif\u001B[0m \u001B[0mself\u001B[0m\u001B[1;33m.\u001B[0m\u001B[0mprogs\u001B[0m \u001B[1;32mis\u001B[0m \u001B[1;32mNone\u001B[0m\u001B[1;33m:\u001B[0m\u001B[1;33m\u001B[0m\u001B[1;33m\u001B[0m\u001B[0m\n\u001B[1;32m-> 1959\u001B[1;33m                 raise InvocationException(\n\u001B[0m\u001B[0;32m   1960\u001B[0m                     'GraphViz\\'s executables not found')\n\u001B[0;32m   1961\u001B[0m \u001B[1;33m\u001B[0m\u001B[0m\n",
      "\u001B[1;31mInvocationException\u001B[0m: GraphViz's executables not found"
     ]
    }
   ],
   "source": [
    "dot_data = StringIO()\n",
    "print(column_names)\n",
    "export_graphviz(model_pruned ,out_file=dot_data, filled=True, rounded=True, \n",
    "                special_characters=True, class_names=clases_names, feature_names=column_names)\n",
    "\n",
    "graph = pydotplus.graph_from_dot_data(dot_data.getvalue())\n",
    "graph.write_png(\"tree_optimized_prunning.png\")\n",
    "tree.plot_tree(model_pruned)"
   ],
   "metadata": {
    "collapsed": false,
    "pycharm": {
     "name": "#%%\n"
    }
   }
  },
  {
   "cell_type": "code",
   "execution_count": null,
   "outputs": [],
   "source": [],
   "metadata": {
    "collapsed": false,
    "pycharm": {
     "name": "#%%\n"
    }
   }
  }
 ]
}