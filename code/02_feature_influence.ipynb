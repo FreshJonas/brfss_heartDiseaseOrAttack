{
 "cells": [
  {
   "cell_type": "code",
   "execution_count": 8,
   "metadata": {
    "executionInfo": {
     "elapsed": 1016,
     "status": "ok",
     "timestamp": 1654694028038,
     "user": {
      "displayName": "Violeta Garcia Espin",
      "userId": "04637016062002400323"
     },
     "user_tz": -120
    },
    "id": "M2YKi5pxTPEL",
    "pycharm": {
     "name": "#%%\n"
    }
   },
   "outputs": [],
   "source": [
    "import sys\n",
    "import matplotlib.pyplot as plt\n",
    "import pandas as pd"
   ]
  },
  {
   "cell_type": "markdown",
   "metadata": {
    "id": "irQ-yb09TT1V",
    "pycharm": {
     "name": "#%% md\n"
    }
   },
   "source": [
    "Different functions will be used to plot presence of probability of heart disease for each feature. "
   ]
  },
  {
   "cell_type": "code",
   "execution_count": 9,
   "metadata": {
    "executionInfo": {
     "elapsed": 865,
     "status": "ok",
     "timestamp": 1654694032799,
     "user": {
      "displayName": "Violeta Garcia Espin",
      "userId": "04637016062002400323"
     },
     "user_tz": -120
    },
    "id": "TJMR1jHWTPEO",
    "pycharm": {
     "name": "#%%\n"
    }
   },
   "outputs": [],
   "source": [
    "def plotRelationshipBinary(data, x, y):\n",
    "    x_no_y_yes = data.value_counts([x, y])[0,1]\n",
    "    x_yes_y_yes = data.value_counts([x, y])[1,1]\n",
    "    x_yes_total = data[x].value_counts()[1]\n",
    "    x_no_total = data[x].value_counts()[0]\n",
    "\n",
    "    x_no_y_yes_perc = round(x_no_y_yes / x_no_total * 100, 2)\n",
    "    x_yes_y_yes_perc = round(x_yes_y_yes / x_yes_total * 100, 2)\n",
    "\n",
    "    x_axis_list = ['false','true']\n",
    "    y_axis_list = [x_no_y_yes_perc, x_yes_y_yes_perc]\n",
    "\n",
    "    plt.bar(x_axis_list, y_axis_list)\n",
    "    plt.ylabel(f'{y} %')\n",
    "    plt.xlabel(x)\n",
    "    plt.show()\n",
    "\n",
    "def getPlotDataframe(data, x, y, x_vals_list):\n",
    "    plot_df = pd.DataFrame(list(zip(x_vals_list, [-1] * len(x_vals_list))),\n",
    "               columns =['x', 'y'])\n",
    "\n",
    "    for index, row in plot_df.iterrows():\n",
    "        x_inRange_y_yes = data.value_counts([x, y])[row['x'],1]\n",
    "        x_inRange_total = data[x].value_counts()[row['x']]\n",
    "        plot_df.loc[index, 'y'] = round(x_inRange_y_yes / x_inRange_total * 100, 2)\n",
    "    \n",
    "    return plot_df\n",
    "\n",
    "def getPlotDataframeBlocks(data, x, y, x_vals_list, block_cnt):\n",
    "    data = pd.DataFrame(data)\n",
    "\n",
    "    max_value = max(x_vals_list)\n",
    "    min_value = min(x_vals_list)\n",
    "\n",
    "    value_range = max_value - min_value\n",
    "    step_size = value_range / (block_cnt - 1)\n",
    "\n",
    "    cut_off_list = []\n",
    "    cut_off_list.append(int(-sys.maxsize - 1))\n",
    "    cut_off_list.append(int(min_value))\n",
    "\n",
    "    for i in range(2, block_cnt - 1):\n",
    "        cut_off_list.append(round(cut_off_list[i - 1] + (step_size), 2))\n",
    "    cut_off_list.append(sys.maxsize)\n",
    "\n",
    "    y_yes_total = data.where(data[y] == 1)\n",
    "    x_InRange_total = data[x].value_counts(bins=cut_off_list, sort=False)\n",
    "    x_InRange_y_yes = y_yes_total[x].value_counts(bins=cut_off_list, sort=False)\n",
    "\n",
    "    x_y_relations = round(x_InRange_y_yes / x_InRange_total * 100, 2).tolist()\n",
    "    cut_off_list.pop(0)\n",
    "    cut_off_list[-1] = cut_off_list[-2] + step_size\n",
    "\n",
    "    return pd.DataFrame(zip(cut_off_list, x_y_relations), columns =['x', 'y'])\n",
    "    \n",
    "\n",
    "def plotRelationshipContinious(data, x, y, block_cnt):\n",
    "    \n",
    "    data = pd.DataFrame(data)\n",
    "\n",
    "    x_vals_list = data[x].unique()\n",
    "    x_vals_list.sort()\n",
    "    x_vals_list = x_vals_list.tolist()\n",
    "\n",
    "    x_vals_list_len = len(x_vals_list)\n",
    "\n",
    "    if x_vals_list_len > block_cnt:\n",
    "        plot_df = getPlotDataframeBlocks(data, x, y, x_vals_list, block_cnt)\n",
    "\n",
    "    else:\n",
    "        plot_df = getPlotDataframe(data, x, y, x_vals_list)\n",
    "\n",
    "    plt.bar(plot_df.x, plot_df.y, width=(max(plot_df.x) / len(plot_df.x) * 0.8))\n",
    "    plt.ylabel(f'{y} %')\n",
    "    plt.xlabel(x)\n",
    "    plt.show()"
   ]
  },
  {
   "cell_type": "code",
   "execution_count": 10,
   "metadata": {
    "colab": {
     "base_uri": "https://localhost:8080/",
     "height": 347
    },
    "executionInfo": {
     "elapsed": 661,
     "status": "error",
     "timestamp": 1654694371854,
     "user": {
      "displayName": "Violeta Garcia Espin",
      "userId": "04637016062002400323"
     },
     "user_tz": -120
    },
    "id": "rA_wmsNaTPES",
    "outputId": "9688bef2-23ac-4001-fc26-2426f7d5c88b",
    "pycharm": {
     "name": "#%%\n"
    }
   },
   "outputs": [
    {
     "data": {
      "text/html": [
       "<div>\n",
       "<style scoped>\n",
       "    .dataframe tbody tr th:only-of-type {\n",
       "        vertical-align: middle;\n",
       "    }\n",
       "\n",
       "    .dataframe tbody tr th {\n",
       "        vertical-align: top;\n",
       "    }\n",
       "\n",
       "    .dataframe thead th {\n",
       "        text-align: right;\n",
       "    }\n",
       "</style>\n",
       "<table border=\"1\" class=\"dataframe\">\n",
       "  <thead>\n",
       "    <tr style=\"text-align: right;\">\n",
       "      <th></th>\n",
       "      <th>HeartDiseaseorAttack</th>\n",
       "      <th>HighBP</th>\n",
       "      <th>HighChol</th>\n",
       "      <th>BMI</th>\n",
       "      <th>Smoker</th>\n",
       "      <th>Diabetes</th>\n",
       "      <th>PhysActivity</th>\n",
       "      <th>Fruits</th>\n",
       "      <th>Veggies</th>\n",
       "      <th>HvyAlcoholConsump</th>\n",
       "      <th>SexIsMale</th>\n",
       "      <th>AgeGroup</th>\n",
       "    </tr>\n",
       "  </thead>\n",
       "  <tbody>\n",
       "    <tr>\n",
       "      <th>0</th>\n",
       "      <td>0.0</td>\n",
       "      <td>1.0</td>\n",
       "      <td>1.0</td>\n",
       "      <td>0.320255</td>\n",
       "      <td>1.0</td>\n",
       "      <td>0.0</td>\n",
       "      <td>0.0</td>\n",
       "      <td>0.0</td>\n",
       "      <td>1.0</td>\n",
       "      <td>0.0</td>\n",
       "      <td>0.0</td>\n",
       "      <td>0.666667</td>\n",
       "    </tr>\n",
       "    <tr>\n",
       "      <th>1</th>\n",
       "      <td>0.0</td>\n",
       "      <td>0.0</td>\n",
       "      <td>0.0</td>\n",
       "      <td>0.148641</td>\n",
       "      <td>1.0</td>\n",
       "      <td>0.0</td>\n",
       "      <td>1.0</td>\n",
       "      <td>0.0</td>\n",
       "      <td>0.0</td>\n",
       "      <td>0.0</td>\n",
       "      <td>0.0</td>\n",
       "      <td>0.500000</td>\n",
       "    </tr>\n",
       "    <tr>\n",
       "      <th>2</th>\n",
       "      <td>0.0</td>\n",
       "      <td>1.0</td>\n",
       "      <td>1.0</td>\n",
       "      <td>0.183896</td>\n",
       "      <td>0.0</td>\n",
       "      <td>0.0</td>\n",
       "      <td>0.0</td>\n",
       "      <td>1.0</td>\n",
       "      <td>0.0</td>\n",
       "      <td>0.0</td>\n",
       "      <td>0.0</td>\n",
       "      <td>0.666667</td>\n",
       "    </tr>\n",
       "    <tr>\n",
       "      <th>3</th>\n",
       "      <td>0.0</td>\n",
       "      <td>1.0</td>\n",
       "      <td>0.0</td>\n",
       "      <td>0.164904</td>\n",
       "      <td>0.0</td>\n",
       "      <td>0.0</td>\n",
       "      <td>1.0</td>\n",
       "      <td>1.0</td>\n",
       "      <td>1.0</td>\n",
       "      <td>0.0</td>\n",
       "      <td>0.0</td>\n",
       "      <td>0.833333</td>\n",
       "    </tr>\n",
       "    <tr>\n",
       "      <th>4</th>\n",
       "      <td>0.0</td>\n",
       "      <td>1.0</td>\n",
       "      <td>1.0</td>\n",
       "      <td>0.134994</td>\n",
       "      <td>0.0</td>\n",
       "      <td>0.0</td>\n",
       "      <td>1.0</td>\n",
       "      <td>1.0</td>\n",
       "      <td>1.0</td>\n",
       "      <td>0.0</td>\n",
       "      <td>0.0</td>\n",
       "      <td>0.833333</td>\n",
       "    </tr>\n",
       "  </tbody>\n",
       "</table>\n",
       "</div>"
      ],
      "text/plain": [
       "   HeartDiseaseorAttack  HighBP  HighChol       BMI  Smoker  Diabetes  \\\n",
       "0                   0.0     1.0       1.0  0.320255     1.0       0.0   \n",
       "1                   0.0     0.0       0.0  0.148641     1.0       0.0   \n",
       "2                   0.0     1.0       1.0  0.183896     0.0       0.0   \n",
       "3                   0.0     1.0       0.0  0.164904     0.0       0.0   \n",
       "4                   0.0     1.0       1.0  0.134994     0.0       0.0   \n",
       "\n",
       "   PhysActivity  Fruits  Veggies  HvyAlcoholConsump  SexIsMale  AgeGroup  \n",
       "0           0.0     0.0      1.0                0.0        0.0  0.666667  \n",
       "1           1.0     0.0      0.0                0.0        0.0  0.500000  \n",
       "2           0.0     1.0      0.0                0.0        0.0  0.666667  \n",
       "3           1.0     1.0      1.0                0.0        0.0  0.833333  \n",
       "4           1.0     1.0      1.0                0.0        0.0  0.833333  "
      ]
     },
     "execution_count": 10,
     "metadata": {},
     "output_type": "execute_result"
    }
   ],
   "source": [
    "df = pd.read_csv( r'../data/2015_cleaned_droppedNAN.csv')\n",
    "df.head()"
   ]
  },
  {
   "cell_type": "code",
   "execution_count": 11,
   "metadata": {
    "id": "FjOk8cZ2TPEU",
    "outputId": "002d0fd1-f2fc-4cb6-b5ce-b267877836a1",
    "pycharm": {
     "name": "#%%\n"
    }
   },
   "outputs": [
    {
     "name": "stdout",
     "output_type": "stream",
     "text": [
      "<class 'pandas.core.frame.DataFrame'>\n",
      "RangeIndex: 292745 entries, 0 to 292744\n",
      "Data columns (total 12 columns):\n",
      " #   Column                Non-Null Count   Dtype  \n",
      "---  ------                --------------   -----  \n",
      " 0   HeartDiseaseorAttack  292745 non-null  float64\n",
      " 1   HighBP                292745 non-null  float64\n",
      " 2   HighChol              292745 non-null  float64\n",
      " 3   BMI                   292745 non-null  float64\n",
      " 4   Smoker                292745 non-null  float64\n",
      " 5   Diabetes              292745 non-null  float64\n",
      " 6   PhysActivity          292745 non-null  float64\n",
      " 7   Fruits                292745 non-null  float64\n",
      " 8   Veggies               292745 non-null  float64\n",
      " 9   HvyAlcoholConsump     292745 non-null  float64\n",
      " 10  SexIsMale             292745 non-null  float64\n",
      " 11  AgeGroup              292745 non-null  float64\n",
      "dtypes: float64(12)\n",
      "memory usage: 26.8 MB\n"
     ]
    }
   ],
   "source": [
    "df.info()"
   ]
  },
  {
   "cell_type": "markdown",
   "metadata": {
    "id": "4vNxz-gyVz6i",
    "pycharm": {
     "name": "#%% md\n"
    }
   },
   "source": [
    "# Plot for binary features"
   ]
  },
  {
   "cell_type": "code",
   "execution_count": 12,
   "metadata": {
    "id": "BPqw3c35TPEf",
    "outputId": "dc9e0c66-90be-42f1-892a-ea31198e4115",
    "pycharm": {
     "name": "#%%\n"
    }
   },
   "outputs": [
    {
     "data": {
      "image/png": "[encoded data removed]",
      "text/plain": [
       "<Figure size 432x288 with 1 Axes>"
      ]
     },
     "metadata": {
      "needs_background": "light"
     },
     "output_type": "display_data"
    },
    {
     "data": {
      "image/png": "[encoded data removed]",
      "text/plain": [
       "<Figure size 432x288 with 1 Axes>"
      ]
     },
     "metadata": {
      "needs_background": "light"
     },
     "output_type": "display_data"
    },
    {
     "data": {
      "image/png": "[encoded data removed]",
      "text/plain": [
       "<Figure size 432x288 with 1 Axes>"
      ]
     },
     "metadata": {
      "needs_background": "light"
     },
     "output_type": "display_data"
    },
    {
     "data": {
      "image/png": "[encoded data removed]",
      "text/plain": [
       "<Figure size 432x288 with 1 Axes>"
      ]
     },
     "metadata": {
      "needs_background": "light"
     },
     "output_type": "display_data"
    },
    {
     "data": {
      "image/png": "[encoded data removed]",
      "text/plain": [
       "<Figure size 432x288 with 1 Axes>"
      ]
     },
     "metadata": {
      "needs_background": "light"
     },
     "output_type": "display_data"
    },
    {
     "data": {
      "image/png": "[encoded data removed]",
      "text/plain": [
       "<Figure size 432x288 with 1 Axes>"
      ]
     },
     "metadata": {
      "needs_background": "light"
     },
     "output_type": "display_data"
    },
    {
     "data": {
      "image/png": "[encoded data removed]",
      "text/plain": [
       "<Figure size 432x288 with 1 Axes>"
      ]
     },
     "metadata": {
      "needs_background": "light"
     },
     "output_type": "display_data"
    },
    {
     "data": {
      "image/png": "[encoded data removed]",
      "text/plain": [
       "<Figure size 432x288 with 1 Axes>"
      ]
     },
     "metadata": {
      "needs_background": "light"
     },
     "output_type": "display_data"
    },
    {
     "data": {
      "image/png": "[encoded data removed]",
      "text/plain": [
       "<Figure size 432x288 with 1 Axes>"
      ]
     },
     "metadata": {
      "needs_background": "light"
     },
     "output_type": "display_data"
    }
   ],
   "source": [
    "plotRelationshipBinary(df, 'HighBP', 'HeartDiseaseorAttack')\n",
    "plotRelationshipBinary(df, 'HighChol', 'HeartDiseaseorAttack')\n",
    "plotRelationshipBinary(df, 'Smoker', 'HeartDiseaseorAttack')\n",
    "plotRelationshipBinary(df, 'Diabetes', 'HeartDiseaseorAttack')\n",
    "plotRelationshipBinary(df, 'PhysActivity', 'HeartDiseaseorAttack')\n",
    "plotRelationshipBinary(df, 'Fruits', 'HeartDiseaseorAttack')\n",
    "plotRelationshipBinary(df, 'Veggies', 'HeartDiseaseorAttack')\n",
    "plotRelationshipBinary(df, 'HvyAlcoholConsump', 'HeartDiseaseorAttack')\n",
    "plotRelationshipBinary(df, 'SexIsMale', 'HeartDiseaseorAttack')"
   ]
  },
  {
   "cell_type": "markdown",
   "metadata": {
    "id": "K7GuG5GcV3Oc",
    "pycharm": {
     "name": "#%% md\n"
    }
   },
   "source": [
    "# Plot for continues features\n",
    "\n",
    "Since the dataset is already scaled the values dont represent the actual values."
   ]
  },
  {
   "cell_type": "code",
   "execution_count": 14,
   "metadata": {
    "id": "jbHV0fzdTPEh",
    "outputId": "4e3e50b5-3604-4e1e-f7c3-609b18febbf4",
    "pycharm": {
     "name": "#%%\n"
    }
   },
   "outputs": [
    {
     "data": {
      "image/png": "[encoded data removed]",
      "text/plain": [
       "<Figure size 432x288 with 1 Axes>"
      ]
     },
     "metadata": {
      "needs_background": "light"
     },
     "output_type": "display_data"
    },
    {
     "data": {
      "image/png": "[encoded data removed]",
      "text/plain": [
       "<Figure size 432x288 with 1 Axes>"
      ]
     },
     "metadata": {
      "needs_background": "light"
     },
     "output_type": "display_data"
    }
   ],
   "source": [
    "plotRelationshipContinious(df, 'BMI', 'HeartDiseaseorAttack', 30)\n",
    "plotRelationshipContinious(df, 'AgeGroup', 'HeartDiseaseorAttack', 13)"
   ]
  },
  {
   "cell_type": "markdown",
   "metadata": {},
   "source": [
    "# Results\n",
    "\n",
    "* A clear relation between the values of the binary features and our target variable can be seen\n",
    "* The influence BMI has on the target is unclear while the the AgeGroup has a big direct influence"
   ]
  }
 ],
 "metadata": {
  "colab": {
   "collapsed_sections": [],
   "name": "02_feature_influence.ipynb",
   "provenance": []
  },
  "interpreter": {
   "hash": "69a9235b2799f09bc7a4d7fc4018927df298a0a697379818c8dec9478f72590e"
  },
  "kernelspec": {
   "display_name": "Python 3.10.0 64-bit",
   "language": "python",
   "name": "python3"
  },
  "language_info": {
   "codemirror_mode": {
    "name": "ipython",
    "version": 3
   },
   "file_extension": ".py",
   "mimetype": "text/x-python",
   "name": "python",
   "nbconvert_exporter": "python",
   "pygments_lexer": "ipython3",
   "version": "3.10.0"
  },
  "orig_nbformat": 4
 },
 "nbformat": 4,
 "nbformat_minor": 0
}
